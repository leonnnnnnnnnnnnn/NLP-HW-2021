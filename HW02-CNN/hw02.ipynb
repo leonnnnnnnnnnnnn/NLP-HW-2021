{
 "cells": [
  {
   "cell_type": "markdown",
   "metadata": {},
   "source": [
    "<h1><center>HW2 Convolutional neural networks for text classification\n",
    "</center></h1>\n",
    "\n",
    "In this homework you will learn how to build a simple convolutional neural networks (1 convolution layer with max pooling + 1 activation layer) from scratch, and use the model to solve text classification problem. As optional, you also have a chance to build real life CNN models using Keras + Tensorflow and use it to challenge the model you build from scratch. \n",
    "    "
   ]
  },
  {
   "cell_type": "markdown",
   "metadata": {},
   "source": [
    "<h3> 1. Math preliminaries </h3>\n",
    "\n",
    "Please answer all these questions:"
   ]
  },
  {
   "cell_type": "markdown",
   "metadata": {},
   "source": [
    "1. What is the form of sigmoid function $σ(z)$ ? Show that $σ′(z) = σ(z)[1 − σ(z)]$.\n",
    "<br/>"
   ]
  },
  {
   "cell_type": "markdown",
   "metadata": {},
   "source": [
    "**Solution:**\n",
    "$$\\sigma(z)=\\frac{1}{1+e^{-z}}$$\n",
    "$$\\sigma(z)^\\prime = \\frac{e^{-z}}{(1+e^{-z})^2} = \\frac{1}{1+e^{-z}}(\\frac{e^{-z}}{1+e^{-z}}) = \\sigma(x)(1-\\sigma(z))$$"
   ]
  },
  {
   "cell_type": "markdown",
   "metadata": {},
   "source": [
    "2. Another popular activation function is $tanh(z) = \\frac{e^z-e^{-z}}{e^z+e^{-z}}$ , show that $tanh′(z) = 1 − tanh(z)^2$.\n",
    "<br/>"
   ]
  },
  {
   "cell_type": "markdown",
   "metadata": {},
   "source": [
    "**Solution:**\n",
    "$$\\tanh(z)^\\prime = \\frac{(e^z + e^{-z})^2 - (e^z - e^{-z})^2}{(e^z + e^{-z})^2} = 1 - \\frac{(e^z - e^{-z})^2}{(e^z + e^{-z})^2} = 1 - tanh(z)^2$$"
   ]
  },
  {
   "cell_type": "markdown",
   "metadata": {},
   "source": [
    "3. For a single variable single layer perceptron with sigmoid activation function (equivalent\n",
    "to LR) and loss function defined as:\n",
    "<center>$\\hat{y}_i = σ ( w_1 x_i + w_0 )$ </center>\n",
    "<center>$L(w_0, w_1) = \\sum_i y_i lg(\\hat{y}_i)+(1−y_i)lg(1−\\hat{y}_i)$ </center>\n",
    "Show that:\n",
    "<center>$\\frac{∂L}{∂w_1} =\\sum_i(y_i−\\hat{y}_i)x_i$ </center>\n",
    "<center>$\\frac{∂L}{∂w_0} =\\sum_i(y−\\hat{y}_i)$  </center>\n",
    "<br/>"
   ]
  },
  {
   "cell_type": "markdown",
   "metadata": {},
   "source": [
    "**Solution:**  \n",
    "Let\\`s add a dummy dimension to $x$ so that we can write the mapping from $x$ to $\\hat{y}$ as $\\hat{y_i} = \\sigma(x^T_iw)$.  \n",
    "$$\\frac{\\partial \\hat{y_i}}{\\partial w} = \\hat{y_i}(1 - \\hat{y_i})x_i = [\\hat{y_i}(1 - \\hat{y_i})x_i, \\quad \\hat{y_i}(1-\\hat{y_i})]^T$$\n",
    "Then  \n",
    "$$\\frac{\\partial L(w)}{\\partial w} = \\frac{\\partial L(w)}{\\partial \\hat{y}} \\frac{\\partial \\hat{y}}{\\partial w} = \\sum_i (\\frac{y_i}{\\hat{y_i}} - \\frac{(1 - y_i)}{(1 - \\hat{y_i})})\\frac{\\partial \\hat{y_i}}{\\partial w} = \\sum_i \\frac{(y_i - \\hat{y_i})}{\\hat{y_i}(1 - \\hat{y_i})} \\frac{\\partial \\hat{y_i}}{\\partial w} = [\\sum_i (y_i - \\hat{y_i})x_i,\\quad \\sum_i (y_i - \\hat{y_i})]^T$$\n"
   ]
  },
  {
   "cell_type": "markdown",
   "metadata": {},
   "source": [
    "4. For column vectors $\\vec{x}$ and $\\vec{w}$ , and a symmetric matrix $\\overleftrightarrow{M}$, define the gradient operator:\n",
    "<center> $∇_\\vec{x} = (\\frac{∂}{∂x_0}, \\frac{∂}{∂x_1}, ...,\\frac{∂}{∂x_n})^T$ </center>\n",
    "show that:\n",
    "<center> $∇_x(\\vec{w}^T\\vec{x}) = \\vec{w}$ </center>\n",
    "<center> $∇_x(\\vec{x}^T\\vec{w}) = \\vec{w}$ </center>\n",
    "<center> $∇_x(\\vec{w}^T\\overleftrightarrow{M}\\vec{x}) = \\overleftrightarrow{M}\\vec{w}$ </center>\n",
    "<br/>"
   ]
  },
  {
   "cell_type": "markdown",
   "metadata": {},
   "source": [
    "**Solution:**  \n",
    "$$∇_x(\\vec{w}^T\\vec{x}) = ∇_x(\\sum_i x_i w_i) = [w_0,...,w_n]^T = \\vec{w}$$  \n",
    "\n",
    "$$∇_x(\\vec{x}^T\\vec{w}) = ∇_x(\\sum_i x_i w_i) = [w_0,...,w_n]^T = \\vec{w}$$\n",
    "\n",
    "$$∇_x(\\vec{w}^T\\overleftrightarrow{M}\\vec{x}) = ∇_x(\\sum_i w^T m_i x_i) = [w^Tm_1,...,w^Tm_n]^T = (w^TM)^T = \\overleftrightarrow{M}\\vec{w}$$\n",
    "where $M = [m0,...m_n]$, i.e. $m_i$ is the columns vector of $M$."
   ]
  },
  {
   "cell_type": "markdown",
   "metadata": {},
   "source": [
    "5. Let’s expand Q3 to a more general case. Suppose there is a single layer perceptron with multiple variables:\n",
    "<center> $\\hat{y}_i = σ( \\vec{w}^T \\vec{x_i} )$ </center>\n",
    "<center>$L(\\vec{w}) = \\sum_i y_i lg(\\hat{y}_i)+(1−y_i)lg(1−\\hat{y}_i)$ </center>\n",
    "show that:\n",
    "<center> $∇_\\vec{w}L(\\vec{w}) = \\sum_i(y_i - \\hat{y}_i)\\vec{x_i}$ </center>\n",
    "(hint: use the notation defined in Q4)\n",
    "<br/>\n",
    "<br/>\n",
    "\n",
    "**Solution:**  \n",
    "Showed in Q3"
   ]
  },
  {
   "cell_type": "markdown",
   "metadata": {},
   "source": [
    "6. In a CNN illustrated as Fig 1, suppose the loss function is:\n",
    "<center> $L(\\overleftrightarrow{U}, \\vec{w}) = \\sum_i y_i lg(\\hat{y}_i)+(1−y_i)lg(1−\\hat{y}_i)$ </center>\n",
    "From the conclusion in Q5, we can get that:\n",
    "<center> $∇_w L(\\overleftrightarrow{U}, \\vec{w}) = \\sum_i (y_i -\\hat{y}_i)\\vec{h}^{(i)}$ </center>\n",
    "Can you calculate $∇_{u_i} L(U,w)$ using similar techniques?\n",
    "\n",
    "<img src=\"CNN.png\" style=\"width:700px\">"
   ]
  },
  {
   "cell_type": "markdown",
   "metadata": {},
   "source": [
    "**Solution:**  \n",
    "*Change $u_i$ to $u_j$ for clearer reference(i: sample index, j: filter index), otherwise quite confusion...*  \n",
    "Define cost function $l$ such that $L(U, w) = \\sum_i l(y_i, \\hat{y_i})$. Then we have\n",
    "$$∇_{u_j} L(\\overleftrightarrow{U}, \\vec{w}) = \\sum_i \\frac{\\partial l}{\\partial h_j} \\frac{\\partial h_j}{\\partial u_j} = \\sum_i (y_i - \\hat{y_i})w_j(1 - h_j^2)x_m$$\n",
    "where $m = \\arg\\max_{p} u_j x_p \\forall p \\in [1, n-k+1]$.  \n",
    "More generally, we have:\n",
    "$$∇_u L(\\overleftrightarrow{U}, \\vec{w}) = \\sum_i (y_i - \\hat{y_i})w \\otimes (\\mathbf{1} - h\\otimes h)\\otimes X$$\n",
    "where $\\otimes$ is elementwise multiplication."
   ]
  },
  {
   "cell_type": "markdown",
   "metadata": {},
   "source": [
    "<h3> 2. Coding exercise </h3>\n",
    "\n",
    "Follow the instruction in the notebook, and implement the missing code to build the CNN classifier from scratch. Note that the training might be very slow. Consider reducing the training data size and vocabulary size for testing your code. Ask questions in Piazza/Wechat if you get blocked.\n",
    "\n",
    "Hint: In this CNN, words should be one-hot encoded, but we actually numerically encoded it in the code. This is a sparse trick we did to boost the efficiency, try to understand how it works.\n",
    "\n",
    "Some of the key details you will have a chance to implement:\n",
    "- Forward propagation of a CNN network\n",
    "- Backward propagation of a CNN network\n",
    "- Numerical gradient checking \n",
    "- Use Keras and TensorFlow to implement more complex CNN networks\n",
    "    \n",
    "You are given the following files:\n",
    "- `hw02.ipynb`: Notebook file with starter code\n",
    "- `train.txt`: Training set to train your model\n",
    "- `test.txt`: Test set to report your model’s performance\n",
    "- `sample_prediction.csv`: Sample file your prediction result should look like\n",
    "- `utils/`: folder containing all utility code for the series of homeworks\n",
    "\n",
    "<h3> 3. Deliverables (zip them all) </h3>\n",
    "\n",
    "- pdf version of your final notebook.  \n",
    "See the html attached.  \n",
    "\n",
    "\n",
    "- Use the best model you trained, generate the prediction for test.txt, name the\n",
    "output file prediction.csv (Be careful: the best model in your training set might not\n",
    "be the best model for the test set).  \n",
    "\n",
    "\n",
    "- After you finished the run, does the model perform better than the bag of words model you built last week? What do you think that contributes to the difference in performance?  \n",
    "I think the model barely outperforms the BOW model as we use one-hot encoding as the input to CNN, which increases the complexity of the model(more parameters) but doesn't bring the benefits in proportion.  \n",
    "\n",
    "\n",
    "- HW2_writeup.pdf: summarize the method you used and report their performance. If you worked on the optional task, add the discussion. Add a short essay discussing the biggest challenges you encounter during this assignment and what you have learnt.  \n",
    "\n",
    "The biggest challenges is to figure out the sparse matrix trick when implementing convolution and gradient calculation. I firstly tried using scipy.sinal.correlate to compute convolution with ndarray, which is extremely slow when matrix dimension is large. After applying the sparse matrix trick, the training speed increases dramatically even if I implmented it as a for-loop without any optimization.\n",
    "\n",
    "(**You are encouraged to add the writeup doc into your notebook\n",
    "using markdown/html langauge, just like how this notes is prepared**)"
   ]
  },
  {
   "cell_type": "markdown",
   "metadata": {},
   "source": [
    "# =============== Coding Starts Here ==================="
   ]
  },
  {
   "cell_type": "code",
   "execution_count": 1,
   "metadata": {
    "ExecuteTime": {
     "end_time": "2020-03-01T22:47:18.404322Z",
     "start_time": "2020-03-01T22:47:18.235083Z"
    }
   },
   "outputs": [],
   "source": [
    "%load_ext autoreload\n",
    "%autoreload 2\n",
    "%matplotlib inline\n",
    "import os\n",
    "import sys\n",
    "import pandas as pd\n",
    "import numpy as np\n",
    "from nltk.stem import WordNetLemmatizer\n",
    "from nltk import word_tokenize\n",
    "\n",
    "# add utils folder to path\n",
    "p = os.path.dirname(os.getcwd())\n",
    "if p not in sys.path:\n",
    "    sys.path = [p] + sys.path\n",
    "\n",
    "from utils.hw2 import load_data, save_prediction, read_vocab\n",
    "# from keras.utils import plot_model didn't work, changed it to from tensorflow.keras.utils import plot_model in utils.general.py\n",
    "from utils.general import sigmoid, tanh, show_keras_model"
   ]
  },
  {
   "cell_type": "markdown",
   "metadata": {
    "ExecuteTime": {
     "end_time": "2019-03-18T04:40:29.169465Z",
     "start_time": "2019-03-18T04:40:29.086590Z"
    }
   },
   "source": [
    "# CNN model \n",
    "Complete the code block in the cells in this section.\n",
    "\n",
    "* step1: Implement the pipeline method to process the raw input\n",
    "* step2: Implement the forward method\n",
    "* step3: Implement the backward method\n",
    "* step4: Run the cell below to train your model"
   ]
  },
  {
   "cell_type": "code",
   "execution_count": 2,
   "metadata": {},
   "outputs": [],
   "source": [
    "import pdb\n",
    "from time import time\n",
    "import numpy as np\n",
    "import matplotlib.pyplot as plt\n",
    "import seaborn as sns; sns.set()\n",
    "\n",
    "from sklearn.feature_extraction.text import CountVectorizer\n",
    "from sklearn.preprocessing import LabelEncoder\n",
    "from sklearn.model_selection import KFold\n",
    "from sklearn.metrics import accuracy_score\n",
    "\n",
    "import re\n",
    "import nltk\n",
    "from nltk.tokenize import word_tokenize\n",
    "from nltk.corpus import stopwords\n",
    "from nltk.stem import WordNetLemmatizer"
   ]
  },
  {
   "cell_type": "code",
   "execution_count": 3,
   "metadata": {},
   "outputs": [],
   "source": [
    "def preprocess_text(text: str, lmtzr=None, verbose=False):\n",
    "    \"\"\"Preprocess text data: remove symbols, stop words, and apply tokenization and lemmatization\"\"\"\n",
    "    if verbose:\n",
    "        print('='*80)\n",
    "        print('Preprocess Text Data')\n",
    "    text = text.strip()\n",
    "    \n",
    "    # remove symbols\n",
    "    text = re.sub(\"[^A-Za-z0-9' ]+\", ' ', text.lower().strip())\n",
    "    \n",
    "    # tokenization\n",
    "    if verbose:\n",
    "        print('_'*80)\n",
    "        print('Tokenization')\n",
    "    try:\n",
    "        nltk.data.find('tokenizers/punkt')\n",
    "    except LookupError:\n",
    "        print('downloading tokenizers/punkt.zig from nltk')\n",
    "        nltk.download('punkt')\n",
    "    text = word_tokenize(text)\n",
    "\n",
    "    # remove stopwords\n",
    "    if verbose:\n",
    "        print('_' * 80)\n",
    "        print('Remove stopwords')\n",
    "    try:\n",
    "        nltk.data.find('corpora/stopwords.zip')\n",
    "    except LookupError:\n",
    "        print('downloading corpora/stopwords.zig from nltk')\n",
    "        nltk.download('stopwords')\n",
    "    stop_words = set(stopwords.words('english'))\n",
    "    text = [word for word in text if word not in stop_words]\n",
    "\n",
    "    # lemmatization\n",
    "    if verbose:\n",
    "        print('_' * 80)\n",
    "        print('Lemmatization')\n",
    "    if not lmtzr:\n",
    "        try:\n",
    "            nltk.data.find('corpora/wordnet.zip')\n",
    "        except LookupError:\n",
    "            print('downloading corpora/wordnet.zig from nltk')\n",
    "            nltk.download('wordnet')\n",
    "        lmtzr = WordNetLemmatizer()\n",
    "    text = [lmtzr.lemmatize(word) for word in text]\n",
    "    return text"
   ]
  },
  {
   "cell_type": "code",
   "execution_count": 4,
   "metadata": {},
   "outputs": [],
   "source": [
    "def sigmoid(x: np.ndarray):\n",
    "    '''sigmoid for np.ndarray'''\n",
    "    return 1/(1+np.exp(-x))"
   ]
  },
  {
   "cell_type": "code",
   "execution_count": 5,
   "metadata": {},
   "outputs": [],
   "source": [
    "def logistic_loss(y, yhat):\n",
    "    return (-y*np.log(yhat) - (1-y)*np.log(1-yhat)).mean()"
   ]
  },
  {
   "cell_type": "code",
   "execution_count": 6,
   "metadata": {
    "ExecuteTime": {
     "end_time": "2020-03-12T00:54:57.880092Z",
     "start_time": "2020-03-12T00:54:57.598477Z"
    }
   },
   "outputs": [],
   "source": [
    "class CNNTextClassificationModel:\n",
    "    def __init__(self, vocab, sentence_length=None, window_size=2, F=100, alpha=0.05, random_state=0):\n",
    "        \"\"\"\n",
    "        F: number of filters\n",
    "        alpha: back propagatoin learning rate\n",
    "        \"\"\"\n",
    "        if not sentence_length:\n",
    "            self.sentence_length = window_size\n",
    "        else:\n",
    "            self.sentence_length = sentence_length\n",
    "            \n",
    "        assert self.sentence_length >= window_size, \"Sentence size cannot be shorter than the window size\"\n",
    "        self.vocab = vocab\n",
    "        \n",
    "        self.window_size = window_size\n",
    "        self.filter_size = len(vocab) * window_size\n",
    "        self.F = F\n",
    "        self.alpha = alpha\n",
    "        self.random_state = random_state\n",
    "        np.random.seed(seed=random_state)\n",
    "        \n",
    "        # U and w are the weights of the hidden layer, see Fig 1 in the pdf file\n",
    "        # U is the weight matrix of the 1D convolutional layer with shape: voc_size * window_size by num_filter\n",
    "        self.U = np.random.normal(loc=0, scale=0.01, size=(len(self.vocab), F, self.window_size))\n",
    "        # w is the weights of the activation layer (after max pooling)\n",
    "        self.w = np.random.normal(loc=0, scale=0.01, size=(F + 1))\n",
    "        \n",
    "    def pipeline(self, X):\n",
    "        \"\"\"\n",
    "        Data processing pipeline to:\n",
    "        1. Tokenize, Normalize the raw input\n",
    "        2. Translate raw data input into numerical encoded vectors with one-hot encoding\n",
    "        \n",
    "        :param X: raw data input\n",
    "        \"\"\"\n",
    "        X2 = [preprocess_text(x) for x in X]\n",
    "        unknown_index = self.vocab['__unknown__']\n",
    "        X2 = [x[:self.sentence_length] + ['__unknown__']*(self.sentence_length - len(x)) for x in X2]\n",
    "        return [[self.vocab.get(y, unknown_index) for y in x] for x in X2]\n",
    "    \n",
    "    @staticmethod\n",
    "    def accuracy(probs, labels):\n",
    "        assert len(probs) == len(labels), \"Wrong input!!\"\n",
    "        a = np.array(probs)\n",
    "        b = np.array(labels)\n",
    "        return 1.0 * (a==b).sum() / len(b) \n",
    "          \n",
    "    def train(self, X_train, y_train, X_dev, y_dev, nEpoch=50, batch_size=30, raw_text=True):\n",
    "        \"\"\"\n",
    "        Function to fit the model\n",
    "        :param X_train, X_dev: raw data input\n",
    "        :param y_train, y_dev: label \n",
    "        :nEpoch: number of training epoches\n",
    "        \"\"\"\n",
    "        train_score = []\n",
    "        \n",
    "        X_train = np.array(self.pipeline(X_train))\n",
    "        X_dev = np.array(self.pipeline(X_dev))\n",
    "        n_batch = len(X_train)//batch_size\n",
    "        kf = KFold(n_batch, shuffle=True, random_state=self.random_state)\n",
    "        \n",
    "        for epoch in range(nEpoch):\n",
    "            print(f'{\"=\"*40} Epoch: {epoch+1} START {\"=\"*40}\\n')\n",
    "            t1 = time()\n",
    "            for i, idx in enumerate(kf.split(X_train)):\n",
    "                self.fit(X_train[idx[1]], y_train[idx[1]])\n",
    "            t2 = time()\n",
    "#             pdb.set_trace()\n",
    "            pred_train, prob_train = self.predict(X_train)\n",
    "            t3 = time()\n",
    "            pred_dev, prob_dev = self.predict(X_dev)\n",
    "            t4 = time()\n",
    "            accuracy_train = self.accuracy(pred_train, y_train)\n",
    "            accuracy_dev = self.accuracy(pred_dev, y_dev)\n",
    "            loss_train = logistic_loss(y_train, np.array(prob_train))\n",
    "            loss_dev = logistic_loss(y_dev, np.array(prob_dev))\n",
    "            \n",
    "            train_score.append((accuracy_train, accuracy_dev, loss_train, loss_dev))\n",
    "            \n",
    "            print(f'\\tTrain accuracy: {accuracy_train:.6f}\\tDev accuracy: {accuracy_dev:.6f}\\n\\tTrain loss: {loss_train:.6f}\\tDev loss: {loss_dev:.6f}\\n\\ttraining time: {t2-t1: .3f}seconds\\tpredict train set time: {t3-t2: .3f}seconds\\tpredict dev set time: {t4-t3: .3f}seconds\\n{\"=\"*40} Epoch: {epoch+1} END {\"=\"*40}\\n')\n",
    "            \n",
    "        return train_score\n",
    "        \n",
    "    def fit(self, X, y):\n",
    "        \"\"\"\n",
    "        :param X: numerical encoded input\n",
    "        \"\"\"\n",
    "        for (data, label) in zip(X, y):\n",
    "            self.backward(data, label)\n",
    "        \n",
    "        return self\n",
    "        \n",
    "    def predict(self, X):\n",
    "        \"\"\"\n",
    "        :param X: numerical encoded input\n",
    "        \"\"\"\n",
    "        pred = []\n",
    "        prob = []\n",
    "        for data in X:\n",
    "            p = self.forward(data)[\"prob\"]\n",
    "            if p > 0.5:\n",
    "                pred.append(1)\n",
    "            else:\n",
    "                pred.append(0)\n",
    "            prob.append(p)\n",
    "        return pred, prob\n",
    "    \n",
    "    def forward(self, word_indices):\n",
    "        \"\"\"\n",
    "        :param word_indices: a list of numerically ecoded words\n",
    "        :return: a result dictionary containing 3 items -\n",
    "        result['prob']: \\hat y in Fig 1.\n",
    "        result['h']: the hidden layer output after max pooling, h = [h1, ..., hf]\n",
    "        result['hid']: argmax of F filters, e.g. j of x_j\n",
    "        e.g. for the ith filter u_i, tanh(word[hid[j], hid[j] + width]*u_i) = h_i\n",
    "        \"\"\"\n",
    "        assert len(word_indices) >= self.window_size, \"Input length cannot be shorter than the window size\"\n",
    "        h = np.zeros(self.F + 1, dtype=float)\n",
    "        hid = np.zeros(self.F, dtype=int)\n",
    "        prob = 0.0\n",
    "        \n",
    "        # layer 1. compute h and \n",
    "        for f in range(self.F):\n",
    "            for index in range(len(word_indices)-self.window_size+1):\n",
    "                convolution = 0\n",
    "                for j in range(self.window_size):\n",
    "                    convolution += self.U[word_indices[index+j],f,j]\n",
    "                if index == 0:\n",
    "                    h[f] = convolution\n",
    "                # max pooling, only keep the maximm    \n",
    "                if convolution > h[f]:\n",
    "                    h[f] = convolution\n",
    "                    hid[f] = index\n",
    "            h[f] = tanh(h[f])\n",
    "        h[self.F] = 1\n",
    "\n",
    "        # layer 2. compute probability\n",
    "        # once h and hid are computed, compute the probabiliy by sigmoid(h^TV)\n",
    "        #print(self.w[self.F],self.w.dot(h))\n",
    "        prob = sigmoid(self.w.dot(h))\n",
    "        return {\"prob\": prob, \"h\": h, \"hid\": hid}\n",
    "        \n",
    "    def backward(self, word_indices, label):\n",
    "        \"\"\"\n",
    "        Update the U, w using backward propagation\n",
    "        \n",
    "        :param word_indices: a list of numerically ecoded words\n",
    "        :param label: int 0 or 1\n",
    "        :return: None\n",
    "        \n",
    "        update weight matrix/vector U and V based on the loss function\n",
    "        \"\"\"\n",
    "        res = self.forward(word_indices)\n",
    "        prob = res[\"prob\"]\n",
    "        h = res[\"h\"]\n",
    "        hid = res[\"hid\"]\n",
    "\n",
    "        dw = self._calc_gradient_w(label, res['prob'], res['h'])\n",
    "        du = self._calc_gradient_U(label, res['prob'], res['h'], self.w)\n",
    "        self.w += self.alpha * dw\n",
    "        # update corresponding U_j\n",
    "        for f in range(self.F):\n",
    "            for j in range(self.window_size):\n",
    "                index = word_indices[hid[f]+j]\n",
    "                self.U[index,f,j] +=  du[f] * self.alpha\n",
    "\n",
    "    def _calc_gradient_w(self, y, yhat, h):\n",
    "        return (y - yhat) * h\n",
    "    \n",
    "    def _calc_gradient_U(self, y, yhat, h, w):\n",
    "        return (y - yhat) * w * (1 - h**2)"
   ]
  },
  {
   "cell_type": "code",
   "execution_count": 7,
   "metadata": {},
   "outputs": [],
   "source": [
    "from sklearn.model_selection import train_test_split\n",
    "data = load_data(\"train.txt\")\n",
    "vocab = read_vocab(\"vocab.txt\")\n",
    "X, y = data.text, data.target\n",
    "X_train, X_dev, y_train, y_dev = train_test_split(X[:2000], y[:2000], test_size=0.3)"
   ]
  },
  {
   "cell_type": "code",
   "execution_count": 8,
   "metadata": {},
   "outputs": [],
   "source": [
    "cls = CNNTextClassificationModel(vocab, sentence_length=5, window_size=5, F=100, alpha=0.02, random_state=0)"
   ]
  },
  {
   "cell_type": "markdown",
   "metadata": {},
   "source": [
    "### test with small sample"
   ]
  },
  {
   "cell_type": "code",
   "execution_count": 9,
   "metadata": {},
   "outputs": [
    {
     "name": "stdout",
     "output_type": "stream",
     "text": [
      "======================================== Epoch: 1 START ========================================\n",
      "\n",
      "\tTrain accuracy: 0.511429\tDev accuracy: 0.505000\n",
      "\tTrain loss: 0.693410\tDev loss: 0.695136\n",
      "\ttraining time:  1.997seconds\tpredict train set time:  0.690seconds\tpredict dev set time:  0.368seconds\n",
      "======================================== Epoch: 1 END ========================================\n",
      "\n",
      "======================================== Epoch: 2 START ========================================\n",
      "\n",
      "\tTrain accuracy: 0.511429\tDev accuracy: 0.505000\n",
      "\tTrain loss: 0.690633\tDev loss: 0.695229\n",
      "\ttraining time:  2.593seconds\tpredict train set time:  0.919seconds\tpredict dev set time:  0.462seconds\n",
      "======================================== Epoch: 2 END ========================================\n",
      "\n",
      "======================================== Epoch: 3 START ========================================\n",
      "\n",
      "\tTrain accuracy: 0.517857\tDev accuracy: 0.505000\n",
      "\tTrain loss: 0.679370\tDev loss: 0.695662\n",
      "\ttraining time:  2.290seconds\tpredict train set time:  0.874seconds\tpredict dev set time:  0.292seconds\n",
      "======================================== Epoch: 3 END ========================================\n",
      "\n",
      "======================================== Epoch: 4 START ========================================\n",
      "\n",
      "\tTrain accuracy: 0.695714\tDev accuracy: 0.521667\n",
      "\tTrain loss: 0.642214\tDev loss: 0.697344\n",
      "\ttraining time:  2.016seconds\tpredict train set time:  1.043seconds\tpredict dev set time:  0.364seconds\n",
      "======================================== Epoch: 4 END ========================================\n",
      "\n",
      "======================================== Epoch: 5 START ========================================\n",
      "\n",
      "\tTrain accuracy: 0.845000\tDev accuracy: 0.525000\n",
      "\tTrain loss: 0.551579\tDev loss: 0.700053\n",
      "\ttraining time:  2.287seconds\tpredict train set time:  0.850seconds\tpredict dev set time:  0.392seconds\n",
      "======================================== Epoch: 5 END ========================================\n",
      "\n",
      "======================================== Epoch: 6 START ========================================\n",
      "\n",
      "\tTrain accuracy: 0.935714\tDev accuracy: 0.523333\n",
      "\tTrain loss: 0.402181\tDev loss: 0.706219\n",
      "\ttraining time:  2.327seconds\tpredict train set time:  0.761seconds\tpredict dev set time:  0.394seconds\n",
      "======================================== Epoch: 6 END ========================================\n",
      "\n",
      "======================================== Epoch: 7 START ========================================\n",
      "\n",
      "\tTrain accuracy: 0.977857\tDev accuracy: 0.535000\n",
      "\tTrain loss: 0.246293\tDev loss: 0.727716\n",
      "\ttraining time:  2.074seconds\tpredict train set time:  1.056seconds\tpredict dev set time:  0.302seconds\n",
      "======================================== Epoch: 7 END ========================================\n",
      "\n",
      "======================================== Epoch: 8 START ========================================\n",
      "\n",
      "\tTrain accuracy: 0.993571\tDev accuracy: 0.550000\n",
      "\tTrain loss: 0.141842\tDev loss: 0.770241\n",
      "\ttraining time:  2.501seconds\tpredict train set time:  0.719seconds\tpredict dev set time:  0.351seconds\n",
      "======================================== Epoch: 8 END ========================================\n",
      "\n",
      "======================================== Epoch: 9 START ========================================\n",
      "\n",
      "\tTrain accuracy: 0.996429\tDev accuracy: 0.548333\n",
      "\tTrain loss: 0.086682\tDev loss: 0.820381\n",
      "\ttraining time:  2.795seconds\tpredict train set time:  0.972seconds\tpredict dev set time:  0.442seconds\n",
      "======================================== Epoch: 9 END ========================================\n",
      "\n",
      "======================================== Epoch: 10 START ========================================\n",
      "\n",
      "\tTrain accuracy: 0.997857\tDev accuracy: 0.540000\n",
      "\tTrain loss: 0.058767\tDev loss: 0.866873\n",
      "\ttraining time:  2.438seconds\tpredict train set time:  0.705seconds\tpredict dev set time:  0.327seconds\n",
      "======================================== Epoch: 10 END ========================================\n",
      "\n"
     ]
    }
   ],
   "source": [
    "train_score = cls.train(X_train, y_train, X_dev, y_dev, nEpoch=10, batch_size=10)\n",
    "train_score = pd.DataFrame(train_score, columns=['train_acc', 'val_acc', 'train_loss', 'val_loss'])"
   ]
  },
  {
   "cell_type": "code",
   "execution_count": 10,
   "metadata": {},
   "outputs": [
    {
     "data": {
      "image/png": "[encoded data removed]",
      "text/plain": [
       "<Figure size 720x360 with 2 Axes>"
      ]
     },
     "metadata": {},
     "output_type": "display_data"
    }
   ],
   "source": [
    "fig, ax = plt.subplots(figsize=(10, 5))\n",
    "_ = train_score.iloc[:, :2].plot(ax=ax)\n",
    "ax2 = ax.twinx()\n",
    "_ = train_score.iloc[:, 2:].plot(ax=ax2, style='.-')\n",
    "_ = ax.set_ylabel('accuracy')\n",
    "_ = ax2.set_ylabel('loss')\n",
    "_ = ax.legend(loc=2)\n",
    "_ = ax2.legend(loc=1)"
   ]
  },
  {
   "cell_type": "markdown",
   "metadata": {},
   "source": [
    "### train final model with all data"
   ]
  },
  {
   "cell_type": "code",
   "execution_count": 149,
   "metadata": {
    "collapsed": true
   },
   "outputs": [
    {
     "name": "stdout",
     "output_type": "stream",
     "text": [
      "======================================== Epoch: 1 START ========================================\n",
      "\n",
      "\tTrain accuracy: 0.536286\tDev accuracy: 0.512333\n",
      "\tTrain loss: 0.692160\tDev loss: 0.692858\n",
      "\ttraining time:  10.913seconds\tpredict train set time:  7.317seconds\tpredict dev set time:  3.315seconds\n",
      "======================================== Epoch: 1 END ========================================\n",
      "\n",
      "======================================== Epoch: 2 START ========================================\n",
      "\n",
      "\tTrain accuracy: 0.663714\tDev accuracy: 0.558667\n",
      "\tTrain loss: 0.680127\tDev loss: 0.688723\n",
      "\ttraining time:  11.583seconds\tpredict train set time:  6.920seconds\tpredict dev set time:  3.236seconds\n",
      "======================================== Epoch: 2 END ========================================\n",
      "\n",
      "======================================== Epoch: 3 START ========================================\n",
      "\n",
      "\tTrain accuracy: 0.754714\tDev accuracy: 0.592667\n",
      "\tTrain loss: 0.615063\tDev loss: 0.671597\n",
      "\ttraining time:  12.285seconds\tpredict train set time:  7.492seconds\tpredict dev set time:  3.260seconds\n",
      "======================================== Epoch: 3 END ========================================\n",
      "\n",
      "======================================== Epoch: 4 START ========================================\n",
      "\n",
      "\tTrain accuracy: 0.843286\tDev accuracy: 0.619000\n",
      "\tTrain loss: 0.463029\tDev loss: 0.659019\n",
      "\ttraining time:  12.498seconds\tpredict train set time:  7.995seconds\tpredict dev set time:  2.933seconds\n",
      "======================================== Epoch: 4 END ========================================\n",
      "\n",
      "======================================== Epoch: 5 START ========================================\n",
      "\n",
      "\tTrain accuracy: 0.918143\tDev accuracy: 0.626000\n",
      "\tTrain loss: 0.289439\tDev loss: 0.686208\n",
      "\ttraining time:  12.374seconds\tpredict train set time:  7.999seconds\tpredict dev set time:  3.098seconds\n",
      "======================================== Epoch: 5 END ========================================\n",
      "\n",
      "======================================== Epoch: 6 START ========================================\n",
      "\n",
      "\tTrain accuracy: 0.960857\tDev accuracy: 0.622000\n",
      "\tTrain loss: 0.162441\tDev loss: 0.739976\n",
      "\ttraining time:  12.308seconds\tpredict train set time:  7.235seconds\tpredict dev set time:  3.357seconds\n",
      "======================================== Epoch: 6 END ========================================\n",
      "\n",
      "======================================== Epoch: 7 START ========================================\n",
      "\n",
      "\tTrain accuracy: 0.982571\tDev accuracy: 0.627333\n",
      "\tTrain loss: 0.091681\tDev loss: 0.789036\n",
      "\ttraining time:  12.155seconds\tpredict train set time:  7.244seconds\tpredict dev set time:  3.676seconds\n",
      "======================================== Epoch: 7 END ========================================\n",
      "\n",
      "======================================== Epoch: 8 START ========================================\n",
      "\n",
      "\tTrain accuracy: 0.990714\tDev accuracy: 0.628333\n",
      "\tTrain loss: 0.058219\tDev loss: 0.829360\n",
      "\ttraining time:  12.346seconds\tpredict train set time:  8.197seconds\tpredict dev set time:  3.464seconds\n",
      "======================================== Epoch: 8 END ========================================\n",
      "\n",
      "======================================== Epoch: 9 START ========================================\n",
      "\n",
      "\tTrain accuracy: 0.994286\tDev accuracy: 0.624667\n",
      "\tTrain loss: 0.043131\tDev loss: 0.863345\n",
      "\ttraining time:  11.388seconds\tpredict train set time:  7.224seconds\tpredict dev set time:  3.482seconds\n",
      "======================================== Epoch: 9 END ========================================\n",
      "\n",
      "======================================== Epoch: 10 START ========================================\n",
      "\n",
      "\tTrain accuracy: 0.994429\tDev accuracy: 0.627000\n",
      "\tTrain loss: 0.037393\tDev loss: 0.894182\n",
      "\ttraining time:  12.534seconds\tpredict train set time:  8.325seconds\tpredict dev set time:  3.291seconds\n",
      "======================================== Epoch: 10 END ========================================\n",
      "\n",
      "======================================== Epoch: 11 START ========================================\n",
      "\n",
      "\tTrain accuracy: 0.992429\tDev accuracy: 0.627667\n",
      "\tTrain loss: 0.037423\tDev loss: 0.930216\n",
      "\ttraining time:  12.057seconds\tpredict train set time:  7.139seconds\tpredict dev set time:  6.921seconds\n",
      "======================================== Epoch: 11 END ========================================\n",
      "\n",
      "======================================== Epoch: 12 START ========================================\n",
      "\n",
      "\tTrain accuracy: 0.989571\tDev accuracy: 0.629333\n",
      "\tTrain loss: 0.041579\tDev loss: 0.969923\n",
      "\ttraining time:  15.385seconds\tpredict train set time:  9.339seconds\tpredict dev set time:  3.415seconds\n",
      "======================================== Epoch: 12 END ========================================\n",
      "\n",
      "======================================== Epoch: 13 START ========================================\n",
      "\n",
      "\tTrain accuracy: 0.985571\tDev accuracy: 0.622000\n",
      "\tTrain loss: 0.049871\tDev loss: 1.016674\n",
      "\ttraining time:  11.668seconds\tpredict train set time:  7.195seconds\tpredict dev set time:  3.074seconds\n",
      "======================================== Epoch: 13 END ========================================\n",
      "\n",
      "======================================== Epoch: 14 START ========================================\n",
      "\n",
      "\tTrain accuracy: 0.983143\tDev accuracy: 0.619333\n",
      "\tTrain loss: 0.058748\tDev loss: 1.062397\n",
      "\ttraining time:  11.282seconds\tpredict train set time:  6.936seconds\tpredict dev set time:  3.117seconds\n",
      "======================================== Epoch: 14 END ========================================\n",
      "\n",
      "======================================== Epoch: 15 START ========================================\n",
      "\n",
      "\tTrain accuracy: 0.979286\tDev accuracy: 0.617667\n",
      "\tTrain loss: 0.066995\tDev loss: 1.102438\n",
      "\ttraining time:  10.682seconds\tpredict train set time:  6.823seconds\tpredict dev set time:  3.699seconds\n",
      "======================================== Epoch: 15 END ========================================\n",
      "\n",
      "======================================== Epoch: 16 START ========================================\n",
      "\n",
      "\tTrain accuracy: 0.976714\tDev accuracy: 0.617333\n",
      "\tTrain loss: 0.072843\tDev loss: 1.136285\n",
      "\ttraining time:  12.104seconds\tpredict train set time:  7.311seconds\tpredict dev set time:  2.937seconds\n",
      "======================================== Epoch: 16 END ========================================\n",
      "\n",
      "======================================== Epoch: 17 START ========================================\n",
      "\n",
      "\tTrain accuracy: 0.974857\tDev accuracy: 0.617333\n",
      "\tTrain loss: 0.077428\tDev loss: 1.164265\n",
      "\ttraining time:  11.655seconds\tpredict train set time:  6.615seconds\tpredict dev set time:  2.843seconds\n",
      "======================================== Epoch: 17 END ========================================\n",
      "\n",
      "======================================== Epoch: 18 START ========================================\n",
      "\n",
      "\tTrain accuracy: 0.974429\tDev accuracy: 0.616333\n",
      "\tTrain loss: 0.079086\tDev loss: 1.185135\n",
      "\ttraining time:  10.722seconds\tpredict train set time:  6.554seconds\tpredict dev set time:  3.066seconds\n",
      "======================================== Epoch: 18 END ========================================\n",
      "\n",
      "======================================== Epoch: 19 START ========================================\n",
      "\n",
      "\tTrain accuracy: 0.974000\tDev accuracy: 0.616333\n",
      "\tTrain loss: 0.081566\tDev loss: 1.206292\n",
      "\ttraining time:  13.635seconds\tpredict train set time:  7.318seconds\tpredict dev set time:  3.388seconds\n",
      "======================================== Epoch: 19 END ========================================\n",
      "\n",
      "======================================== Epoch: 20 START ========================================\n",
      "\n",
      "\tTrain accuracy: 0.973429\tDev accuracy: 0.617333\n",
      "\tTrain loss: 0.082625\tDev loss: 1.222372\n",
      "\ttraining time:  11.933seconds\tpredict train set time:  7.045seconds\tpredict dev set time:  3.231seconds\n",
      "======================================== Epoch: 20 END ========================================\n",
      "\n"
     ]
    }
   ],
   "source": [
    "\"\"\"\n",
    "This cell shows you how the model will be used, you have to finish the cell below before you\n",
    "can run this cell. \n",
    "\n",
    "Once the implementation is done, you should hype tune the parameters to find the best config\n",
    "\n",
    "Note I only selected 2000 data points to speed up debugging, you should use all the data to train the \n",
    "final model\n",
    "\"\"\"\n",
    "from sklearn.model_selection import train_test_split\n",
    "data = load_data(\"train.txt\")\n",
    "vocab = read_vocab(\"vocab.txt\")\n",
    "X, y = data.text, data.target\n",
    "X_train, X_dev, y_train, y_dev = train_test_split(X, y, test_size=0.3)\n",
    "cls = CNNTextClassificationModel(vocab, sentence_length=5, window_size=3, F=100, alpha=0.02)\n",
    "train_score = cls.train(X_train, y_train, X_dev, y_dev, nEpoch=20, batch_size=10)"
   ]
  },
  {
   "cell_type": "code",
   "execution_count": 152,
   "metadata": {},
   "outputs": [],
   "source": [
    "train_score = pd.DataFrame(train_score, columns=['train_acc', 'val_acc', 'train_loss', 'val_loss'])"
   ]
  },
  {
   "cell_type": "code",
   "execution_count": 163,
   "metadata": {},
   "outputs": [
    {
     "data": {
      "image/png": "[encoded data removed]",
      "text/plain": [
       "<Figure size 720x360 with 2 Axes>"
      ]
     },
     "metadata": {},
     "output_type": "display_data"
    }
   ],
   "source": [
    "fig, ax = plt.subplots(figsize=(10, 5))\n",
    "_ = train_score.iloc[:, :2].plot(ax=ax)\n",
    "ax2 = ax.twinx()\n",
    "_ = train_score.iloc[:, 2:].plot(ax=ax2, style='.-')\n",
    "_ = ax.set_ylabel('accuracy')\n",
    "_ = ax2.set_ylabel('loss')\n",
    "_ = ax.legend(loc=2)\n",
    "_ = ax2.legend(loc=1)"
   ]
  },
  {
   "cell_type": "code",
   "execution_count": 164,
   "metadata": {},
   "outputs": [],
   "source": [
    "from utils.hw1 import save_prediction"
   ]
  },
  {
   "cell_type": "code",
   "execution_count": 165,
   "metadata": {},
   "outputs": [],
   "source": [
    "test_data = load_data(\"test.txt\")\n",
    "X_test = test_data.text\n",
    "X_test = cls.pipeline(X_test)\n",
    "pred, _ = cls.predict(X_test)\n",
    "save_prediction(pred)"
   ]
  },
  {
   "cell_type": "code",
   "execution_count": null,
   "metadata": {},
   "outputs": [],
   "source": []
  },
  {
   "cell_type": "markdown",
   "metadata": {},
   "source": [
    "# Optional: Build your model using Keras + Tensorflow\n",
    "\n",
    "So far we have always forced you to implement things from scratch. You may feel it's overwhelming, but fortunately, it is not how the real world works. In the real world, there are existing tools you can leverage, so you can focus on the most innovative part of your work. We asked you to do all the previous execises for learning purpose, and since you have already reached so far, it's time to unleash yourself and allow you the access to the real world toolings."
   ]
  },
  {
   "cell_type": "markdown",
   "metadata": {},
   "source": [
    "## Sample model "
   ]
  },
  {
   "cell_type": "code",
   "execution_count": 11,
   "metadata": {
    "ExecuteTime": {
     "end_time": "2019-03-20T05:06:30.995290Z",
     "start_time": "2019-03-20T05:06:30.927192Z"
    }
   },
   "outputs": [],
   "source": [
    "# First let's see how you can build a similar CNN model you just had using Keras\n",
    "from sklearn.pipeline import Pipeline\n",
    "from sklearn.preprocessing import OneHotEncoder\n",
    "\n",
    "MAX_LENGTH = 100"
   ]
  },
  {
   "cell_type": "code",
   "execution_count": 13,
   "metadata": {
    "ExecuteTime": {
     "end_time": "2019-03-20T05:03:13.785839Z",
     "start_time": "2019-03-20T05:03:13.732270Z"
    }
   },
   "outputs": [],
   "source": [
    "# Yes! it is a good practice to do data processing outside the ML model\n",
    "wnet = WordNetLemmatizer()\n",
    "# Numerical encode all the words\n",
    "unknown = vocab['__unknown__']\n",
    "X_train2 = [[vocab.get(wnet.lemmatize(w), unknown) for w in word_tokenize(sent)] for sent in X_train]\n",
    "X_dev2 = [[vocab.get(wnet.lemmatize(w), unknown)for w in word_tokenize(sent)] for sent in X_dev]\n",
    "\n",
    "# Tensorflow does not handle variable length input well, let's unify all input to the same length\n",
    "def trim_X(X, max_length=100, default=vocab['.']):\n",
    "    for i in range(len(X)):\n",
    "        if len(X[i]) > max_length:\n",
    "            X[i] = X[i][:max_length]\n",
    "        elif len(X[i]) < max_length:\n",
    "            X[i] = X[i] + [default] * (max_length - len(X[i]))\n",
    "            \n",
    "    return np.array(X)\n",
    "            \n",
    "X_train2 = trim_X(X_train2, MAX_LENGTH)\n",
    "X_dev2 = trim_X(X_dev2, MAX_LENGTH)\n",
    "\n",
    "\n",
    "# Now we have all the input data nicely encoded with numerical label, and each of the input data are trimmed \n",
    "# to have the same length. We would have needed to further apply one-hot encode for each word. However, this \n",
    "# would be very expensive, since each word will be expanded into a len(vocab) (~10000) length vector. Keras does\n",
    "# not support sparse matrix input at this moment. But don't worry, we will use an advanced technique called embedding\n",
    "# layer. This concept will be introduced in the next lesson. At this moment, you don't have to understand why."
   ]
  },
  {
   "cell_type": "code",
   "execution_count": 14,
   "metadata": {
    "ExecuteTime": {
     "end_time": "2019-03-20T05:38:00.091414Z",
     "start_time": "2019-03-20T05:37:59.875258Z"
    }
   },
   "outputs": [
    {
     "name": "stdout",
     "output_type": "stream",
     "text": [
      "Model: \"sequential\"\n",
      "_________________________________________________________________\n",
      "Layer (type)                 Output Shape              Param #   \n",
      "=================================================================\n",
      "Embedding-1 (Embedding)      (None, 100, 1024)         10241024  \n",
      "_________________________________________________________________\n",
      "Conv1D-1 (Conv1D)            (None, 99, 100)           204900    \n",
      "_________________________________________________________________\n",
      "MaxPooling1D-1 (GlobalMaxPoo (None, 100)               0         \n",
      "_________________________________________________________________\n",
      "Dense-1 (Dense)              (None, 1)                 101       \n",
      "=================================================================\n",
      "Total params: 10,446,025\n",
      "Trainable params: 10,446,025\n",
      "Non-trainable params: 0\n",
      "_________________________________________________________________\n",
      "None\n"
     ]
    },
    {
     "ename": "AssertionError",
     "evalue": "",
     "output_type": "error",
     "traceback": [
      "\u001b[0;31m---------------------------------------------------------------------------\u001b[0m",
      "\u001b[0;31mAssertionError\u001b[0m                            Traceback (most recent call last)",
      "\u001b[0;32m<ipython-input-14-b017e5608208>\u001b[0m in \u001b[0;36m<module>\u001b[0;34m\u001b[0m\n\u001b[1;32m      9\u001b[0m \u001b[0mprint\u001b[0m\u001b[0;34m(\u001b[0m\u001b[0mmodel\u001b[0m\u001b[0;34m.\u001b[0m\u001b[0msummary\u001b[0m\u001b[0;34m(\u001b[0m\u001b[0;34m)\u001b[0m\u001b[0;34m)\u001b[0m\u001b[0;34m\u001b[0m\u001b[0;34m\u001b[0m\u001b[0m\n\u001b[1;32m     10\u001b[0m \u001b[0;34m\u001b[0m\u001b[0m\n\u001b[0;32m---> 11\u001b[0;31m \u001b[0mshow_keras_model\u001b[0m\u001b[0;34m(\u001b[0m\u001b[0mmodel\u001b[0m\u001b[0;34m)\u001b[0m\u001b[0;34m\u001b[0m\u001b[0;34m\u001b[0m\u001b[0m\n\u001b[0m",
      "\u001b[0;32m~/Desktop/qishi/qishi_nlp/NLP-HW-2021/utils/general.py\u001b[0m in \u001b[0;36mshow_keras_model\u001b[0;34m(model)\u001b[0m\n\u001b[1;32m     11\u001b[0m \u001b[0;32mdef\u001b[0m \u001b[0mshow_keras_model\u001b[0m\u001b[0;34m(\u001b[0m\u001b[0mmodel\u001b[0m\u001b[0;34m)\u001b[0m\u001b[0;34m:\u001b[0m\u001b[0;34m\u001b[0m\u001b[0;34m\u001b[0m\u001b[0m\n\u001b[1;32m     12\u001b[0m     \u001b[0mfilename\u001b[0m \u001b[0;34m=\u001b[0m \u001b[0;34m\"\"\u001b[0m\u001b[0;34m.\u001b[0m\u001b[0mjoin\u001b[0m\u001b[0;34m(\u001b[0m\u001b[0mrandom\u001b[0m\u001b[0;34m.\u001b[0m\u001b[0mchoices\u001b[0m\u001b[0;34m(\u001b[0m\u001b[0mstring\u001b[0m\u001b[0;34m.\u001b[0m\u001b[0mascii_uppercase\u001b[0m\u001b[0;34m,\u001b[0m \u001b[0mk\u001b[0m\u001b[0;34m=\u001b[0m\u001b[0;36m10\u001b[0m\u001b[0;34m)\u001b[0m\u001b[0;34m)\u001b[0m \u001b[0;34m+\u001b[0m \u001b[0;34m\".png\"\u001b[0m\u001b[0;34m\u001b[0m\u001b[0;34m\u001b[0m\u001b[0m\n\u001b[0;32m---> 13\u001b[0;31m     \u001b[0mplot_model\u001b[0m\u001b[0;34m(\u001b[0m\u001b[0mmodel\u001b[0m\u001b[0;34m,\u001b[0m \u001b[0mto_file\u001b[0m\u001b[0;34m=\u001b[0m\u001b[0mfilename\u001b[0m\u001b[0;34m,\u001b[0m \u001b[0mshow_shapes\u001b[0m\u001b[0;34m=\u001b[0m\u001b[0;32mTrue\u001b[0m\u001b[0;34m,\u001b[0m \u001b[0mshow_layer_names\u001b[0m\u001b[0;34m=\u001b[0m\u001b[0;32mTrue\u001b[0m\u001b[0;34m)\u001b[0m\u001b[0;34m\u001b[0m\u001b[0;34m\u001b[0m\u001b[0m\n\u001b[0m\u001b[1;32m     14\u001b[0m     \u001b[0mimage\u001b[0m \u001b[0;34m=\u001b[0m \u001b[0mImage\u001b[0m\u001b[0;34m(\u001b[0m\u001b[0mfilename\u001b[0m\u001b[0;34m)\u001b[0m\u001b[0;34m\u001b[0m\u001b[0;34m\u001b[0m\u001b[0m\n\u001b[1;32m     15\u001b[0m     \u001b[0mos\u001b[0m\u001b[0;34m.\u001b[0m\u001b[0mremove\u001b[0m\u001b[0;34m(\u001b[0m\u001b[0mfilename\u001b[0m\u001b[0;34m)\u001b[0m\u001b[0;34m\u001b[0m\u001b[0;34m\u001b[0m\u001b[0m\n",
      "\u001b[0;32m~/opt/anaconda3/lib/python3.7/site-packages/tensorflow/python/keras/utils/vis_utils.py\u001b[0m in \u001b[0;36mplot_model\u001b[0;34m(model, to_file, show_shapes, show_dtype, show_layer_names, rankdir, expand_nested, dpi)\u001b[0m\n\u001b[1;32m    327\u001b[0m       \u001b[0mrankdir\u001b[0m\u001b[0;34m=\u001b[0m\u001b[0mrankdir\u001b[0m\u001b[0;34m,\u001b[0m\u001b[0;34m\u001b[0m\u001b[0;34m\u001b[0m\u001b[0m\n\u001b[1;32m    328\u001b[0m       \u001b[0mexpand_nested\u001b[0m\u001b[0;34m=\u001b[0m\u001b[0mexpand_nested\u001b[0m\u001b[0;34m,\u001b[0m\u001b[0;34m\u001b[0m\u001b[0;34m\u001b[0m\u001b[0m\n\u001b[0;32m--> 329\u001b[0;31m       dpi=dpi)\n\u001b[0m\u001b[1;32m    330\u001b[0m   \u001b[0mto_file\u001b[0m \u001b[0;34m=\u001b[0m \u001b[0mpath_to_string\u001b[0m\u001b[0;34m(\u001b[0m\u001b[0mto_file\u001b[0m\u001b[0;34m)\u001b[0m\u001b[0;34m\u001b[0m\u001b[0;34m\u001b[0m\u001b[0m\n\u001b[1;32m    331\u001b[0m   \u001b[0;32mif\u001b[0m \u001b[0mdot\u001b[0m \u001b[0;32mis\u001b[0m \u001b[0;32mNone\u001b[0m\u001b[0;34m:\u001b[0m\u001b[0;34m\u001b[0m\u001b[0;34m\u001b[0m\u001b[0m\n",
      "\u001b[0;32m~/opt/anaconda3/lib/python3.7/site-packages/tensorflow/python/keras/utils/vis_utils.py\u001b[0m in \u001b[0;36mmodel_to_dot\u001b[0;34m(model, show_shapes, show_dtype, show_layer_names, rankdir, expand_nested, dpi, subgraph)\u001b[0m\n\u001b[1;32m    236\u001b[0m           \u001b[0minbound_layer_id\u001b[0m \u001b[0;34m=\u001b[0m \u001b[0mstr\u001b[0m\u001b[0;34m(\u001b[0m\u001b[0mid\u001b[0m\u001b[0;34m(\u001b[0m\u001b[0minbound_layer\u001b[0m\u001b[0;34m)\u001b[0m\u001b[0;34m)\u001b[0m\u001b[0;34m\u001b[0m\u001b[0;34m\u001b[0m\u001b[0m\n\u001b[1;32m    237\u001b[0m           \u001b[0;32mif\u001b[0m \u001b[0;32mnot\u001b[0m \u001b[0mexpand_nested\u001b[0m\u001b[0;34m:\u001b[0m\u001b[0;34m\u001b[0m\u001b[0;34m\u001b[0m\u001b[0m\n\u001b[0;32m--> 238\u001b[0;31m             \u001b[0;32massert\u001b[0m \u001b[0mdot\u001b[0m\u001b[0;34m.\u001b[0m\u001b[0mget_node\u001b[0m\u001b[0;34m(\u001b[0m\u001b[0minbound_layer_id\u001b[0m\u001b[0;34m)\u001b[0m\u001b[0;34m\u001b[0m\u001b[0;34m\u001b[0m\u001b[0m\n\u001b[0m\u001b[1;32m    239\u001b[0m             \u001b[0;32massert\u001b[0m \u001b[0mdot\u001b[0m\u001b[0;34m.\u001b[0m\u001b[0mget_node\u001b[0m\u001b[0;34m(\u001b[0m\u001b[0mlayer_id\u001b[0m\u001b[0;34m)\u001b[0m\u001b[0;34m\u001b[0m\u001b[0;34m\u001b[0m\u001b[0m\n\u001b[1;32m    240\u001b[0m             \u001b[0madd_edge\u001b[0m\u001b[0;34m(\u001b[0m\u001b[0mdot\u001b[0m\u001b[0;34m,\u001b[0m \u001b[0minbound_layer_id\u001b[0m\u001b[0;34m,\u001b[0m \u001b[0mlayer_id\u001b[0m\u001b[0;34m)\u001b[0m\u001b[0;34m\u001b[0m\u001b[0;34m\u001b[0m\u001b[0m\n",
      "\u001b[0;31mAssertionError\u001b[0m: "
     ]
    }
   ],
   "source": [
    "from keras.models import Sequential\n",
    "from keras.layers import Embedding, Conv1D, MaxPooling1D, Dense, GlobalMaxPooling1D\n",
    "\n",
    "model = Sequential()\n",
    "model.add(Embedding(input_dim=len(vocab), input_length=MAX_LENGTH, output_dim=1024, name=\"Embedding-1\"))\n",
    "model.add(Conv1D(filters=100, kernel_size=2, activation=\"tanh\", name=\"Conv1D-1\"))\n",
    "model.add(GlobalMaxPooling1D(name=\"MaxPooling1D-1\"))\n",
    "model.add(Dense(1, activation=\"sigmoid\", name=\"Dense-1\"))\n",
    "print(model.summary())\n",
    "\n",
    "show_keras_model(model)"
   ]
  },
  {
   "cell_type": "code",
   "execution_count": 15,
   "metadata": {
    "ExecuteTime": {
     "end_time": "2019-03-20T05:39:27.542489Z",
     "start_time": "2019-03-20T05:38:02.612896Z"
    }
   },
   "outputs": [
    {
     "name": "stdout",
     "output_type": "stream",
     "text": [
      "Epoch 1/10\n",
      "44/44 [==============================] - 27s 221ms/step - loss: 0.6848 - accuracy: 0.5468 - val_loss: 0.6718 - val_accuracy: 0.5733\n",
      "Epoch 2/10\n",
      "44/44 [==============================] - 9s 213ms/step - loss: 0.5433 - accuracy: 0.8474 - val_loss: 0.6514 - val_accuracy: 0.5983\n",
      "Epoch 3/10\n",
      "44/44 [==============================] - 10s 226ms/step - loss: 0.3500 - accuracy: 0.9517 - val_loss: 0.6543 - val_accuracy: 0.6200\n",
      "Epoch 4/10\n",
      "44/44 [==============================] - 11s 243ms/step - loss: 0.1575 - accuracy: 0.9911 - val_loss: 0.7070 - val_accuracy: 0.6267\n",
      "Epoch 5/10\n",
      "44/44 [==============================] - 11s 240ms/step - loss: 0.0603 - accuracy: 0.9996 - val_loss: 0.7950 - val_accuracy: 0.6233\n",
      "Epoch 6/10\n",
      "44/44 [==============================] - 10s 232ms/step - loss: 0.0249 - accuracy: 0.9999 - val_loss: 0.8918 - val_accuracy: 0.6183\n",
      "Epoch 7/10\n",
      "44/44 [==============================] - 10s 219ms/step - loss: 0.0128 - accuracy: 0.9997 - val_loss: 0.9527 - val_accuracy: 0.6150\n",
      "Epoch 8/10\n",
      "44/44 [==============================] - 10s 226ms/step - loss: 0.0080 - accuracy: 0.9991 - val_loss: 1.0188 - val_accuracy: 0.6117\n",
      "Epoch 9/10\n",
      "44/44 [==============================] - 11s 236ms/step - loss: 0.0055 - accuracy: 0.9995 - val_loss: 1.0616 - val_accuracy: 0.6067\n",
      "Epoch 10/10\n",
      "44/44 [==============================] - 10s 228ms/step - loss: 0.0049 - accuracy: 0.9987 - val_loss: 1.1076 - val_accuracy: 0.6033\n"
     ]
    },
    {
     "data": {
      "text/plain": [
       "<keras.callbacks.History at 0x7f920d538110>"
      ]
     },
     "execution_count": 15,
     "metadata": {},
     "output_type": "execute_result"
    }
   ],
   "source": [
    "# Train the model\n",
    "model.compile(loss=\"binary_crossentropy\", optimizer='adam', metrics=['accuracy'])\n",
    "model.fit(X_train2, y_train, epochs=10, validation_data=(X_dev2, y_dev))"
   ]
  },
  {
   "cell_type": "markdown",
   "metadata": {},
   "source": [
    "## Play with your own model"
   ]
  },
  {
   "cell_type": "markdown",
   "metadata": {},
   "source": [
    "We have shown you have to use an industry level tool to build a CNN model. Hopefully you think it is simpler than the version we built from scratch. Not really? Read Keras Documentation and learn more: https://keras.io/ "
   ]
  },
  {
   "cell_type": "code",
   "execution_count": null,
   "metadata": {
    "ExecuteTime": {
     "end_time": "2019-03-19T07:24:16.164784Z",
     "start_time": "2019-03-19T07:24:16.104613Z"
    }
   },
   "outputs": [],
   "source": [
    "# # Now it's your turn to build some more complicated CNN models\n",
    "\n",
    "\"\"\"\n",
    "Implement your code here\n",
    "\"\"\""
   ]
  }
 ],
 "metadata": {
  "kernelspec": {
   "display_name": "Python 3",
   "language": "python",
   "name": "python3"
  },
  "language_info": {
   "codemirror_mode": {
    "name": "ipython",
    "version": 3
   },
   "file_extension": ".py",
   "mimetype": "text/x-python",
   "name": "python",
   "nbconvert_exporter": "python",
   "pygments_lexer": "ipython3",
   "version": "3.7.6"
  },
  "toc": {
   "base_numbering": 1,
   "nav_menu": {},
   "number_sections": false,
   "sideBar": true,
   "skip_h1_title": false,
   "title_cell": "Table of Contents",
   "title_sidebar": "Contents",
   "toc_cell": false,
   "toc_position": {
    "height": "calc(100% - 180px)",
    "left": "10px",
    "top": "150px",
    "width": "336px"
   },
   "toc_section_display": true,
   "toc_window_display": false
  }
 },
 "nbformat": 4,
 "nbformat_minor": 2
}
