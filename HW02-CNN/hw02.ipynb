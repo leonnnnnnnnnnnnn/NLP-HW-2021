{
 "cells": [
  {
   "cell_type": "markdown",
   "metadata": {},
   "source": [
    "<h1><center>HW2 Convolutional neural networks for text classification\n",
    "</center></h1>\n",
    "\n",
    "In this homework you will learn how to build a simple convolutional neural networks (1 convolution layer with max pooling + 1 activation layer) from scratch, and use the model to solve text classification problem. As optional, you also have a chance to build real life CNN models using Keras + Tensorflow and use it to challenge the model you build from scratch. \n",
    "    "
   ]
  },
  {
   "cell_type": "markdown",
   "metadata": {},
   "source": [
    "<h3> 1. Math preliminaries </h3>\n",
    "\n",
    "Please answer all these questions:"
   ]
  },
  {
   "cell_type": "markdown",
   "metadata": {},
   "source": [
    "1. What is the form of sigmoid function $σ(z)$ ? Show that $σ′(z) = σ(z)[1 − σ(z)]$.\n",
    "<br/>"
   ]
  },
  {
   "cell_type": "markdown",
   "metadata": {},
   "source": [
    "**Solution:**\n",
    "$$\\sigma(z)=\\frac{1}{1+e^{-z}}$$\n",
    "$$\\sigma(z)^\\prime = \\frac{e^{-z}}{(1+e^{-z})^2} = \\frac{1}{1+e^{-z}}(\\frac{e^{-z}}{1+e^{-z}}) = \\sigma(x)(1-\\sigma(z))$$"
   ]
  },
  {
   "cell_type": "markdown",
   "metadata": {},
   "source": [
    "2. Another popular activation function is $tanh(z) = \\frac{e^z-e^{-z}}{e^z+e^{-z}}$ , show that $tanh′(z) = 1 − tanh(z)^2$.\n",
    "<br/>"
   ]
  },
  {
   "cell_type": "markdown",
   "metadata": {},
   "source": [
    "**Solution:**\n",
    "$$\\tanh(z)^\\prime = \\frac{(e^z + e^{-z})^2 - (e^z - e^{-z})^2}{(e^z + e^{-z})^2} = 1 - \\frac{(e^z - e^{-z})^2}{(e^z + e^{-z})^2} = 1 - tanh(z)^2$$"
   ]
  },
  {
   "cell_type": "markdown",
   "metadata": {},
   "source": [
    "3. For a single variable single layer perceptron with sigmoid activation function (equivalent\n",
    "to LR) and loss function defined as:\n",
    "<center>$\\hat{y}_i = σ ( w_1 x_i + w_0 )$ </center>\n",
    "<center>$L(w_0, w_1) = \\sum_i y_i lg(\\hat{y}_i)+(1−y_i)lg(1−\\hat{y}_i)$ </center>\n",
    "Show that:\n",
    "<center>$\\frac{∂L}{∂w_1} =\\sum_i(y_i−\\hat{y}_i)x_i$ </center>\n",
    "<center>$\\frac{∂L}{∂w_0} =\\sum_i(y−\\hat{y}_i)$  </center>\n",
    "<br/>"
   ]
  },
  {
   "cell_type": "markdown",
   "metadata": {},
   "source": [
    "**Solution:**  \n",
    "Let\\`s add a dummy dimension to $x$ so that we can write the mapping from $x$ to $\\hat{y}$ as $\\hat{y_i} = \\sigma(x^T_iw)$.  \n",
    "$$\\frac{\\partial \\hat{y_i}}{\\partial w} = \\hat{y_i}(1 - \\hat{y_i})x_i = [\\hat{y_i}(1 - \\hat{y_i})x_i, \\quad \\hat{y_i}(1-\\hat{y_i})]^T$$\n",
    "Then  \n",
    "$$\\frac{\\partial L(w)}{\\partial w} = \\frac{\\partial L(w)}{\\partial \\hat{y}} \\frac{\\partial \\hat{y}}{\\partial w} = \\sum_i (\\frac{y_i}{\\hat{y_i}} - \\frac{(1 - y_i)}{(1 - \\hat{y_i})})\\frac{\\partial \\hat{y_i}}{\\partial w} = \\sum_i \\frac{(y_i - \\hat{y_i})}{\\hat{y_i}(1 - \\hat{y_i})} \\frac{\\partial \\hat{y_i}}{\\partial w} = [\\sum_i (y_i - \\hat{y_i})x_i,\\quad \\sum_i (y_i - \\hat{y_i})]^T$$\n"
   ]
  },
  {
   "cell_type": "markdown",
   "metadata": {},
   "source": [
    "4. For column vectors $\\vec{x}$ and $\\vec{w}$ , and a symmetric matrix $\\overleftrightarrow{M}$, define the gradient operator:\n",
    "<center> $∇_\\vec{x} = (\\frac{∂}{∂x_0}, \\frac{∂}{∂x_1}, ...,\\frac{∂}{∂x_n})^T$ </center>\n",
    "show that:\n",
    "<center> $∇_x(\\vec{w}^T\\vec{x}) = \\vec{w}$ </center>\n",
    "<center> $∇_x(\\vec{x}^T\\vec{w}) = \\vec{w}$ </center>\n",
    "<center> $∇_x(\\vec{w}^T\\overleftrightarrow{M}\\vec{x}) = \\overleftrightarrow{M}\\vec{w}$ </center>\n",
    "<br/>"
   ]
  },
  {
   "cell_type": "markdown",
   "metadata": {},
   "source": [
    "**Solution:**  \n",
    "$$∇_x(\\vec{w}^T\\vec{x}) = ∇_x(\\sum_i x_i w_i) = [w_0,...,w_n]^T = \\vec{w}$$  \n",
    "\n",
    "$$∇_x(\\vec{x}^T\\vec{w}) = ∇_x(\\sum_i x_i w_i) = [w_0,...,w_n]^T = \\vec{w}$$\n",
    "\n",
    "$$∇_x(\\vec{w}^T\\overleftrightarrow{M}\\vec{x}) = ∇_x(\\sum_i w^T m_i x_i) = [w^Tm_1,...,w^Tm_n]^T = (w^TM)^T = \\overleftrightarrow{M}\\vec{w}$$\n",
    "where $M = [m0,...m_n]$, i.e. $m_i$ is the columns vector of $M$."
   ]
  },
  {
   "cell_type": "markdown",
   "metadata": {},
   "source": [
    "5. Let’s expand Q3 to a more general case. Suppose there is a single layer perceptron with multiple variables:\n",
    "<center> $\\hat{y}_i = σ( \\vec{w}^T \\vec{x_i} )$ </center>\n",
    "<center>$L(\\vec{w}) = \\sum_i y_i lg(\\hat{y}_i)+(1−y_i)lg(1−\\hat{y}_i)$ </center>\n",
    "show that:\n",
    "<center> $∇_\\vec{w}L(\\vec{w}) = \\sum_i(y_i - \\hat{y}_i)\\vec{x_i}$ </center>\n",
    "(hint: use the notation defined in Q4)\n",
    "<br/>\n",
    "<br/>\n",
    "\n",
    "**Solution:**  \n",
    "Showed in Q3"
   ]
  },
  {
   "cell_type": "markdown",
   "metadata": {},
   "source": [
    "6. In a CNN illustrated as Fig 1, suppose the loss function is:\n",
    "<center> $L(\\overleftrightarrow{U}, \\vec{w}) = \\sum_i y_i lg(\\hat{y}_i)+(1−y_i)lg(1−\\hat{y}_i)$ </center>\n",
    "From the conclusion in Q5, we can get that:\n",
    "<center> $∇_w L(\\overleftrightarrow{U}, \\vec{w}) = \\sum_i (y_i -\\hat{y}_i)\\vec{h}^{(i)}$ </center>\n",
    "Can you calculate $∇_{u_i} L(U,w)$ using similar techniques?\n",
    "\n",
    "<img src=\"CNN.png\" style=\"width:700px\">"
   ]
  },
  {
   "cell_type": "markdown",
   "metadata": {},
   "source": [
    "**Solution:**  \n",
    "*Change $u_i$ to $u_j$ for clearer reference(i: sample index, j: filter index), otherwise quite confusion...*  \n",
    "Define cost function $l$ such that $L(U, w) = \\sum_i l(y_i, \\hat{y_i})$. Then we have\n",
    "$$∇_{u_j} L(\\overleftrightarrow{U}, \\vec{w}) = \\sum_i \\frac{\\partial l}{\\partial h_j} \\frac{\\partial h_j}{\\partial u_j} = \\sum_i (y_i - \\hat{y_i})w_j(1 - h_j^2)x_m$$\n",
    "where $m = \\arg\\max_{p} u_j x_p \\forall p \\in [1, n-k+1]$.  \n",
    "More generally, we have:\n",
    "$$∇_u L(\\overleftrightarrow{U}, \\vec{w}) = \\sum_i (y_i - \\hat{y_i})w \\otimes (\\mathbf{1} - h\\otimes h)\\otimes X$$\n",
    "where $\\otimes$ is elementwise multiplication."
   ]
  },
  {
   "cell_type": "markdown",
   "metadata": {},
   "source": [
    "<h3> 2. Coding exercise </h3>\n",
    "\n",
    "Follow the instruction in the notebook, and implement the missing code to build the CNN classifier from scratch. Note that the training might be very slow. Consider reducing the training data size and vocabulary size for testing your code. Ask questions in Piazza/Wechat if you get blocked.\n",
    "\n",
    "Hint: In this CNN, words should be one-hot encoded, but we actually numerically encoded it in the code. This is a sparse trick we did to boost the efficiency, try to understand how it works.\n",
    "\n",
    "Some of the key details you will have a chance to implement:\n",
    "- Forward propagation of a CNN network\n",
    "- Backward propagation of a CNN network\n",
    "- Numerical gradient checking \n",
    "- Use Keras and TensorFlow to implement more complex CNN networks\n",
    "    \n",
    "You are given the following files:\n",
    "- `hw02.ipynb`: Notebook file with starter code\n",
    "- `train.txt`: Training set to train your model\n",
    "- `test.txt`: Test set to report your model’s performance\n",
    "- `sample_prediction.csv`: Sample file your prediction result should look like\n",
    "- `utils/`: folder containing all utility code for the series of homeworks\n",
    "\n",
    "<h3> 3. Deliverables (zip them all) </h3>\n",
    "\n",
    "- pdf version of your final notebook.\n",
    "- Use the best model you trained, generate the prediction for test.txt, name the\n",
    "output file prediction.csv (Be careful: the best model in your training set might not\n",
    "be the best model for the test set).\n",
    "- After you finished the run, does the model perform better than the bag of words\n",
    "model you built last week? What do you think that contributes to the difference in\n",
    "performance?\n",
    "- HW2_writeup.pdf: summarize the method you used and report their performance.\n",
    "If you worked on the optional task, add the discussion. Add a short essay\n",
    "discussing the biggest challenges you encounter during this assignment and\n",
    "what you have learnt.\n",
    "\n",
    "(**You are encouraged to add the writeup doc into your notebook\n",
    "using markdown/html langauge, just like how this notes is prepared**)"
   ]
  },
  {
   "cell_type": "markdown",
   "metadata": {},
   "source": [
    "# =============== Coding Starts Here ==================="
   ]
  },
  {
   "cell_type": "code",
   "execution_count": 1,
   "metadata": {
    "ExecuteTime": {
     "end_time": "2020-03-01T22:47:18.404322Z",
     "start_time": "2020-03-01T22:47:18.235083Z"
    }
   },
   "outputs": [],
   "source": [
    "%load_ext autoreload\n",
    "%autoreload 2\n",
    "%matplotlib inline\n",
    "import os\n",
    "import sys\n",
    "import pandas as pd\n",
    "import numpy as np\n",
    "from nltk.stem import WordNetLemmatizer\n",
    "from nltk import word_tokenize\n",
    "\n",
    "# add utils folder to path\n",
    "p = os.path.dirname(os.getcwd())\n",
    "if p not in sys.path:\n",
    "    sys.path = [p] + sys.path\n",
    "\n",
    "from utils.hw2 import load_data, save_prediction, read_vocab\n",
    "from utils.general import sigmoid, tanh, show_keras_model"
   ]
  },
  {
   "cell_type": "markdown",
   "metadata": {
    "ExecuteTime": {
     "end_time": "2019-03-18T04:40:29.169465Z",
     "start_time": "2019-03-18T04:40:29.086590Z"
    }
   },
   "source": [
    "# CNN model \n",
    "Complete the code block in the cells in this section.\n",
    "\n",
    "* step1: Implement the pipeline method to process the raw input\n",
    "* step2: Implement the forward method\n",
    "* step3: Implement the backward method\n",
    "* step4: Run the cell below to train your model"
   ]
  },
  {
   "cell_type": "code",
   "execution_count": 2,
   "metadata": {},
   "outputs": [],
   "source": [
    "import numpy as np"
   ]
  },
  {
   "cell_type": "code",
   "execution_count": 3,
   "metadata": {},
   "outputs": [],
   "source": [
    "import re\n",
    "import nltk\n",
    "from nltk.tokenize import word_tokenize\n",
    "from nltk.corpus import stopwords\n",
    "from nltk.stem import WordNetLemmatizer"
   ]
  },
  {
   "cell_type": "code",
   "execution_count": 4,
   "metadata": {},
   "outputs": [],
   "source": [
    "def preprocess_text(text: str, lmtzr=None, verbose=False):\n",
    "    \"\"\"Preprocess text data: remove symbols, stop words, and apply tokenization and lemmatization\"\"\"\n",
    "    if verbose:\n",
    "        print('='*80)\n",
    "        print('Preprocess Text Data')\n",
    "    text = text.strip()\n",
    "    \n",
    "    # remove symbols\n",
    "    text = re.sub(\"[^A-Za-z0-9' ]+\", ' ', text.lower().strip())\n",
    "    \n",
    "    # tokenization\n",
    "    if verbose:\n",
    "        print('_'*80)\n",
    "        print('Tokenization')\n",
    "    try:\n",
    "        nltk.data.find('tokenizers/punkt')\n",
    "    except LookupError:\n",
    "        print('downloading tokenizers/punkt.zig from nltk')\n",
    "        nltk.download('punkt')\n",
    "    text = word_tokenize(text)\n",
    "\n",
    "    # remove stopwords\n",
    "    if verbose:\n",
    "        print('_' * 80)\n",
    "        print('Remove stopwords')\n",
    "    try:\n",
    "        nltk.data.find('corpora/stopwords.zip')\n",
    "    except LookupError:\n",
    "        print('downloading corpora/stopwords.zig from nltk')\n",
    "        nltk.download('stopwords')\n",
    "    stop_words = set(stopwords.words('english'))\n",
    "    text = [word for word in text if word not in stop_words]\n",
    "\n",
    "    # lemmatization\n",
    "    if verbose:\n",
    "        print('_' * 80)\n",
    "        print('Lemmatization')\n",
    "    if not lmtzr:\n",
    "        try:\n",
    "            nltk.data.find('corpora/wordnet.zip')\n",
    "        except LookupError:\n",
    "            print('downloading corpora/wordnet.zig from nltk')\n",
    "            nltk.download('wordnet')\n",
    "        lmtzr = WordNetLemmatizer()\n",
    "    text = [lmtzr.lemmatize(word) for word in text]\n",
    "    return text"
   ]
  },
  {
   "cell_type": "code",
   "execution_count": 5,
   "metadata": {},
   "outputs": [],
   "source": [
    "from sklearn.feature_extraction.text import CountVectorizer\n",
    "from sklearn.preprocessing import LabelEncoder\n",
    "from sklearn.model_selection import KFold\n",
    "from sklearn.metrics import accuracy_score"
   ]
  },
  {
   "cell_type": "code",
   "execution_count": 6,
   "metadata": {},
   "outputs": [],
   "source": [
    "def sigmoid(x: np.ndarray):\n",
    "    '''sigmoid for np.ndarray'''\n",
    "    return 1/(1+np.exp(-x))"
   ]
  },
  {
   "cell_type": "code",
   "execution_count": 7,
   "metadata": {},
   "outputs": [],
   "source": [
    "from scipy.sparse import hstack, vstack\n",
    "from scipy.signal import correlate"
   ]
  },
  {
   "cell_type": "code",
   "execution_count": 8,
   "metadata": {},
   "outputs": [],
   "source": [
    "from time import time"
   ]
  },
  {
   "cell_type": "code",
   "execution_count": 9,
   "metadata": {},
   "outputs": [],
   "source": [
    "def logistic_loss(y, yhat):\n",
    "    return (-y*np.log(yhat) - (1-y)*np.log(1-yhat)).mean()"
   ]
  },
  {
   "cell_type": "code",
   "execution_count": 10,
   "metadata": {},
   "outputs": [],
   "source": [
    "import pdb"
   ]
  },
  {
   "cell_type": "code",
   "execution_count": 11,
   "metadata": {},
   "outputs": [],
   "source": [
    "from tqdm import tqdm"
   ]
  },
  {
   "cell_type": "code",
   "execution_count": 12,
   "metadata": {
    "ExecuteTime": {
     "end_time": "2020-03-12T00:54:57.880092Z",
     "start_time": "2020-03-12T00:54:57.598477Z"
    }
   },
   "outputs": [],
   "source": [
    "class CNNTextClassificationModel:\n",
    "    def __init__(self, vocab, sentence_length=10, window_size=2, F=100, alpha=0.05, random_state=0):\n",
    "        \"\"\"\n",
    "        F: number of filters\n",
    "        alpha: back propagatoin learning rate\n",
    "        \"\"\"\n",
    "        \n",
    "        assert sentence_length >= window_size, \"Sentence size cannot be shorter than the window size\"\n",
    "        self.vocab = vocab\n",
    "        self.vectorizer = CountVectorizer(binary=True)\n",
    "        self.vectorizer.fit(self.vocab)\n",
    "        self.vocab_size = len(self.vectorizer.vocabulary_)\n",
    "        self.sentence_length = sentence_length\n",
    "        self.window_size = window_size\n",
    "        self.filter_size = len(vocab) * window_size\n",
    "        self.F = F\n",
    "        self.alpha = alpha\n",
    "        self.random_state = random_state\n",
    "        np.random.seed(seed=random_state)\n",
    "        \n",
    "        # U and w are the weights of the hidden layer, see Fig 1 in the pdf file\n",
    "        # U is the weight matrix of the 1D convolutional layer with shape: voc_size * window_size by num_filter\n",
    "        self.U = np.random.normal(loc=0, scale=0.01, size=(F, self.window_size, self.vocab_size))\n",
    "        # w is the weights of the activation layer (after max pooling)\n",
    "        self.w = np.random.normal(loc=0, scale=0.01, size=(F + 1))\n",
    "        \n",
    "    def pipeline(self, X, padding=True):\n",
    "        \"\"\"\n",
    "        Data processing pipeline to:\n",
    "        1. Tokenize, Normalize the raw input\n",
    "        2. Translate raw data input into numerical encoded vectors with one-hot encoding\n",
    "        \n",
    "        :param X: raw data input\n",
    "        :param padding: whether to use padding or chopping the input sentence to the given length; if False, use bag-of-words, i.e. add one-hot encoding of all words together\n",
    "        :return: sparse matrix\n",
    "        \"\"\"\n",
    "        X2 = [preprocess_text(x) for x in X]\n",
    "        \n",
    "        if padding:\n",
    "            X2 = [x[:self.sentence_length] + ['']*(self.sentence_length - len(x)) for x in X2]\n",
    "            # apply one-hot encoding and concatenate all words of a sentence\n",
    "            X2 = [hstack([self.vectorizer.transform([y]) for y in x]) for x in X2]\n",
    "        else:\n",
    "            # bag of words\n",
    "            X2 = [self.vectorizer.transform([' '.join(x)]) for x in X2]\n",
    "\n",
    "        return vstack(X2)\n",
    "          \n",
    "    def train(self, X_train, y_train, X_dev, y_dev, nEpoch=50, batch_size=30, raw_text=True):\n",
    "        \"\"\"\n",
    "        Function to fit the model\n",
    "        :param X_train, X_dev: raw data input\n",
    "        :param y_train, y_dev: label \n",
    "        :nEpoch: number of training epoches\n",
    "        \"\"\"\n",
    "        train_score = []\n",
    "        \n",
    "        if raw_text:\n",
    "            X_train = self.pipeline(X_train).A\n",
    "            X_train.reshape(len(X_train), self.sentence_length, self.vocab_size)\n",
    "            X_dev = self.pipeline(X_dev)\n",
    "            X_dev.reshape(len(X_dev), self.sentence_length, self.vocab_size)\n",
    "        else:\n",
    "            X_train = X_train.A.reshape(X_train.get_shape()[0], self.sentence_length, self.vocab_size)\n",
    "            X_dev = X_dev.A.reshape(X_dev.get_shape()[0], self.sentence_length, self.vocab_size)\n",
    "        \n",
    "        n_batch = len(X_train)//batch_size\n",
    "        kf = KFold(n_batch, shuffle=True, random_state=self.random_state)\n",
    "        \n",
    "        for epoch in range(nEpoch):\n",
    "            print(f'{\"=\"*40} Epoch: {epoch+1} START {\"=\"*40}\\n')\n",
    "            t1 = time()\n",
    "            for i, idx in enumerate(tqdm(kf.split(X_train))):\n",
    "                \n",
    "                t3 = time()\n",
    "                self.fit(X_train[idx[1], :], y_train[idx[1]])\n",
    "                t4 = time()\n",
    "                if i % 100 == 0:\n",
    "                    print(f'{\"*\"*20} training batch{i}/{n_batch},\\tbatch shape: {X_train[idx[1], :].shape}\\t\\ttraining time: {t4-t3:.3f}seconds {\"*\"*20}')\n",
    "            t2 = time()\n",
    "            \n",
    "            prob_train = self.predict(X_train, return_prob=True)\n",
    "            t5 = time()\n",
    "            prob_dev = self.predict(X_dev, return_prob=True)\n",
    "            t6 = time()\n",
    "            accuracy_train = accuracy_score(y_train, np.where(prob_train>0.5, 1, 0))\n",
    "            accuracy_dev = accuracy_score(y_dev, np.where(prob_dev>0.5, 1, 0))\n",
    "            loss_train = logistic_loss(y_train, prob_train)\n",
    "            loss_dev = logistic_loss(y_dev, prob_dev)\n",
    "            \n",
    "            train_score.append((accuracy_train, accuracy_dev, loss_train, loss_dev))\n",
    "            \n",
    "            print(f'\\tTrain accuracy: {accuracy_train:.6f}\\tDev accuracy: {accuracy_dev:.6f}\\n\\tTrain loss: {loss_train:.6f}\\tDev loss: {loss_dev:.6f}\\n\\ttraining time: {t2-t1: .3f}seconds\\tpredict train set time: {t5-t2: .3f}seconds\\tpredict dev set time: {t6-t5: .3f}seconds\\n{\"=\"*40} Epoch: {epoch+1} END {\"=\"*40}\\n')\n",
    "            \n",
    "        return train_score\n",
    "        \n",
    "    def fit(self, Xd, y):\n",
    "        \"\"\"\n",
    "        :param Xd: encoded words, dense matrix\n",
    "        :param y: target\n",
    "        \"\"\"\n",
    "        \n",
    "        self.backward(Xd, y)\n",
    "        return self\n",
    "        \n",
    "    def predict(self, Xd, return_prob=False):\n",
    "        \"\"\"\n",
    "        :param Xd: encoded words, dense matrix\n",
    "        \"\"\"\n",
    "        \n",
    "        prob = self.forward(Xd)[\"yhat\"]\n",
    "        if return_prob:\n",
    "            return prob\n",
    "        else:\n",
    "            return np.where(prob>0.5, 1, 0)\n",
    "    \n",
    "    def forward(self, Xd):\n",
    "        \"\"\"\n",
    "        :param Xd: encoded words, dense matrix\n",
    "        :return: a result dictionary containing 3 items -\n",
    "        result['yhat']: \\hat y in Fig 1.\n",
    "        result['h']: the hidden layer output after max pooling, h = [h1, ..., hf,1]\n",
    "        result['hid']: argmax of F filters, e.g. j of x_j\n",
    "        e.g. for the ith filter u_i, tanh(word[hid[j], hid[j] + window_size]*u_i) = h_i\n",
    "        \"\"\"\n",
    "        h = []\n",
    "        hid = []\n",
    "#         pdb.set_trace()\n",
    "        # layer 1. compute h and \n",
    "        t1 = time()\n",
    "        for j in range(self.F):\n",
    "            # TODO: apply some trice to speed up...\n",
    "            conv = correlate(Xd, self.U[j][None, :, :], mode='valid')\n",
    "            # apply activation                                                                                                                                                                                                                                                                                                                                        \n",
    "            hid.append(conv.argmax(axis=1))\n",
    "            h.append(np.tanh(conv.max(axis=1)))\n",
    "        t2 = time()\n",
    "#         print(f'{self.F} filters, compute convolution, {t2 - t1:.5f} seconds, {(t2-t1)/self.F:.5f} seconds per filter')\n",
    "        \n",
    "        h = np.hstack(h)\n",
    "        hid = np.hstack(hid)\n",
    "        # layer 2. compute probability\n",
    "        h = np.hstack([h, np.ones((len(h), 1))])  # add bias term\n",
    "        yhat = sigmoid(h.dot(self.w))\n",
    "    \n",
    "        return {\"yhat\": yhat, \"h\": h, \"hid\": hid}\n",
    "    \n",
    "    def backward(self, Xd, y):\n",
    "        \"\"\"\n",
    "        Update the U, w using backward propagation\n",
    "        \n",
    "        :param Xd: encoded words, dense matrix\n",
    "        :param label: int 0 or 1\n",
    "        :return: None\n",
    "        \n",
    "        update weight matrix/vector U and V based on the loss function\n",
    "        \"\"\"\n",
    "        res = self.forward(Xd)\n",
    "        yhat = res[\"yhat\"]\n",
    "        h = res[\"h\"]\n",
    "        hid = res[\"hid\"]\n",
    "\n",
    "        # update U and w here\n",
    "        \"\"\"\n",
    "        Implement your code here\n",
    "        \"\"\"\n",
    "        dw = self._calc_gradient_w(y, res['yhat'], res['h'])\n",
    "        du = self._calc_gradient_U(Xd, y, res['yhat'], res['h'], res['hid'])\n",
    "        self.w += self.alpha * dw\n",
    "        self.U += self.alpha * du\n",
    "\n",
    "    def _calc_gradient_w(self, y, yhat, h):\n",
    "        return (h*(y - yhat)[:, None]).mean(axis=0)\n",
    "    \n",
    "    def _calc_gradient_U(self, Xd, y, yhat, h, hid):\n",
    "#         pdb.set_trace()\n",
    "        t1 = time()\n",
    "        a = (((1 - h**2)*(y*(y - yhat))[:, None])[:, :-1]*self.w[None, :-1]).T[:, :, None, None]\n",
    "        t2 = time()\n",
    "        # too slow....\n",
    "        argmax_indices = self._get_argmax_indices(hid)\n",
    "        b = Xd[np.arange(len(y))[:, None], argmax_indices]\n",
    "        t3 = time()\n",
    "#         print(f'compute gradient U, a: {t2 - t1:.5f} seconds, b: {t3 - t2: .5f} seconds')\n",
    "        du = (a*b).mean(axis=1)\n",
    "        return du\n",
    "    \n",
    "    def _get_argmax_indices(self, hid):\n",
    "        s, f = hid.shape\n",
    "        indices = []\n",
    "        for j in range(f):\n",
    "            by_filter = []\n",
    "            for i in range(s):\n",
    "                by_filter.append(np.r_[np.s_[hid[i, j]:hid[i, j]+self.window_size]])\n",
    "            indices.append(np.array(by_filter))\n",
    "        return np.array(indices)"
   ]
  },
  {
   "cell_type": "code",
   "execution_count": 15,
   "metadata": {},
   "outputs": [],
   "source": [
    "X, y = data.text, data.target\n",
    "X_train, X_dev, y_train, y_dev = train_test_split(X[:2000], y[:2000], test_size=0.3)"
   ]
  },
  {
   "cell_type": "code",
   "execution_count": 24,
   "metadata": {},
   "outputs": [],
   "source": [
    "cls = CNNTextClassificationModel(vocab, sentence_length=30, window_size=5, F=15, alpha=0.01, random_state=0)"
   ]
  },
  {
   "cell_type": "code",
   "execution_count": 25,
   "metadata": {},
   "outputs": [],
   "source": [
    "X_train = cls.pipeline(X_train)"
   ]
  },
  {
   "cell_type": "code",
   "execution_count": 26,
   "metadata": {},
   "outputs": [],
   "source": [
    "X_dev = cls.pipeline(X_dev)"
   ]
  },
  {
   "cell_type": "code",
   "execution_count": 27,
   "metadata": {
    "collapsed": true
   },
   "outputs": [
    {
     "name": "stderr",
     "output_type": "stream",
     "text": [
      "\r",
      "0it [00:00, ?it/s]"
     ]
    },
    {
     "name": "stdout",
     "output_type": "stream",
     "text": [
      "======================================== Epoch: 1 START ========================================\n",
      "\n"
     ]
    },
    {
     "name": "stderr",
     "output_type": "stream",
     "text": [
      "\r",
      "1it [00:00,  1.74it/s]"
     ]
    },
    {
     "name": "stdout",
     "output_type": "stream",
     "text": [
      "******************** training batch0/1400,\tbatch shape: (1, 30, 9766)\t\ttraining time: 0.570seconds ********************\n"
     ]
    },
    {
     "name": "stderr",
     "output_type": "stream",
     "text": [
      "101it [00:40,  2.52it/s]"
     ]
    },
    {
     "name": "stdout",
     "output_type": "stream",
     "text": [
      "******************** training batch100/1400,\tbatch shape: (1, 30, 9766)\t\ttraining time: 0.386seconds ********************\n"
     ]
    },
    {
     "name": "stderr",
     "output_type": "stream",
     "text": [
      "201it [01:20,  2.10it/s]"
     ]
    },
    {
     "name": "stdout",
     "output_type": "stream",
     "text": [
      "******************** training batch200/1400,\tbatch shape: (1, 30, 9766)\t\ttraining time: 0.494seconds ********************\n"
     ]
    },
    {
     "name": "stderr",
     "output_type": "stream",
     "text": [
      "301it [02:01,  2.63it/s]"
     ]
    },
    {
     "name": "stdout",
     "output_type": "stream",
     "text": [
      "******************** training batch300/1400,\tbatch shape: (1, 30, 9766)\t\ttraining time: 0.374seconds ********************\n"
     ]
    },
    {
     "name": "stderr",
     "output_type": "stream",
     "text": [
      "401it [02:40,  2.59it/s]"
     ]
    },
    {
     "name": "stdout",
     "output_type": "stream",
     "text": [
      "******************** training batch400/1400,\tbatch shape: (1, 30, 9766)\t\ttraining time: 0.377seconds ********************\n"
     ]
    },
    {
     "name": "stderr",
     "output_type": "stream",
     "text": [
      "501it [03:19,  2.58it/s]"
     ]
    },
    {
     "name": "stdout",
     "output_type": "stream",
     "text": [
      "******************** training batch500/1400,\tbatch shape: (1, 30, 9766)\t\ttraining time: 0.381seconds ********************\n"
     ]
    },
    {
     "name": "stderr",
     "output_type": "stream",
     "text": [
      "601it [03:59,  2.61it/s]"
     ]
    },
    {
     "name": "stdout",
     "output_type": "stream",
     "text": [
      "******************** training batch600/1400,\tbatch shape: (1, 30, 9766)\t\ttraining time: 0.380seconds ********************\n"
     ]
    },
    {
     "name": "stderr",
     "output_type": "stream",
     "text": [
      "701it [04:38,  2.54it/s]"
     ]
    },
    {
     "name": "stdout",
     "output_type": "stream",
     "text": [
      "******************** training batch700/1400,\tbatch shape: (1, 30, 9766)\t\ttraining time: 0.393seconds ********************\n"
     ]
    },
    {
     "name": "stderr",
     "output_type": "stream",
     "text": [
      "801it [05:18,  2.66it/s]"
     ]
    },
    {
     "name": "stdout",
     "output_type": "stream",
     "text": [
      "******************** training batch800/1400,\tbatch shape: (1, 30, 9766)\t\ttraining time: 0.374seconds ********************\n"
     ]
    },
    {
     "name": "stderr",
     "output_type": "stream",
     "text": [
      "901it [05:55,  2.75it/s]"
     ]
    },
    {
     "name": "stdout",
     "output_type": "stream",
     "text": [
      "******************** training batch900/1400,\tbatch shape: (1, 30, 9766)\t\ttraining time: 0.367seconds ********************\n"
     ]
    },
    {
     "name": "stderr",
     "output_type": "stream",
     "text": [
      "1001it [06:32,  2.72it/s]"
     ]
    },
    {
     "name": "stdout",
     "output_type": "stream",
     "text": [
      "******************** training batch1000/1400,\tbatch shape: (1, 30, 9766)\t\ttraining time: 0.365seconds ********************\n"
     ]
    },
    {
     "name": "stderr",
     "output_type": "stream",
     "text": [
      "1101it [07:10,  2.66it/s]"
     ]
    },
    {
     "name": "stdout",
     "output_type": "stream",
     "text": [
      "******************** training batch1100/1400,\tbatch shape: (1, 30, 9766)\t\ttraining time: 0.403seconds ********************\n"
     ]
    },
    {
     "name": "stderr",
     "output_type": "stream",
     "text": [
      "1201it [07:47,  2.71it/s]"
     ]
    },
    {
     "name": "stdout",
     "output_type": "stream",
     "text": [
      "******************** training batch1200/1400,\tbatch shape: (1, 30, 9766)\t\ttraining time: 0.363seconds ********************\n"
     ]
    },
    {
     "name": "stderr",
     "output_type": "stream",
     "text": [
      "1301it [08:24,  2.63it/s]"
     ]
    },
    {
     "name": "stdout",
     "output_type": "stream",
     "text": [
      "******************** training batch1300/1400,\tbatch shape: (1, 30, 9766)\t\ttraining time: 0.366seconds ********************\n"
     ]
    },
    {
     "name": "stderr",
     "output_type": "stream",
     "text": [
      "1400it [09:01,  2.59it/s]\n",
      "0it [00:00, ?it/s]"
     ]
    },
    {
     "name": "stdout",
     "output_type": "stream",
     "text": [
      "\tTrain accuracy: 0.519286\tDev accuracy: 0.486667\n",
      "\tTrain loss: 0.692991\tDev loss: 0.693227\n",
      "\ttraining time:  541.438seconds\tpredict train set time:  864.363seconds\tpredict dev set time:  232.431seconds\n",
      "======================================== Epoch: 1 END ========================================\n",
      "\n",
      "======================================== Epoch: 2 START ========================================\n",
      "\n"
     ]
    },
    {
     "name": "stderr",
     "output_type": "stream",
     "text": [
      "\r",
      "1it [00:00,  2.14it/s]"
     ]
    },
    {
     "name": "stdout",
     "output_type": "stream",
     "text": [
      "******************** training batch0/1400,\tbatch shape: (1, 30, 9766)\t\ttraining time: 0.457seconds ********************\n"
     ]
    },
    {
     "name": "stderr",
     "output_type": "stream",
     "text": [
      "101it [00:37,  2.74it/s]"
     ]
    },
    {
     "name": "stdout",
     "output_type": "stream",
     "text": [
      "******************** training batch100/1400,\tbatch shape: (1, 30, 9766)\t\ttraining time: 0.366seconds ********************\n"
     ]
    },
    {
     "name": "stderr",
     "output_type": "stream",
     "text": [
      "201it [01:13,  2.68it/s]"
     ]
    },
    {
     "name": "stdout",
     "output_type": "stream",
     "text": [
      "******************** training batch200/1400,\tbatch shape: (1, 30, 9766)\t\ttraining time: 0.399seconds ********************\n"
     ]
    },
    {
     "name": "stderr",
     "output_type": "stream",
     "text": [
      "301it [01:50,  2.77it/s]"
     ]
    },
    {
     "name": "stdout",
     "output_type": "stream",
     "text": [
      "******************** training batch300/1400,\tbatch shape: (1, 30, 9766)\t\ttraining time: 0.357seconds ********************\n"
     ]
    },
    {
     "name": "stderr",
     "output_type": "stream",
     "text": [
      "401it [02:27,  2.73it/s]"
     ]
    },
    {
     "name": "stdout",
     "output_type": "stream",
     "text": [
      "******************** training batch400/1400,\tbatch shape: (1, 30, 9766)\t\ttraining time: 0.373seconds ********************\n"
     ]
    },
    {
     "name": "stderr",
     "output_type": "stream",
     "text": [
      "501it [03:06,  2.68it/s]"
     ]
    },
    {
     "name": "stdout",
     "output_type": "stream",
     "text": [
      "******************** training batch500/1400,\tbatch shape: (1, 30, 9766)\t\ttraining time: 0.363seconds ********************\n"
     ]
    },
    {
     "name": "stderr",
     "output_type": "stream",
     "text": [
      "601it [03:44,  2.73it/s]"
     ]
    },
    {
     "name": "stdout",
     "output_type": "stream",
     "text": [
      "******************** training batch600/1400,\tbatch shape: (1, 30, 9766)\t\ttraining time: 0.364seconds ********************\n"
     ]
    },
    {
     "name": "stderr",
     "output_type": "stream",
     "text": [
      "701it [04:21,  2.72it/s]"
     ]
    },
    {
     "name": "stdout",
     "output_type": "stream",
     "text": [
      "******************** training batch700/1400,\tbatch shape: (1, 30, 9766)\t\ttraining time: 0.364seconds ********************\n"
     ]
    },
    {
     "name": "stderr",
     "output_type": "stream",
     "text": [
      "801it [04:58,  2.75it/s]"
     ]
    },
    {
     "name": "stdout",
     "output_type": "stream",
     "text": [
      "******************** training batch800/1400,\tbatch shape: (1, 30, 9766)\t\ttraining time: 0.363seconds ********************\n"
     ]
    },
    {
     "name": "stderr",
     "output_type": "stream",
     "text": [
      "901it [05:35,  2.72it/s]"
     ]
    },
    {
     "name": "stdout",
     "output_type": "stream",
     "text": [
      "******************** training batch900/1400,\tbatch shape: (1, 30, 9766)\t\ttraining time: 0.360seconds ********************\n"
     ]
    },
    {
     "name": "stderr",
     "output_type": "stream",
     "text": [
      "1001it [06:12,  2.74it/s]"
     ]
    },
    {
     "name": "stdout",
     "output_type": "stream",
     "text": [
      "******************** training batch1000/1400,\tbatch shape: (1, 30, 9766)\t\ttraining time: 0.360seconds ********************\n"
     ]
    },
    {
     "name": "stderr",
     "output_type": "stream",
     "text": [
      "1101it [06:50,  2.12it/s]"
     ]
    },
    {
     "name": "stdout",
     "output_type": "stream",
     "text": [
      "******************** training batch1100/1400,\tbatch shape: (1, 30, 9766)\t\ttraining time: 0.495seconds ********************\n"
     ]
    },
    {
     "name": "stderr",
     "output_type": "stream",
     "text": [
      "1201it [07:47,  1.83it/s]"
     ]
    },
    {
     "name": "stdout",
     "output_type": "stream",
     "text": [
      "******************** training batch1200/1400,\tbatch shape: (1, 30, 9766)\t\ttraining time: 0.515seconds ********************\n"
     ]
    },
    {
     "name": "stderr",
     "output_type": "stream",
     "text": [
      "1301it [08:41,  1.84it/s]"
     ]
    },
    {
     "name": "stdout",
     "output_type": "stream",
     "text": [
      "******************** training batch1300/1400,\tbatch shape: (1, 30, 9766)\t\ttraining time: 0.502seconds ********************\n"
     ]
    },
    {
     "name": "stderr",
     "output_type": "stream",
     "text": [
      "1400it [09:33,  2.44it/s]\n",
      "0it [00:00, ?it/s]"
     ]
    },
    {
     "name": "stdout",
     "output_type": "stream",
     "text": [
      "\tTrain accuracy: 0.519286\tDev accuracy: 0.486667\n",
      "\tTrain loss: 0.692936\tDev loss: 0.693239\n",
      "\ttraining time:  573.478seconds\tpredict train set time:  732.580seconds\tpredict dev set time:  224.843seconds\n",
      "======================================== Epoch: 2 END ========================================\n",
      "\n",
      "======================================== Epoch: 3 START ========================================\n",
      "\n"
     ]
    },
    {
     "name": "stderr",
     "output_type": "stream",
     "text": [
      "\r",
      "1it [00:00,  2.29it/s]"
     ]
    },
    {
     "name": "stdout",
     "output_type": "stream",
     "text": [
      "******************** training batch0/1400,\tbatch shape: (1, 30, 9766)\t\ttraining time: 0.433seconds ********************\n"
     ]
    },
    {
     "name": "stderr",
     "output_type": "stream",
     "text": [
      "101it [00:35,  2.89it/s]"
     ]
    },
    {
     "name": "stdout",
     "output_type": "stream",
     "text": [
      "******************** training batch100/1400,\tbatch shape: (1, 30, 9766)\t\ttraining time: 0.348seconds ********************\n"
     ]
    },
    {
     "name": "stderr",
     "output_type": "stream",
     "text": [
      "201it [01:10,  2.89it/s]"
     ]
    },
    {
     "name": "stdout",
     "output_type": "stream",
     "text": [
      "******************** training batch200/1400,\tbatch shape: (1, 30, 9766)\t\ttraining time: 0.345seconds ********************\n"
     ]
    },
    {
     "name": "stderr",
     "output_type": "stream",
     "text": [
      "301it [01:45,  2.58it/s]"
     ]
    },
    {
     "name": "stdout",
     "output_type": "stream",
     "text": [
      "******************** training batch300/1400,\tbatch shape: (1, 30, 9766)\t\ttraining time: 0.444seconds ********************\n"
     ]
    },
    {
     "name": "stderr",
     "output_type": "stream",
     "text": [
      "401it [02:20,  2.88it/s]"
     ]
    },
    {
     "name": "stdout",
     "output_type": "stream",
     "text": [
      "******************** training batch400/1400,\tbatch shape: (1, 30, 9766)\t\ttraining time: 0.347seconds ********************\n"
     ]
    },
    {
     "name": "stderr",
     "output_type": "stream",
     "text": [
      "501it [02:55,  2.88it/s]"
     ]
    },
    {
     "name": "stdout",
     "output_type": "stream",
     "text": [
      "******************** training batch500/1400,\tbatch shape: (1, 30, 9766)\t\ttraining time: 0.345seconds ********************\n"
     ]
    },
    {
     "name": "stderr",
     "output_type": "stream",
     "text": [
      "601it [03:30,  2.84it/s]"
     ]
    },
    {
     "name": "stdout",
     "output_type": "stream",
     "text": [
      "******************** training batch600/1400,\tbatch shape: (1, 30, 9766)\t\ttraining time: 0.359seconds ********************\n"
     ]
    },
    {
     "name": "stderr",
     "output_type": "stream",
     "text": [
      "701it [04:05,  2.87it/s]"
     ]
    },
    {
     "name": "stdout",
     "output_type": "stream",
     "text": [
      "******************** training batch700/1400,\tbatch shape: (1, 30, 9766)\t\ttraining time: 0.347seconds ********************\n"
     ]
    },
    {
     "name": "stderr",
     "output_type": "stream",
     "text": [
      "801it [04:40,  2.89it/s]"
     ]
    },
    {
     "name": "stdout",
     "output_type": "stream",
     "text": [
      "******************** training batch800/1400,\tbatch shape: (1, 30, 9766)\t\ttraining time: 0.343seconds ********************\n"
     ]
    },
    {
     "name": "stderr",
     "output_type": "stream",
     "text": [
      "901it [05:16,  2.64it/s]"
     ]
    },
    {
     "name": "stdout",
     "output_type": "stream",
     "text": [
      "******************** training batch900/1400,\tbatch shape: (1, 30, 9766)\t\ttraining time: 0.345seconds ********************\n"
     ]
    },
    {
     "name": "stderr",
     "output_type": "stream",
     "text": [
      "1001it [05:51,  2.86it/s]"
     ]
    },
    {
     "name": "stdout",
     "output_type": "stream",
     "text": [
      "******************** training batch1000/1400,\tbatch shape: (1, 30, 9766)\t\ttraining time: 0.345seconds ********************\n"
     ]
    },
    {
     "name": "stderr",
     "output_type": "stream",
     "text": [
      "1101it [06:26,  2.87it/s]"
     ]
    },
    {
     "name": "stdout",
     "output_type": "stream",
     "text": [
      "******************** training batch1100/1400,\tbatch shape: (1, 30, 9766)\t\ttraining time: 0.347seconds ********************\n"
     ]
    },
    {
     "name": "stderr",
     "output_type": "stream",
     "text": [
      "1201it [07:01,  2.86it/s]"
     ]
    },
    {
     "name": "stdout",
     "output_type": "stream",
     "text": [
      "******************** training batch1200/1400,\tbatch shape: (1, 30, 9766)\t\ttraining time: 0.345seconds ********************\n"
     ]
    },
    {
     "name": "stderr",
     "output_type": "stream",
     "text": [
      "1301it [07:37,  2.89it/s]"
     ]
    },
    {
     "name": "stdout",
     "output_type": "stream",
     "text": [
      "******************** training batch1300/1400,\tbatch shape: (1, 30, 9766)\t\ttraining time: 0.343seconds ********************\n"
     ]
    },
    {
     "name": "stderr",
     "output_type": "stream",
     "text": [
      "1400it [08:12,  2.84it/s]\n",
      "0it [00:00, ?it/s]"
     ]
    },
    {
     "name": "stdout",
     "output_type": "stream",
     "text": [
      "\tTrain accuracy: 0.519286\tDev accuracy: 0.486667\n",
      "\tTrain loss: 0.692870\tDev loss: 0.693236\n",
      "\ttraining time:  492.402seconds\tpredict train set time:  668.579seconds\tpredict dev set time:  222.236seconds\n",
      "======================================== Epoch: 3 END ========================================\n",
      "\n",
      "======================================== Epoch: 4 START ========================================\n",
      "\n"
     ]
    },
    {
     "name": "stderr",
     "output_type": "stream",
     "text": [
      "\r",
      "1it [00:00,  2.62it/s]"
     ]
    },
    {
     "name": "stdout",
     "output_type": "stream",
     "text": [
      "******************** training batch0/1400,\tbatch shape: (1, 30, 9766)\t\ttraining time: 0.377seconds ********************\n"
     ]
    },
    {
     "name": "stderr",
     "output_type": "stream",
     "text": [
      "101it [00:35,  2.88it/s]"
     ]
    },
    {
     "name": "stdout",
     "output_type": "stream",
     "text": [
      "******************** training batch100/1400,\tbatch shape: (1, 30, 9766)\t\ttraining time: 0.345seconds ********************\n"
     ]
    },
    {
     "name": "stderr",
     "output_type": "stream",
     "text": [
      "201it [01:10,  2.84it/s]"
     ]
    },
    {
     "name": "stdout",
     "output_type": "stream",
     "text": [
      "******************** training batch200/1400,\tbatch shape: (1, 30, 9766)\t\ttraining time: 0.345seconds ********************\n"
     ]
    },
    {
     "name": "stderr",
     "output_type": "stream",
     "text": [
      "301it [01:45,  2.89it/s]"
     ]
    },
    {
     "name": "stdout",
     "output_type": "stream",
     "text": [
      "******************** training batch300/1400,\tbatch shape: (1, 30, 9766)\t\ttraining time: 0.341seconds ********************\n"
     ]
    },
    {
     "name": "stderr",
     "output_type": "stream",
     "text": [
      "401it [02:20,  2.89it/s]"
     ]
    },
    {
     "name": "stdout",
     "output_type": "stream",
     "text": [
      "******************** training batch400/1400,\tbatch shape: (1, 30, 9766)\t\ttraining time: 0.342seconds ********************\n"
     ]
    },
    {
     "name": "stderr",
     "output_type": "stream",
     "text": [
      "501it [02:55,  2.86it/s]"
     ]
    },
    {
     "name": "stdout",
     "output_type": "stream",
     "text": [
      "******************** training batch500/1400,\tbatch shape: (1, 30, 9766)\t\ttraining time: 0.345seconds ********************\n"
     ]
    },
    {
     "name": "stderr",
     "output_type": "stream",
     "text": [
      "601it [03:30,  2.89it/s]"
     ]
    },
    {
     "name": "stdout",
     "output_type": "stream",
     "text": [
      "******************** training batch600/1400,\tbatch shape: (1, 30, 9766)\t\ttraining time: 0.345seconds ********************\n"
     ]
    },
    {
     "name": "stderr",
     "output_type": "stream",
     "text": [
      "701it [04:05,  2.90it/s]"
     ]
    },
    {
     "name": "stdout",
     "output_type": "stream",
     "text": [
      "******************** training batch700/1400,\tbatch shape: (1, 30, 9766)\t\ttraining time: 0.341seconds ********************\n"
     ]
    },
    {
     "name": "stderr",
     "output_type": "stream",
     "text": [
      "801it [04:40,  2.70it/s]"
     ]
    },
    {
     "name": "stdout",
     "output_type": "stream",
     "text": [
      "******************** training batch800/1400,\tbatch shape: (1, 30, 9766)\t\ttraining time: 0.344seconds ********************\n"
     ]
    },
    {
     "name": "stderr",
     "output_type": "stream",
     "text": [
      "901it [05:15,  2.88it/s]"
     ]
    },
    {
     "name": "stdout",
     "output_type": "stream",
     "text": [
      "******************** training batch900/1400,\tbatch shape: (1, 30, 9766)\t\ttraining time: 0.346seconds ********************\n"
     ]
    },
    {
     "name": "stderr",
     "output_type": "stream",
     "text": [
      "1001it [05:50,  2.87it/s]"
     ]
    },
    {
     "name": "stdout",
     "output_type": "stream",
     "text": [
      "******************** training batch1000/1400,\tbatch shape: (1, 30, 9766)\t\ttraining time: 0.353seconds ********************\n"
     ]
    },
    {
     "name": "stderr",
     "output_type": "stream",
     "text": [
      "1101it [06:25,  2.87it/s]"
     ]
    },
    {
     "name": "stdout",
     "output_type": "stream",
     "text": [
      "******************** training batch1100/1400,\tbatch shape: (1, 30, 9766)\t\ttraining time: 0.344seconds ********************\n"
     ]
    },
    {
     "name": "stderr",
     "output_type": "stream",
     "text": [
      "1201it [07:00,  2.88it/s]"
     ]
    },
    {
     "name": "stdout",
     "output_type": "stream",
     "text": [
      "******************** training batch1200/1400,\tbatch shape: (1, 30, 9766)\t\ttraining time: 0.346seconds ********************\n"
     ]
    },
    {
     "name": "stderr",
     "output_type": "stream",
     "text": [
      "1301it [07:35,  2.89it/s]"
     ]
    },
    {
     "name": "stdout",
     "output_type": "stream",
     "text": [
      "******************** training batch1300/1400,\tbatch shape: (1, 30, 9766)\t\ttraining time: 0.344seconds ********************\n"
     ]
    },
    {
     "name": "stderr",
     "output_type": "stream",
     "text": [
      "1400it [08:10,  2.85it/s]\n",
      "0it [00:00, ?it/s]"
     ]
    },
    {
     "name": "stdout",
     "output_type": "stream",
     "text": [
      "\tTrain accuracy: 0.519286\tDev accuracy: 0.486667\n",
      "\tTrain loss: 0.692750\tDev loss: 0.693224\n",
      "\ttraining time:  490.481seconds\tpredict train set time:  669.483seconds\tpredict dev set time:  222.252seconds\n",
      "======================================== Epoch: 4 END ========================================\n",
      "\n",
      "======================================== Epoch: 5 START ========================================\n",
      "\n"
     ]
    },
    {
     "name": "stderr",
     "output_type": "stream",
     "text": [
      "\r",
      "1it [00:00,  2.67it/s]"
     ]
    },
    {
     "name": "stdout",
     "output_type": "stream",
     "text": [
      "******************** training batch0/1400,\tbatch shape: (1, 30, 9766)\t\ttraining time: 0.371seconds ********************\n"
     ]
    },
    {
     "name": "stderr",
     "output_type": "stream",
     "text": [
      "101it [00:35,  2.84it/s]"
     ]
    },
    {
     "name": "stdout",
     "output_type": "stream",
     "text": [
      "******************** training batch100/1400,\tbatch shape: (1, 30, 9766)\t\ttraining time: 0.364seconds ********************\n"
     ]
    },
    {
     "name": "stderr",
     "output_type": "stream",
     "text": [
      "201it [01:10,  2.77it/s]"
     ]
    },
    {
     "name": "stdout",
     "output_type": "stream",
     "text": [
      "******************** training batch200/1400,\tbatch shape: (1, 30, 9766)\t\ttraining time: 0.369seconds ********************\n"
     ]
    },
    {
     "name": "stderr",
     "output_type": "stream",
     "text": [
      "301it [01:45,  2.89it/s]"
     ]
    },
    {
     "name": "stdout",
     "output_type": "stream",
     "text": [
      "******************** training batch300/1400,\tbatch shape: (1, 30, 9766)\t\ttraining time: 0.343seconds ********************\n"
     ]
    },
    {
     "name": "stderr",
     "output_type": "stream",
     "text": [
      "401it [02:20,  2.79it/s]"
     ]
    },
    {
     "name": "stdout",
     "output_type": "stream",
     "text": [
      "******************** training batch400/1400,\tbatch shape: (1, 30, 9766)\t\ttraining time: 0.371seconds ********************\n"
     ]
    },
    {
     "name": "stderr",
     "output_type": "stream",
     "text": [
      "501it [02:55,  2.89it/s]"
     ]
    },
    {
     "name": "stdout",
     "output_type": "stream",
     "text": [
      "******************** training batch500/1400,\tbatch shape: (1, 30, 9766)\t\ttraining time: 0.346seconds ********************\n"
     ]
    },
    {
     "name": "stderr",
     "output_type": "stream",
     "text": [
      "601it [03:30,  2.87it/s]"
     ]
    },
    {
     "name": "stdout",
     "output_type": "stream",
     "text": [
      "******************** training batch600/1400,\tbatch shape: (1, 30, 9766)\t\ttraining time: 0.346seconds ********************\n"
     ]
    },
    {
     "name": "stderr",
     "output_type": "stream",
     "text": [
      "701it [04:05,  2.80it/s]"
     ]
    },
    {
     "name": "stdout",
     "output_type": "stream",
     "text": [
      "******************** training batch700/1400,\tbatch shape: (1, 30, 9766)\t\ttraining time: 0.345seconds ********************\n"
     ]
    },
    {
     "name": "stderr",
     "output_type": "stream",
     "text": [
      "801it [04:40,  2.80it/s]"
     ]
    },
    {
     "name": "stdout",
     "output_type": "stream",
     "text": [
      "******************** training batch800/1400,\tbatch shape: (1, 30, 9766)\t\ttraining time: 0.347seconds ********************\n"
     ]
    },
    {
     "name": "stderr",
     "output_type": "stream",
     "text": [
      "901it [05:15,  2.89it/s]"
     ]
    },
    {
     "name": "stdout",
     "output_type": "stream",
     "text": [
      "******************** training batch900/1400,\tbatch shape: (1, 30, 9766)\t\ttraining time: 0.345seconds ********************\n"
     ]
    },
    {
     "name": "stderr",
     "output_type": "stream",
     "text": [
      "1001it [05:50,  2.83it/s]"
     ]
    },
    {
     "name": "stdout",
     "output_type": "stream",
     "text": [
      "******************** training batch1000/1400,\tbatch shape: (1, 30, 9766)\t\ttraining time: 0.346seconds ********************\n"
     ]
    },
    {
     "name": "stderr",
     "output_type": "stream",
     "text": [
      "1101it [06:25,  2.89it/s]"
     ]
    },
    {
     "name": "stdout",
     "output_type": "stream",
     "text": [
      "******************** training batch1100/1400,\tbatch shape: (1, 30, 9766)\t\ttraining time: 0.342seconds ********************\n"
     ]
    },
    {
     "name": "stderr",
     "output_type": "stream",
     "text": [
      "1201it [07:00,  2.88it/s]"
     ]
    },
    {
     "name": "stdout",
     "output_type": "stream",
     "text": [
      "******************** training batch1200/1400,\tbatch shape: (1, 30, 9766)\t\ttraining time: 0.347seconds ********************\n"
     ]
    },
    {
     "name": "stderr",
     "output_type": "stream",
     "text": [
      "1301it [07:35,  2.84it/s]"
     ]
    },
    {
     "name": "stdout",
     "output_type": "stream",
     "text": [
      "******************** training batch1300/1400,\tbatch shape: (1, 30, 9766)\t\ttraining time: 0.347seconds ********************\n"
     ]
    },
    {
     "name": "stderr",
     "output_type": "stream",
     "text": [
      "1400it [08:10,  2.85it/s]\n",
      "0it [00:00, ?it/s]"
     ]
    },
    {
     "name": "stdout",
     "output_type": "stream",
     "text": [
      "\tTrain accuracy: 0.534286\tDev accuracy: 0.495000\n",
      "\tTrain loss: 0.692527\tDev loss: 0.693170\n",
      "\ttraining time:  490.769seconds\tpredict train set time:  667.290seconds\tpredict dev set time:  223.659seconds\n",
      "======================================== Epoch: 5 END ========================================\n",
      "\n",
      "======================================== Epoch: 6 START ========================================\n",
      "\n"
     ]
    },
    {
     "name": "stderr",
     "output_type": "stream",
     "text": [
      "\r",
      "1it [00:00,  2.66it/s]"
     ]
    },
    {
     "name": "stdout",
     "output_type": "stream",
     "text": [
      "******************** training batch0/1400,\tbatch shape: (1, 30, 9766)\t\ttraining time: 0.373seconds ********************\n"
     ]
    },
    {
     "name": "stderr",
     "output_type": "stream",
     "text": [
      "101it [00:35,  2.88it/s]"
     ]
    },
    {
     "name": "stdout",
     "output_type": "stream",
     "text": [
      "******************** training batch100/1400,\tbatch shape: (1, 30, 9766)\t\ttraining time: 0.346seconds ********************\n"
     ]
    },
    {
     "name": "stderr",
     "output_type": "stream",
     "text": [
      "201it [01:10,  2.88it/s]"
     ]
    },
    {
     "name": "stdout",
     "output_type": "stream",
     "text": [
      "******************** training batch200/1400,\tbatch shape: (1, 30, 9766)\t\ttraining time: 0.341seconds ********************\n"
     ]
    },
    {
     "name": "stderr",
     "output_type": "stream",
     "text": [
      "301it [01:45,  2.82it/s]"
     ]
    },
    {
     "name": "stdout",
     "output_type": "stream",
     "text": [
      "******************** training batch300/1400,\tbatch shape: (1, 30, 9766)\t\ttraining time: 0.345seconds ********************\n"
     ]
    },
    {
     "name": "stderr",
     "output_type": "stream",
     "text": [
      "401it [02:20,  2.90it/s]"
     ]
    },
    {
     "name": "stdout",
     "output_type": "stream",
     "text": [
      "******************** training batch400/1400,\tbatch shape: (1, 30, 9766)\t\ttraining time: 0.343seconds ********************\n"
     ]
    },
    {
     "name": "stderr",
     "output_type": "stream",
     "text": [
      "501it [02:54,  2.86it/s]"
     ]
    },
    {
     "name": "stdout",
     "output_type": "stream",
     "text": [
      "******************** training batch500/1400,\tbatch shape: (1, 30, 9766)\t\ttraining time: 0.345seconds ********************\n"
     ]
    },
    {
     "name": "stderr",
     "output_type": "stream",
     "text": [
      "601it [03:29,  2.82it/s]"
     ]
    },
    {
     "name": "stdout",
     "output_type": "stream",
     "text": [
      "******************** training batch600/1400,\tbatch shape: (1, 30, 9766)\t\ttraining time: 0.344seconds ********************\n"
     ]
    },
    {
     "name": "stderr",
     "output_type": "stream",
     "text": [
      "701it [04:04,  2.89it/s]"
     ]
    },
    {
     "name": "stdout",
     "output_type": "stream",
     "text": [
      "******************** training batch700/1400,\tbatch shape: (1, 30, 9766)\t\ttraining time: 0.345seconds ********************\n"
     ]
    },
    {
     "name": "stderr",
     "output_type": "stream",
     "text": [
      "801it [04:40,  2.86it/s]"
     ]
    },
    {
     "name": "stdout",
     "output_type": "stream",
     "text": [
      "******************** training batch800/1400,\tbatch shape: (1, 30, 9766)\t\ttraining time: 0.342seconds ********************\n"
     ]
    },
    {
     "name": "stderr",
     "output_type": "stream",
     "text": [
      "901it [05:15,  2.78it/s]"
     ]
    },
    {
     "name": "stdout",
     "output_type": "stream",
     "text": [
      "******************** training batch900/1400,\tbatch shape: (1, 30, 9766)\t\ttraining time: 0.360seconds ********************\n"
     ]
    },
    {
     "name": "stderr",
     "output_type": "stream",
     "text": [
      "1001it [05:50,  2.89it/s]"
     ]
    },
    {
     "name": "stdout",
     "output_type": "stream",
     "text": [
      "******************** training batch1000/1400,\tbatch shape: (1, 30, 9766)\t\ttraining time: 0.346seconds ********************\n"
     ]
    },
    {
     "name": "stderr",
     "output_type": "stream",
     "text": [
      "1101it [06:25,  2.89it/s]"
     ]
    },
    {
     "name": "stdout",
     "output_type": "stream",
     "text": [
      "******************** training batch1100/1400,\tbatch shape: (1, 30, 9766)\t\ttraining time: 0.345seconds ********************\n"
     ]
    },
    {
     "name": "stderr",
     "output_type": "stream",
     "text": [
      "1201it [07:00,  2.86it/s]"
     ]
    },
    {
     "name": "stdout",
     "output_type": "stream",
     "text": [
      "******************** training batch1200/1400,\tbatch shape: (1, 30, 9766)\t\ttraining time: 0.344seconds ********************\n"
     ]
    },
    {
     "name": "stderr",
     "output_type": "stream",
     "text": [
      "1301it [07:35,  2.85it/s]"
     ]
    },
    {
     "name": "stdout",
     "output_type": "stream",
     "text": [
      "******************** training batch1300/1400,\tbatch shape: (1, 30, 9766)\t\ttraining time: 0.353seconds ********************\n"
     ]
    },
    {
     "name": "stderr",
     "output_type": "stream",
     "text": [
      "1400it [08:10,  2.85it/s]\n",
      "0it [00:00, ?it/s]"
     ]
    },
    {
     "name": "stdout",
     "output_type": "stream",
     "text": [
      "\tTrain accuracy: 0.577857\tDev accuracy: 0.505000\n",
      "\tTrain loss: 0.692115\tDev loss: 0.693041\n",
      "\ttraining time:  490.772seconds\tpredict train set time:  667.538seconds\tpredict dev set time:  221.365seconds\n",
      "======================================== Epoch: 6 END ========================================\n",
      "\n",
      "======================================== Epoch: 7 START ========================================\n",
      "\n"
     ]
    },
    {
     "name": "stderr",
     "output_type": "stream",
     "text": [
      "\r",
      "1it [00:00,  2.67it/s]"
     ]
    },
    {
     "name": "stdout",
     "output_type": "stream",
     "text": [
      "******************** training batch0/1400,\tbatch shape: (1, 30, 9766)\t\ttraining time: 0.371seconds ********************\n"
     ]
    },
    {
     "name": "stderr",
     "output_type": "stream",
     "text": [
      "101it [00:35,  2.85it/s]"
     ]
    },
    {
     "name": "stdout",
     "output_type": "stream",
     "text": [
      "******************** training batch100/1400,\tbatch shape: (1, 30, 9766)\t\ttraining time: 0.340seconds ********************\n"
     ]
    },
    {
     "name": "stderr",
     "output_type": "stream",
     "text": [
      "201it [01:09,  2.89it/s]"
     ]
    },
    {
     "name": "stdout",
     "output_type": "stream",
     "text": [
      "******************** training batch200/1400,\tbatch shape: (1, 30, 9766)\t\ttraining time: 0.343seconds ********************\n"
     ]
    },
    {
     "name": "stderr",
     "output_type": "stream",
     "text": [
      "301it [01:44,  2.85it/s]"
     ]
    },
    {
     "name": "stdout",
     "output_type": "stream",
     "text": [
      "******************** training batch300/1400,\tbatch shape: (1, 30, 9766)\t\ttraining time: 0.344seconds ********************\n"
     ]
    },
    {
     "name": "stderr",
     "output_type": "stream",
     "text": [
      "401it [02:19,  2.38it/s]"
     ]
    },
    {
     "name": "stdout",
     "output_type": "stream",
     "text": [
      "******************** training batch400/1400,\tbatch shape: (1, 30, 9766)\t\ttraining time: 0.474seconds ********************\n"
     ]
    },
    {
     "name": "stderr",
     "output_type": "stream",
     "text": [
      "501it [02:54,  2.89it/s]"
     ]
    },
    {
     "name": "stdout",
     "output_type": "stream",
     "text": [
      "******************** training batch500/1400,\tbatch shape: (1, 30, 9766)\t\ttraining time: 0.342seconds ********************\n"
     ]
    },
    {
     "name": "stderr",
     "output_type": "stream",
     "text": [
      "601it [03:29,  2.85it/s]"
     ]
    },
    {
     "name": "stdout",
     "output_type": "stream",
     "text": [
      "******************** training batch600/1400,\tbatch shape: (1, 30, 9766)\t\ttraining time: 0.348seconds ********************\n"
     ]
    },
    {
     "name": "stderr",
     "output_type": "stream",
     "text": [
      "701it [04:04,  2.89it/s]"
     ]
    },
    {
     "name": "stdout",
     "output_type": "stream",
     "text": [
      "******************** training batch700/1400,\tbatch shape: (1, 30, 9766)\t\ttraining time: 0.342seconds ********************\n"
     ]
    },
    {
     "name": "stderr",
     "output_type": "stream",
     "text": [
      "801it [04:39,  2.82it/s]"
     ]
    },
    {
     "name": "stdout",
     "output_type": "stream",
     "text": [
      "******************** training batch800/1400,\tbatch shape: (1, 30, 9766)\t\ttraining time: 0.343seconds ********************\n"
     ]
    },
    {
     "name": "stderr",
     "output_type": "stream",
     "text": [
      "901it [05:14,  2.87it/s]"
     ]
    },
    {
     "name": "stdout",
     "output_type": "stream",
     "text": [
      "******************** training batch900/1400,\tbatch shape: (1, 30, 9766)\t\ttraining time: 0.342seconds ********************\n"
     ]
    },
    {
     "name": "stderr",
     "output_type": "stream",
     "text": [
      "1001it [05:50,  2.84it/s]"
     ]
    },
    {
     "name": "stdout",
     "output_type": "stream",
     "text": [
      "******************** training batch1000/1400,\tbatch shape: (1, 30, 9766)\t\ttraining time: 0.362seconds ********************\n"
     ]
    },
    {
     "name": "stderr",
     "output_type": "stream",
     "text": [
      "1101it [06:26,  2.88it/s]"
     ]
    },
    {
     "name": "stdout",
     "output_type": "stream",
     "text": [
      "******************** training batch1100/1400,\tbatch shape: (1, 30, 9766)\t\ttraining time: 0.346seconds ********************\n"
     ]
    },
    {
     "name": "stderr",
     "output_type": "stream",
     "text": [
      "1201it [07:01,  2.87it/s]"
     ]
    },
    {
     "name": "stdout",
     "output_type": "stream",
     "text": [
      "******************** training batch1200/1400,\tbatch shape: (1, 30, 9766)\t\ttraining time: 0.346seconds ********************\n"
     ]
    },
    {
     "name": "stderr",
     "output_type": "stream",
     "text": [
      "1301it [07:36,  2.88it/s]"
     ]
    },
    {
     "name": "stdout",
     "output_type": "stream",
     "text": [
      "******************** training batch1300/1400,\tbatch shape: (1, 30, 9766)\t\ttraining time: 0.347seconds ********************\n"
     ]
    },
    {
     "name": "stderr",
     "output_type": "stream",
     "text": [
      "1400it [08:10,  2.85it/s]\n",
      "0it [00:00, ?it/s]"
     ]
    },
    {
     "name": "stdout",
     "output_type": "stream",
     "text": [
      "\tTrain accuracy: 0.560000\tDev accuracy: 0.506667\n",
      "\tTrain loss: 0.691483\tDev loss: 0.692854\n",
      "\ttraining time:  490.861seconds\tpredict train set time:  668.038seconds\tpredict dev set time:  222.221seconds\n",
      "======================================== Epoch: 7 END ========================================\n",
      "\n",
      "======================================== Epoch: 8 START ========================================\n",
      "\n"
     ]
    },
    {
     "name": "stderr",
     "output_type": "stream",
     "text": [
      "\r",
      "1it [00:00,  2.65it/s]"
     ]
    },
    {
     "name": "stdout",
     "output_type": "stream",
     "text": [
      "******************** training batch0/1400,\tbatch shape: (1, 30, 9766)\t\ttraining time: 0.374seconds ********************\n"
     ]
    },
    {
     "name": "stderr",
     "output_type": "stream",
     "text": [
      "101it [00:35,  2.89it/s]"
     ]
    },
    {
     "name": "stdout",
     "output_type": "stream",
     "text": [
      "******************** training batch100/1400,\tbatch shape: (1, 30, 9766)\t\ttraining time: 0.345seconds ********************\n"
     ]
    },
    {
     "name": "stderr",
     "output_type": "stream",
     "text": [
      "201it [01:10,  2.83it/s]"
     ]
    },
    {
     "name": "stdout",
     "output_type": "stream",
     "text": [
      "******************** training batch200/1400,\tbatch shape: (1, 30, 9766)\t\ttraining time: 0.343seconds ********************\n"
     ]
    },
    {
     "name": "stderr",
     "output_type": "stream",
     "text": [
      "301it [01:45,  2.90it/s]"
     ]
    },
    {
     "name": "stdout",
     "output_type": "stream",
     "text": [
      "******************** training batch300/1400,\tbatch shape: (1, 30, 9766)\t\ttraining time: 0.344seconds ********************\n"
     ]
    },
    {
     "name": "stderr",
     "output_type": "stream",
     "text": [
      "401it [02:20,  2.90it/s]"
     ]
    },
    {
     "name": "stdout",
     "output_type": "stream",
     "text": [
      "******************** training batch400/1400,\tbatch shape: (1, 30, 9766)\t\ttraining time: 0.343seconds ********************\n"
     ]
    },
    {
     "name": "stderr",
     "output_type": "stream",
     "text": [
      "501it [02:55,  2.88it/s]"
     ]
    },
    {
     "name": "stdout",
     "output_type": "stream",
     "text": [
      "******************** training batch500/1400,\tbatch shape: (1, 30, 9766)\t\ttraining time: 0.343seconds ********************\n"
     ]
    },
    {
     "name": "stderr",
     "output_type": "stream",
     "text": [
      "601it [03:30,  2.89it/s]"
     ]
    },
    {
     "name": "stdout",
     "output_type": "stream",
     "text": [
      "******************** training batch600/1400,\tbatch shape: (1, 30, 9766)\t\ttraining time: 0.346seconds ********************\n"
     ]
    },
    {
     "name": "stderr",
     "output_type": "stream",
     "text": [
      "701it [04:05,  2.87it/s]"
     ]
    },
    {
     "name": "stdout",
     "output_type": "stream",
     "text": [
      "******************** training batch700/1400,\tbatch shape: (1, 30, 9766)\t\ttraining time: 0.346seconds ********************\n"
     ]
    },
    {
     "name": "stderr",
     "output_type": "stream",
     "text": [
      "801it [04:40,  2.85it/s]"
     ]
    },
    {
     "name": "stdout",
     "output_type": "stream",
     "text": [
      "******************** training batch800/1400,\tbatch shape: (1, 30, 9766)\t\ttraining time: 0.346seconds ********************\n"
     ]
    },
    {
     "name": "stderr",
     "output_type": "stream",
     "text": [
      "901it [05:15,  2.87it/s]"
     ]
    },
    {
     "name": "stdout",
     "output_type": "stream",
     "text": [
      "******************** training batch900/1400,\tbatch shape: (1, 30, 9766)\t\ttraining time: 0.344seconds ********************\n"
     ]
    },
    {
     "name": "stderr",
     "output_type": "stream",
     "text": [
      "1001it [05:51,  2.77it/s]"
     ]
    },
    {
     "name": "stdout",
     "output_type": "stream",
     "text": [
      "******************** training batch1000/1400,\tbatch shape: (1, 30, 9766)\t\ttraining time: 0.352seconds ********************\n"
     ]
    },
    {
     "name": "stderr",
     "output_type": "stream",
     "text": [
      "1101it [06:26,  2.88it/s]"
     ]
    },
    {
     "name": "stdout",
     "output_type": "stream",
     "text": [
      "******************** training batch1100/1400,\tbatch shape: (1, 30, 9766)\t\ttraining time: 0.348seconds ********************\n"
     ]
    },
    {
     "name": "stderr",
     "output_type": "stream",
     "text": [
      "1201it [07:01,  2.88it/s]"
     ]
    },
    {
     "name": "stdout",
     "output_type": "stream",
     "text": [
      "******************** training batch1200/1400,\tbatch shape: (1, 30, 9766)\t\ttraining time: 0.351seconds ********************\n"
     ]
    },
    {
     "name": "stderr",
     "output_type": "stream",
     "text": [
      "1301it [07:36,  2.80it/s]"
     ]
    },
    {
     "name": "stdout",
     "output_type": "stream",
     "text": [
      "******************** training batch1300/1400,\tbatch shape: (1, 30, 9766)\t\ttraining time: 0.344seconds ********************\n"
     ]
    },
    {
     "name": "stderr",
     "output_type": "stream",
     "text": [
      "1400it [08:11,  2.85it/s]\n",
      "0it [00:00, ?it/s]"
     ]
    },
    {
     "name": "stdout",
     "output_type": "stream",
     "text": [
      "\tTrain accuracy: 0.505000\tDev accuracy: 0.503333\n",
      "\tTrain loss: 0.690828\tDev loss: 0.692739\n",
      "\ttraining time:  491.952seconds\tpredict train set time:  673.914seconds\tpredict dev set time:  222.257seconds\n",
      "======================================== Epoch: 8 END ========================================\n",
      "\n",
      "======================================== Epoch: 9 START ========================================\n",
      "\n"
     ]
    },
    {
     "name": "stderr",
     "output_type": "stream",
     "text": [
      "\r",
      "1it [00:00,  2.66it/s]"
     ]
    },
    {
     "name": "stdout",
     "output_type": "stream",
     "text": [
      "******************** training batch0/1400,\tbatch shape: (1, 30, 9766)\t\ttraining time: 0.374seconds ********************\n"
     ]
    },
    {
     "name": "stderr",
     "output_type": "stream",
     "text": [
      "101it [00:35,  2.90it/s]"
     ]
    },
    {
     "name": "stdout",
     "output_type": "stream",
     "text": [
      "******************** training batch100/1400,\tbatch shape: (1, 30, 9766)\t\ttraining time: 0.343seconds ********************\n"
     ]
    },
    {
     "name": "stderr",
     "output_type": "stream",
     "text": [
      "201it [01:10,  2.88it/s]"
     ]
    },
    {
     "name": "stdout",
     "output_type": "stream",
     "text": [
      "******************** training batch200/1400,\tbatch shape: (1, 30, 9766)\t\ttraining time: 0.343seconds ********************\n"
     ]
    },
    {
     "name": "stderr",
     "output_type": "stream",
     "text": [
      "301it [01:44,  2.90it/s]"
     ]
    },
    {
     "name": "stdout",
     "output_type": "stream",
     "text": [
      "******************** training batch300/1400,\tbatch shape: (1, 30, 9766)\t\ttraining time: 0.343seconds ********************\n"
     ]
    },
    {
     "name": "stderr",
     "output_type": "stream",
     "text": [
      "401it [02:19,  2.89it/s]"
     ]
    },
    {
     "name": "stdout",
     "output_type": "stream",
     "text": [
      "******************** training batch400/1400,\tbatch shape: (1, 30, 9766)\t\ttraining time: 0.344seconds ********************\n"
     ]
    },
    {
     "name": "stderr",
     "output_type": "stream",
     "text": [
      "501it [02:55,  2.88it/s]"
     ]
    },
    {
     "name": "stdout",
     "output_type": "stream",
     "text": [
      "******************** training batch500/1400,\tbatch shape: (1, 30, 9766)\t\ttraining time: 0.342seconds ********************\n"
     ]
    },
    {
     "name": "stderr",
     "output_type": "stream",
     "text": [
      "601it [03:30,  2.80it/s]"
     ]
    },
    {
     "name": "stdout",
     "output_type": "stream",
     "text": [
      "******************** training batch600/1400,\tbatch shape: (1, 30, 9766)\t\ttraining time: 0.352seconds ********************\n"
     ]
    },
    {
     "name": "stderr",
     "output_type": "stream",
     "text": [
      "701it [04:04,  2.89it/s]"
     ]
    },
    {
     "name": "stdout",
     "output_type": "stream",
     "text": [
      "******************** training batch700/1400,\tbatch shape: (1, 30, 9766)\t\ttraining time: 0.345seconds ********************\n"
     ]
    },
    {
     "name": "stderr",
     "output_type": "stream",
     "text": [
      "801it [04:40,  2.88it/s]"
     ]
    },
    {
     "name": "stdout",
     "output_type": "stream",
     "text": [
      "******************** training batch800/1400,\tbatch shape: (1, 30, 9766)\t\ttraining time: 0.343seconds ********************\n"
     ]
    },
    {
     "name": "stderr",
     "output_type": "stream",
     "text": [
      "901it [05:15,  2.89it/s]"
     ]
    },
    {
     "name": "stdout",
     "output_type": "stream",
     "text": [
      "******************** training batch900/1400,\tbatch shape: (1, 30, 9766)\t\ttraining time: 0.343seconds ********************\n"
     ]
    },
    {
     "name": "stderr",
     "output_type": "stream",
     "text": [
      "1001it [05:50,  2.79it/s]"
     ]
    },
    {
     "name": "stdout",
     "output_type": "stream",
     "text": [
      "******************** training batch1000/1400,\tbatch shape: (1, 30, 9766)\t\ttraining time: 0.387seconds ********************\n"
     ]
    },
    {
     "name": "stderr",
     "output_type": "stream",
     "text": [
      "1101it [06:25,  2.80it/s]"
     ]
    },
    {
     "name": "stdout",
     "output_type": "stream",
     "text": [
      "******************** training batch1100/1400,\tbatch shape: (1, 30, 9766)\t\ttraining time: 0.345seconds ********************\n"
     ]
    },
    {
     "name": "stderr",
     "output_type": "stream",
     "text": [
      "1201it [07:01,  2.85it/s]"
     ]
    },
    {
     "name": "stdout",
     "output_type": "stream",
     "text": [
      "******************** training batch1200/1400,\tbatch shape: (1, 30, 9766)\t\ttraining time: 0.346seconds ********************\n"
     ]
    },
    {
     "name": "stderr",
     "output_type": "stream",
     "text": [
      "1301it [07:36,  2.84it/s]"
     ]
    },
    {
     "name": "stdout",
     "output_type": "stream",
     "text": [
      "******************** training batch1300/1400,\tbatch shape: (1, 30, 9766)\t\ttraining time: 0.344seconds ********************\n"
     ]
    },
    {
     "name": "stderr",
     "output_type": "stream",
     "text": [
      "1400it [08:10,  2.85it/s]\n",
      "0it [00:00, ?it/s]"
     ]
    },
    {
     "name": "stdout",
     "output_type": "stream",
     "text": [
      "\tTrain accuracy: 0.497857\tDev accuracy: 0.500000\n",
      "\tTrain loss: 0.690376\tDev loss: 0.692802\n",
      "\ttraining time:  490.774seconds\tpredict train set time:  668.622seconds\tpredict dev set time:  223.312seconds\n",
      "======================================== Epoch: 9 END ========================================\n",
      "\n",
      "======================================== Epoch: 10 START ========================================\n",
      "\n"
     ]
    },
    {
     "name": "stderr",
     "output_type": "stream",
     "text": [
      "\r",
      "1it [00:00,  2.68it/s]"
     ]
    },
    {
     "name": "stdout",
     "output_type": "stream",
     "text": [
      "******************** training batch0/1400,\tbatch shape: (1, 30, 9766)\t\ttraining time: 0.370seconds ********************\n"
     ]
    },
    {
     "name": "stderr",
     "output_type": "stream",
     "text": [
      "101it [00:35,  2.86it/s]"
     ]
    },
    {
     "name": "stdout",
     "output_type": "stream",
     "text": [
      "******************** training batch100/1400,\tbatch shape: (1, 30, 9766)\t\ttraining time: 0.344seconds ********************\n"
     ]
    },
    {
     "name": "stderr",
     "output_type": "stream",
     "text": [
      "201it [01:10,  2.88it/s]"
     ]
    },
    {
     "name": "stdout",
     "output_type": "stream",
     "text": [
      "******************** training batch200/1400,\tbatch shape: (1, 30, 9766)\t\ttraining time: 0.343seconds ********************\n"
     ]
    },
    {
     "name": "stderr",
     "output_type": "stream",
     "text": [
      "301it [01:45,  2.85it/s]"
     ]
    },
    {
     "name": "stdout",
     "output_type": "stream",
     "text": [
      "******************** training batch300/1400,\tbatch shape: (1, 30, 9766)\t\ttraining time: 0.343seconds ********************\n"
     ]
    },
    {
     "name": "stderr",
     "output_type": "stream",
     "text": [
      "401it [02:19,  2.88it/s]"
     ]
    },
    {
     "name": "stdout",
     "output_type": "stream",
     "text": [
      "******************** training batch400/1400,\tbatch shape: (1, 30, 9766)\t\ttraining time: 0.344seconds ********************\n"
     ]
    },
    {
     "name": "stderr",
     "output_type": "stream",
     "text": [
      "501it [02:54,  2.88it/s]"
     ]
    },
    {
     "name": "stdout",
     "output_type": "stream",
     "text": [
      "******************** training batch500/1400,\tbatch shape: (1, 30, 9766)\t\ttraining time: 0.342seconds ********************\n"
     ]
    },
    {
     "name": "stderr",
     "output_type": "stream",
     "text": [
      "601it [03:30,  2.89it/s]"
     ]
    },
    {
     "name": "stdout",
     "output_type": "stream",
     "text": [
      "******************** training batch600/1400,\tbatch shape: (1, 30, 9766)\t\ttraining time: 0.338seconds ********************\n"
     ]
    },
    {
     "name": "stderr",
     "output_type": "stream",
     "text": [
      "701it [04:04,  2.92it/s]"
     ]
    },
    {
     "name": "stdout",
     "output_type": "stream",
     "text": [
      "******************** training batch700/1400,\tbatch shape: (1, 30, 9766)\t\ttraining time: 0.340seconds ********************\n"
     ]
    },
    {
     "name": "stderr",
     "output_type": "stream",
     "text": [
      "801it [04:39,  2.89it/s]"
     ]
    },
    {
     "name": "stdout",
     "output_type": "stream",
     "text": [
      "******************** training batch800/1400,\tbatch shape: (1, 30, 9766)\t\ttraining time: 0.345seconds ********************\n"
     ]
    },
    {
     "name": "stderr",
     "output_type": "stream",
     "text": [
      "901it [05:14,  2.84it/s]"
     ]
    },
    {
     "name": "stdout",
     "output_type": "stream",
     "text": [
      "******************** training batch900/1400,\tbatch shape: (1, 30, 9766)\t\ttraining time: 0.352seconds ********************\n"
     ]
    },
    {
     "name": "stderr",
     "output_type": "stream",
     "text": [
      "1001it [05:49,  2.88it/s]"
     ]
    },
    {
     "name": "stdout",
     "output_type": "stream",
     "text": [
      "******************** training batch1000/1400,\tbatch shape: (1, 30, 9766)\t\ttraining time: 0.346seconds ********************\n"
     ]
    },
    {
     "name": "stderr",
     "output_type": "stream",
     "text": [
      "1101it [06:24,  2.89it/s]"
     ]
    },
    {
     "name": "stdout",
     "output_type": "stream",
     "text": [
      "******************** training batch1100/1400,\tbatch shape: (1, 30, 9766)\t\ttraining time: 0.345seconds ********************\n"
     ]
    },
    {
     "name": "stderr",
     "output_type": "stream",
     "text": [
      "1201it [07:00,  2.85it/s]"
     ]
    },
    {
     "name": "stdout",
     "output_type": "stream",
     "text": [
      "******************** training batch1200/1400,\tbatch shape: (1, 30, 9766)\t\ttraining time: 0.344seconds ********************\n"
     ]
    },
    {
     "name": "stderr",
     "output_type": "stream",
     "text": [
      "1301it [07:35,  2.85it/s]"
     ]
    },
    {
     "name": "stdout",
     "output_type": "stream",
     "text": [
      "******************** training batch1300/1400,\tbatch shape: (1, 30, 9766)\t\ttraining time: 0.359seconds ********************\n"
     ]
    },
    {
     "name": "stderr",
     "output_type": "stream",
     "text": [
      "1400it [08:09,  2.86it/s]\n"
     ]
    },
    {
     "name": "stdout",
     "output_type": "stream",
     "text": [
      "\tTrain accuracy: 0.498571\tDev accuracy: 0.501667\n",
      "\tTrain loss: 0.690234\tDev loss: 0.693037\n",
      "\ttraining time:  489.924seconds\tpredict train set time:  679.313seconds\tpredict dev set time:  221.253seconds\n",
      "======================================== Epoch: 10 END ========================================\n",
      "\n"
     ]
    }
   ],
   "source": [
    "# batch_size = 1: SGD\n",
    "train_score = cls.train(X_train, y_train, X_dev, y_dev, nEpoch=10, raw_text=False, batch_size=1)"
   ]
  },
  {
   "cell_type": "code",
   "execution_count": 30,
   "metadata": {},
   "outputs": [],
   "source": [
    "train_score = pd.DataFrame(train_score, columns=['train_acc', 'val_acc', 'train_loss', 'val_loss'])"
   ]
  },
  {
   "cell_type": "code",
   "execution_count": 34,
   "metadata": {},
   "outputs": [],
   "source": [
    "import matplotlib.pyplot as plt"
   ]
  },
  {
   "cell_type": "code",
   "execution_count": 40,
   "metadata": {},
   "outputs": [
    {
     "data": {
      "image/png": "[encoded data removed]",
      "text/plain": [
       "<Figure size 720x360 with 2 Axes>"
      ]
     },
     "metadata": {
      "needs_background": "light"
     },
     "output_type": "display_data"
    }
   ],
   "source": [
    "fig, ax = plt.subplots(figsize=(10, 5))\n",
    "_ = train_score.iloc[:, :2].plot(ax=ax)\n",
    "ax2 = ax.twinx()\n",
    "_ = train_score.iloc[:, 2:].plot(ax=ax2, style='.-')\n",
    "_ = ax.set_ylabel('accuracy')\n",
    "_ = ax2.set_ylabel('loss')"
   ]
  },
  {
   "cell_type": "code",
   "execution_count": 42,
   "metadata": {},
   "outputs": [
    {
     "data": {
      "text/plain": [
       "<__main__.CNNTextClassificationModel at 0x7f976aa9e1d0>"
      ]
     },
     "execution_count": 42,
     "metadata": {},
     "output_type": "execute_result"
    }
   ],
   "source": [
    "cls"
   ]
  },
  {
   "cell_type": "code",
   "execution_count": 43,
   "metadata": {},
   "outputs": [],
   "source": [
    "test_data = load_data(\"test.txt\")"
   ]
  },
  {
   "cell_type": "code",
   "execution_count": 47,
   "metadata": {},
   "outputs": [],
   "source": [
    "X_test = test_data.text"
   ]
  },
  {
   "cell_type": "code",
   "execution_count": 50,
   "metadata": {},
   "outputs": [],
   "source": [
    "X_test = cls.pipeline(X_test)"
   ]
  },
  {
   "cell_type": "code",
   "execution_count": 61,
   "metadata": {},
   "outputs": [],
   "source": [
    "pred = cls.predict(X_test.A.reshape(X_test.get_shape()[0], cls.sentence_length, cls.vocab_size))"
   ]
  },
  {
   "cell_type": "code",
   "execution_count": 64,
   "metadata": {},
   "outputs": [],
   "source": [
    "pred = np.where(pred, 'pos', 'neg')"
   ]
  },
  {
   "cell_type": "code",
   "execution_count": 67,
   "metadata": {},
   "outputs": [],
   "source": [
    "pd.Series(pred).to_csv('prediction.csv', header=False)"
   ]
  },
  {
   "cell_type": "code",
   "execution_count": null,
   "metadata": {},
   "outputs": [],
   "source": [
    "\"\"\"\n",
    "This cell shows you how the model will be used, you have to finish the cell below before you\n",
    "can run this cell. \n",
    "\n",
    "Once the implementation is done, you should hype tune the parameters to find the best config\n",
    "\n",
    "Note I only selected 2000 data points to speed up debugging, you should use all the data to train the \n",
    "final model\n",
    "\"\"\"\n",
    "from sklearn.model_selection import train_test_split\n",
    "data = load_data(\"train.txt\")\n",
    "vocab = read_vocab(\"vocab.txt\")\n",
    "# X, y = data.text, data.target\n",
    "# X_train, X_dev, y_train, y_dev = train_test_split(X[:2000], y[:2000], test_size=0.3)\n",
    "# cls = CNNTextClassificationModel(vocab)\n",
    "# cls.train(X_train, y_train, X_dev, y_dev, nEpoch=10)"
   ]
  },
  {
   "cell_type": "code",
   "execution_count": null,
   "metadata": {},
   "outputs": [],
   "source": []
  },
  {
   "cell_type": "markdown",
   "metadata": {},
   "source": [
    "# Optional: Build your model using Keras + Tensorflow\n",
    "\n",
    "So far we have always forced you to implement things from scratch. You may feel it's overwhelming, but fortunately, it is not how the real world works. In the real world, there are existing tools you can leverage, so you can focus on the most innovative part of your work. We asked you to do all the previous execises for learning purpose, and since you have already reached so far, it's time to unleash yourself and allow you the access to the real world toolings."
   ]
  },
  {
   "cell_type": "markdown",
   "metadata": {},
   "source": [
    "## Sample model "
   ]
  },
  {
   "cell_type": "code",
   "execution_count": 3,
   "metadata": {
    "ExecuteTime": {
     "end_time": "2019-03-20T05:06:30.995290Z",
     "start_time": "2019-03-20T05:06:30.927192Z"
    }
   },
   "outputs": [],
   "source": [
    "# First let's see how you can build a similar CNN model you just had using Keras\n",
    "from sklearn.pipeline import Pipeline\n",
    "from sklearn.preprocessing import OneHotEncoder\n",
    "\n",
    "MAX_LENGTH = 100"
   ]
  },
  {
   "cell_type": "code",
   "execution_count": 4,
   "metadata": {
    "ExecuteTime": {
     "end_time": "2019-03-20T05:03:13.785839Z",
     "start_time": "2019-03-20T05:03:13.732270Z"
    }
   },
   "outputs": [],
   "source": [
    "# Yes! it is a good practice to do data processing outside the ML model\n",
    "wnet = WordNetLemmatizer()\n",
    "# Numerical encode all the words\n",
    "unknown = vocab['__unknown__']\n",
    "X_train2 = [[vocab.get(wnet.lemmatize(w), unknown) for w in word_tokenize(sent)] for sent in X_train]\n",
    "X_dev2 = [[vocab.get(wnet.lemmatize(w), unknown)for w in word_tokenize(sent)] for sent in X_dev]\n",
    "\n",
    "# Tensorflow does not handle variable length input well, let's unify all input to the same length\n",
    "def trim_X(X, max_length=100, default=vocab['.']):\n",
    "    for i in range(len(X)):\n",
    "        if len(X[i]) > max_length:\n",
    "            X[i] = X[i][:max_length]\n",
    "        elif len(X[i]) < max_length:\n",
    "            X[i] = X[i] + [default] * (max_length - len(X[i]))\n",
    "            \n",
    "    return np.array(X)\n",
    "            \n",
    "X_train2 = trim_X(X_train2, MAX_LENGTH)\n",
    "X_dev2 = trim_X(X_dev2, MAX_LENGTH)\n",
    "\n",
    "\n",
    "# Now we have all the input data nicely encoded with numerical label, and each of the input data are trimmed \n",
    "# to have the same length. We would have needed to further apply one-hot encode for each word. However, this \n",
    "# would be very expensive, since each word will be expanded into a len(vocab) (~10000) length vector. Keras does\n",
    "# not support sparse matrix input at this moment. But don't worry, we will use an advanced technique called embedding\n",
    "# layer. This concept will be introduced in the next lesson. At this moment, you don't have to understand why."
   ]
  },
  {
   "cell_type": "code",
   "execution_count": 5,
   "metadata": {
    "ExecuteTime": {
     "end_time": "2019-03-20T05:38:00.091414Z",
     "start_time": "2019-03-20T05:37:59.875258Z"
    }
   },
   "outputs": [
    {
     "name": "stdout",
     "output_type": "stream",
     "text": [
      "Model: \"sequential\"\n",
      "_________________________________________________________________\n",
      "Layer (type)                 Output Shape              Param #   \n",
      "=================================================================\n",
      "Embedding-1 (Embedding)      (None, 100, 1024)         10241024  \n",
      "_________________________________________________________________\n",
      "Conv1D-1 (Conv1D)            (None, 99, 100)           204900    \n",
      "_________________________________________________________________\n",
      "MaxPooling1D-1 (GlobalMaxPoo (None, 100)               0         \n",
      "_________________________________________________________________\n",
      "Dense-1 (Dense)              (None, 1)                 101       \n",
      "=================================================================\n",
      "Total params: 10,446,025\n",
      "Trainable params: 10,446,025\n",
      "Non-trainable params: 0\n",
      "_________________________________________________________________\n",
      "None\n",
      "('You must install pydot (`pip install pydot`) and install graphviz (see instructions at https://graphviz.gitlab.io/download/) ', 'for plot_model/model_to_dot to work.')\n"
     ]
    },
    {
     "ename": "FileNotFoundError",
     "evalue": "[Errno 2] No such file or directory: 'RSAHZLURUY.png'",
     "output_type": "error",
     "traceback": [
      "\u001b[0;31m---------------------------------------------------------------------------\u001b[0m",
      "\u001b[0;31mFileNotFoundError\u001b[0m                         Traceback (most recent call last)",
      "\u001b[0;32m<ipython-input-5-b017e5608208>\u001b[0m in \u001b[0;36m<module>\u001b[0;34m\u001b[0m\n\u001b[1;32m      9\u001b[0m \u001b[0mprint\u001b[0m\u001b[0;34m(\u001b[0m\u001b[0mmodel\u001b[0m\u001b[0;34m.\u001b[0m\u001b[0msummary\u001b[0m\u001b[0;34m(\u001b[0m\u001b[0;34m)\u001b[0m\u001b[0;34m)\u001b[0m\u001b[0;34m\u001b[0m\u001b[0;34m\u001b[0m\u001b[0m\n\u001b[1;32m     10\u001b[0m \u001b[0;34m\u001b[0m\u001b[0m\n\u001b[0;32m---> 11\u001b[0;31m \u001b[0mshow_keras_model\u001b[0m\u001b[0;34m(\u001b[0m\u001b[0mmodel\u001b[0m\u001b[0;34m)\u001b[0m\u001b[0;34m\u001b[0m\u001b[0;34m\u001b[0m\u001b[0m\n\u001b[0m",
      "\u001b[0;32m~/Desktop/qishi/qishi_nlp/NLP-HW-2021/utils/general.py\u001b[0m in \u001b[0;36mshow_keras_model\u001b[0;34m(model)\u001b[0m\n\u001b[1;32m     13\u001b[0m     \u001b[0mplot_model\u001b[0m\u001b[0;34m(\u001b[0m\u001b[0mmodel\u001b[0m\u001b[0;34m,\u001b[0m \u001b[0mto_file\u001b[0m\u001b[0;34m=\u001b[0m\u001b[0mfilename\u001b[0m\u001b[0;34m,\u001b[0m \u001b[0mshow_shapes\u001b[0m\u001b[0;34m=\u001b[0m\u001b[0;32mTrue\u001b[0m\u001b[0;34m,\u001b[0m \u001b[0mshow_layer_names\u001b[0m\u001b[0;34m=\u001b[0m\u001b[0;32mTrue\u001b[0m\u001b[0;34m)\u001b[0m\u001b[0;34m\u001b[0m\u001b[0;34m\u001b[0m\u001b[0m\n\u001b[1;32m     14\u001b[0m     \u001b[0mimage\u001b[0m \u001b[0;34m=\u001b[0m \u001b[0mImage\u001b[0m\u001b[0;34m(\u001b[0m\u001b[0mfilename\u001b[0m\u001b[0;34m)\u001b[0m\u001b[0;34m\u001b[0m\u001b[0;34m\u001b[0m\u001b[0m\n\u001b[0;32m---> 15\u001b[0;31m     \u001b[0mos\u001b[0m\u001b[0;34m.\u001b[0m\u001b[0mremove\u001b[0m\u001b[0;34m(\u001b[0m\u001b[0mfilename\u001b[0m\u001b[0;34m)\u001b[0m\u001b[0;34m\u001b[0m\u001b[0;34m\u001b[0m\u001b[0m\n\u001b[0m\u001b[1;32m     16\u001b[0m     \u001b[0;32mreturn\u001b[0m \u001b[0mimage\u001b[0m\u001b[0;34m\u001b[0m\u001b[0;34m\u001b[0m\u001b[0m\n\u001b[1;32m     17\u001b[0m \u001b[0;34m\u001b[0m\u001b[0m\n",
      "\u001b[0;31mFileNotFoundError\u001b[0m: [Errno 2] No such file or directory: 'RSAHZLURUY.png'"
     ]
    }
   ],
   "source": [
    "from keras.models import Sequential\n",
    "from keras.layers import Embedding, Conv1D, MaxPooling1D, Dense, GlobalMaxPooling1D\n",
    "\n",
    "model = Sequential()\n",
    "model.add(Embedding(input_dim=len(vocab), input_length=MAX_LENGTH, output_dim=1024, name=\"Embedding-1\"))\n",
    "model.add(Conv1D(filters=100, kernel_size=2, activation=\"tanh\", name=\"Conv1D-1\"))\n",
    "model.add(GlobalMaxPooling1D(name=\"MaxPooling1D-1\"))\n",
    "model.add(Dense(1, activation=\"sigmoid\", name=\"Dense-1\"))\n",
    "print(model.summary())\n",
    "\n",
    "show_keras_model(model)"
   ]
  },
  {
   "cell_type": "code",
   "execution_count": 6,
   "metadata": {
    "ExecuteTime": {
     "end_time": "2019-03-20T05:39:27.542489Z",
     "start_time": "2019-03-20T05:38:02.612896Z"
    }
   },
   "outputs": [
    {
     "name": "stdout",
     "output_type": "stream",
     "text": [
      "Epoch 1/10\n",
      "44/44 [==============================] - 22s 194ms/step - loss: 0.6886 - accuracy: 0.5272 - val_loss: 0.6699 - val_accuracy: 0.5933\n",
      "Epoch 2/10\n",
      "44/44 [==============================] - 8s 187ms/step - loss: 0.5443 - accuracy: 0.8525 - val_loss: 0.6353 - val_accuracy: 0.6500\n",
      "Epoch 3/10\n",
      "44/44 [==============================] - 8s 182ms/step - loss: 0.3631 - accuracy: 0.9665 - val_loss: 0.6251 - val_accuracy: 0.6700\n",
      "Epoch 4/10\n",
      "44/44 [==============================] - 8s 186ms/step - loss: 0.1678 - accuracy: 0.9916 - val_loss: 0.6669 - val_accuracy: 0.6517\n",
      "Epoch 5/10\n",
      "44/44 [==============================] - 8s 192ms/step - loss: 0.0664 - accuracy: 0.9969 - val_loss: 0.7174 - val_accuracy: 0.6617\n",
      "Epoch 6/10\n",
      "44/44 [==============================] - 8s 183ms/step - loss: 0.0244 - accuracy: 0.9993 - val_loss: 0.7839 - val_accuracy: 0.6500\n",
      "Epoch 7/10\n",
      "44/44 [==============================] - 8s 183ms/step - loss: 0.0116 - accuracy: 1.0000 - val_loss: 0.8418 - val_accuracy: 0.6467\n",
      "Epoch 8/10\n",
      "44/44 [==============================] - 8s 178ms/step - loss: 0.0073 - accuracy: 1.0000 - val_loss: 0.8868 - val_accuracy: 0.6467\n",
      "Epoch 9/10\n",
      "44/44 [==============================] - 8s 182ms/step - loss: 0.0042 - accuracy: 1.0000 - val_loss: 0.9281 - val_accuracy: 0.6433\n",
      "Epoch 10/10\n",
      "44/44 [==============================] - 8s 186ms/step - loss: 0.0031 - accuracy: 1.0000 - val_loss: 0.9649 - val_accuracy: 0.6400\n"
     ]
    },
    {
     "data": {
      "text/plain": [
       "<keras.callbacks.History at 0x7fafc80f7790>"
      ]
     },
     "execution_count": 6,
     "metadata": {},
     "output_type": "execute_result"
    }
   ],
   "source": [
    "# Train the model\n",
    "model.compile(loss=\"binary_crossentropy\", optimizer='adam', metrics=['accuracy'])\n",
    "model.fit(X_train2, y_train, epochs=10, validation_data=(X_dev2, y_dev))"
   ]
  },
  {
   "cell_type": "markdown",
   "metadata": {},
   "source": [
    "## Play with your own model"
   ]
  },
  {
   "cell_type": "markdown",
   "metadata": {},
   "source": [
    "We have shown you have to use an industry level tool to build a CNN model. Hopefully you think it is simpler than the version we built from scratch. Not really? Read Keras Documentation and learn more: https://keras.io/ "
   ]
  },
  {
   "cell_type": "code",
   "execution_count": null,
   "metadata": {
    "ExecuteTime": {
     "end_time": "2019-03-19T07:24:16.164784Z",
     "start_time": "2019-03-19T07:24:16.104613Z"
    }
   },
   "outputs": [],
   "source": [
    "# # Now it's your turn to build some more complicated CNN models\n",
    "\n",
    "\"\"\"\n",
    "Implement your code here\n",
    "\"\"\""
   ]
  }
 ],
 "metadata": {
  "kernelspec": {
   "display_name": "Python 3",
   "language": "python",
   "name": "python3"
  },
  "language_info": {
   "codemirror_mode": {
    "name": "ipython",
    "version": 3
   },
   "file_extension": ".py",
   "mimetype": "text/x-python",
   "name": "python",
   "nbconvert_exporter": "python",
   "pygments_lexer": "ipython3",
   "version": "3.7.6"
  },
  "toc": {
   "base_numbering": 1,
   "nav_menu": {},
   "number_sections": false,
   "sideBar": true,
   "skip_h1_title": false,
   "title_cell": "Table of Contents",
   "title_sidebar": "Contents",
   "toc_cell": false,
   "toc_position": {
    "height": "calc(100% - 180px)",
    "left": "10px",
    "top": "150px",
    "width": "336px"
   },
   "toc_section_display": true,
   "toc_window_display": false
  }
 },
 "nbformat": 4,
 "nbformat_minor": 2
}
