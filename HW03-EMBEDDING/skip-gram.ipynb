{
 "cells": [
  {
   "cell_type": "markdown",
   "metadata": {},
   "source": [
    "# Introduction\n",
    "\n",
    "In this homework you will be given a chance to explore the properties of word embedding using a pre-trained embedding. Then you will build and train your own embedding using the skip-gram method.\n",
    "\n",
    "## Files\n",
    "- `hw03.ipynb`: Notebook file with starter code\n",
    "- `plot_summaries_tokenized.txt`: training data for skipgram\n",
    "- `glove_6B_100d_top100k.csv`: pretrained glove embedding\n",
    "\n",
    "The training data and glove embedding \n",
    "\n",
    "\n",
    "## Reading material\n",
    "\n",
    "1. [Learning representations by back-propagating errors](https://www.nature.com/articles/323533a0)\n",
    "\n",
    "Recent Turing Reward winner Geoffrey Hinton and coworkers first introduced the concept of words embedding in their 1986 Nature paper.\n",
    "\n",
    "2. [word2vec](https://code.google.com/archive/p/word2vec/)\n",
    "\n",
    "Google's word2vec project built on skip-gram and google news data.\n",
    "\n",
    "3. [Efficient Estimation of Word Representations in\n",
    "Vector Space](https://arxiv.org/pdf/1301.3781.pdf)\n",
    "\n",
    "   [Distributed Representations of Words and Phrases\n",
    "and their Compositionality](https://arxiv.org/pdf/1310.4546.pdf)\n",
    "\n",
    "Tomas Mikolov from Google published these two papers in 2013 proposing the skip-gram approach for word embedding which has become one of the most popular word embedding.\n",
    "\n",
    "4. [On word embeddings](http://ruder.io/word-embeddings-1/index.html)\n",
    "\n",
    "An online blog by DeepMind engineer Sebastian Ruder explaining skip-gram. I found it easier to understand than the original papers.\n",
    "\n",
    "## Deliverables:\n",
    "\n",
    "- pdf / html version of your final notebook\n",
    "- Discuss the questions in Section 3 (Play with pretrained)\n",
    "- If you have done any work to improve the model and model training, explain it."
   ]
  },
  {
   "cell_type": "markdown",
   "metadata": {},
   "source": [
    "## =========================Coding starts here =================="
   ]
  },
  {
   "cell_type": "markdown",
   "metadata": {},
   "source": [
    "# Required pacakges"
   ]
  },
  {
   "cell_type": "code",
   "execution_count": 2,
   "metadata": {
    "ExecuteTime": {
     "end_time": "2020-03-07T23:49:58.388977Z",
     "start_time": "2020-03-07T23:49:58.369081Z"
    }
   },
   "outputs": [],
   "source": [
    "%matplotlib inline\n",
    "import pandas as pd\n",
    "import seaborn as sns\n",
    "import matplotlib.pyplot as plt\n",
    "import sklearn\n",
    "import tensorflow.keras\n",
    "import numpy as np\n",
    "import os, sys\n",
    "\n",
    "# add utils folder to path\n",
    "p = os.path.dirname(os.getcwd())\n",
    "if p not in sys.path:\n",
    "    sys.path = [p] + sys.path\n",
    "\n",
    "from utils.hw3 import load_data\n",
    "from utils.general import show_keras_model"
   ]
  },
  {
   "cell_type": "markdown",
   "metadata": {},
   "source": [
    "# Play with pretrained embedding\n",
    "\n",
    "Before we start training our own words embedding, let's play with pretrained embeddings, so you know what you can expect from your own models. Here we use a very popular embedding called [GloVe](https://nlp.stanford.edu/projects/glove/) developed by standford university. The method used to produce this embedding is based on the factorization of word-word similarity matrix. Worth to notice, thi method is quite different to the skip-gram method we are going to implement later.\n",
    "\n",
    "First let's load the embedding as a Pandas DataFrame."
   ]
  },
  {
   "cell_type": "code",
   "execution_count": 62,
   "metadata": {
    "ExecuteTime": {
     "end_time": "2020-03-07T23:44:59.746988Z",
     "start_time": "2020-03-07T23:44:23.376812Z"
    },
    "scrolled": false
   },
   "outputs": [],
   "source": [
    "glove = pd.read_csv(\"glove_6B_100d_top100k.txt\")"
   ]
  },
  {
   "cell_type": "markdown",
   "metadata": {},
   "source": [
    "## Find nearest words\n",
    "One of the many motivations that people are interested in words embedding is that it reveals similarities between words. Let's first check how this works with GloVe."
   ]
  },
  {
   "cell_type": "code",
   "execution_count": 17,
   "metadata": {},
   "outputs": [],
   "source": [
    "from sklearn.metrics.pairwise import euclidean_distances, cosine_distances"
   ]
  },
  {
   "cell_type": "code",
   "execution_count": 493,
   "metadata": {
    "ExecuteTime": {
     "end_time": "2020-03-07T23:58:51.519272Z",
     "start_time": "2020-03-07T23:58:49.105932Z"
    }
   },
   "outputs": [],
   "source": [
    "def find_nearest(embedding, word=None, n=5, distance=euclidean_distances):\n",
    "    \"\"\"\n",
    "    For given embedding matrix and a given word, find the n nearest words in the embedding space\n",
    "    \n",
    "    input:\n",
    "        embedding: DataFrame, look at `glove` \n",
    "        word: string, must be in the index of embedding dataframe\n",
    "        n: int, number of nearest words\n",
    "        distance: fucntion, it should at least support the euclidean_distances and cosine_distances\n",
    "        \n",
    "    return:\n",
    "        A series with word as index, distance as value, sorted from lower to high\n",
    "    \"\"\"\n",
    "    \"\"\"\n",
    "    Write your code here\n",
    "    \"\"\"\n",
    "    dist_mtx = pd.Series(distance(embedding.values.T, embedding[word].values[None, :])[:, 0], index=embedding.columns)\n",
    "    return dist_mtx.sort_values().iloc[1:n+1]"
   ]
  },
  {
   "cell_type": "code",
   "execution_count": 355,
   "metadata": {
    "ExecuteTime": {
     "end_time": "2019-03-30T01:03:37.284629Z",
     "start_time": "2019-03-30T01:03:37.132508Z"
    }
   },
   "outputs": [
    {
     "name": "stdout",
     "output_type": "stream",
     "text": [
      "Using euclidean_distances, the closest words to frog are:\n",
      "dragon      4.210776\n",
      "elephant    4.273111\n",
      "wolf        4.667664\n",
      "beast       4.737944\n",
      "cat         4.739263\n",
      "dtype: float64\n",
      "Using cosine_distances, the closest words to frog are:\n",
      "dragon      0.301670\n",
      "elephant    0.329856\n",
      "leopard     0.386800\n",
      "bear        0.386803\n",
      "cat         0.404449\n",
      "dtype: float64\n"
     ]
    }
   ],
   "source": [
    "print(\"Using euclidean_distances, the closest words to frog are:\")\n",
    "print(find_nearest(glove, 'lion'))\n",
    "print(\"Using cosine_distances, the closest words to frog are:\")\n",
    "print(find_nearest(glove, 'lion', distance=cosine_distances))"
   ]
  },
  {
   "cell_type": "code",
   "execution_count": 356,
   "metadata": {
    "ExecuteTime": {
     "end_time": "2020-03-07T23:45:44.318582Z",
     "start_time": "2020-03-07T23:45:44.126284Z"
    }
   },
   "outputs": [
    {
     "name": "stdout",
     "output_type": "stream",
     "text": [
      "9    0.943478\n",
      "7    0.943649\n",
      "6    1.037347\n",
      "5    1.111455\n",
      "4    1.339804\n",
      "dtype: float64\n",
      "yahoo        0.136264\n",
      "microsoft    0.189590\n",
      "web          0.237019\n",
      "aol          0.242831\n",
      "facebook     0.248342\n",
      "dtype: float64\n"
     ]
    }
   ],
   "source": [
    "print(find_nearest(glove, '8'))\n",
    "\n",
    "print(find_nearest(glove, 'google', distance=cosine_distances))"
   ]
  },
  {
   "cell_type": "markdown",
   "metadata": {
    "ExecuteTime": {
     "end_time": "2019-03-29T02:05:13.828526Z",
     "start_time": "2019-03-29T02:05:13.732489Z"
    }
   },
   "source": [
    "What have you observed? Does the result make sense to you? Play with some other words, and see if you can find something interesting. Try countries and numebrs :). "
   ]
  },
  {
   "cell_type": "code",
   "execution_count": 357,
   "metadata": {},
   "outputs": [
    {
     "name": "stdout",
     "output_type": "stream",
     "text": [
      "20    1.226226\n",
      "15    1.264985\n",
      "12    1.399337\n",
      "16    1.800016\n",
      "30    1.806078\n",
      "dtype: float64\n"
     ]
    }
   ],
   "source": [
    "print(find_nearest(glove, '10'))"
   ]
  },
  {
   "cell_type": "code",
   "execution_count": 358,
   "metadata": {},
   "outputs": [
    {
     "name": "stdout",
     "output_type": "stream",
     "text": [
      "200    2.052482\n",
      "50     2.160203\n",
      "40     2.567075\n",
      "300    2.723240\n",
      "150    2.732946\n",
      "dtype: float64\n"
     ]
    }
   ],
   "source": [
    "print(find_nearest(glove, '100'))"
   ]
  },
  {
   "cell_type": "markdown",
   "metadata": {},
   "source": [
    "One interesting thing is that the nearset words of numbers are not always the neighbouring numbers. e.g. the 5 nearest words of *8* is *9, 7, 6, 5, 4*, while the 5 nearest words of *100* is *200, 50, 40, 300, 150*, which are all multiples of 10."
   ]
  },
  {
   "cell_type": "code",
   "execution_count": null,
   "metadata": {},
   "outputs": [],
   "source": []
  },
  {
   "cell_type": "markdown",
   "metadata": {},
   "source": [
    "## Find nearest words with vector\n",
    "Remember that at the beginning of the course we advertised the ability of word embedding being able to find relative relationship between words, such as king - male + female = queen. Let's test this with the embedding we have. But before that we need a method that's similar to find_nearest, but instead of taking a word, it takes an embedding vector as input."
   ]
  },
  {
   "cell_type": "code",
   "execution_count": 270,
   "metadata": {
    "ExecuteTime": {
     "end_time": "2020-03-07T23:58:59.476431Z",
     "start_time": "2020-03-07T23:58:59.469863Z"
    }
   },
   "outputs": [],
   "source": [
    "def find_nearest_with_vector(embedding, vector=None, n=5, distance=euclidean_distances):\n",
    "    \"\"\"\n",
    "    For given embedding matrix and a given vector, find the n nearest words in the embedding space\n",
    "    \n",
    "    input:\n",
    "        embedding: DataFrame, look at `glove` \n",
    "        vector: Series, looks like a coloumn vector of the embedding dataframe\n",
    "        n: int, number of nearest words\n",
    "        distance: fucntion, it should at least support the euclidean_distances and cosine_distances\n",
    "        \n",
    "    return:\n",
    "        A series with word as index, distance as value, sorted from lower to high\n",
    "    \"\"\"\n",
    "    \"\"\"\n",
    "    Write your code here\n",
    "    \"\"\"\n",
    "    dist_mtx = pd.Series(distance(embedding.values.T, vector.values[None, :])[:, 0], index=embedding.columns)\n",
    "    return dist_mtx.sort_values().iloc[1:n+1]"
   ]
  },
  {
   "cell_type": "code",
   "execution_count": 359,
   "metadata": {
    "ExecuteTime": {
     "end_time": "2019-03-29T06:02:47.514735Z",
     "start_time": "2019-03-29T06:02:47.422576Z"
    }
   },
   "outputs": [
    {
     "data": {
      "text/plain": [
       "queen      4.340831\n",
       "prince     4.542057\n",
       "monarch    4.704783\n",
       "brother    4.717307\n",
       "george     4.840019\n",
       "dtype: float64"
      ]
     },
     "execution_count": 359,
     "metadata": {},
     "output_type": "execute_result"
    }
   ],
   "source": [
    "find_nearest_with_vector(glove, glove['king']-glove['male']+glove['female'])"
   ]
  },
  {
   "cell_type": "code",
   "execution_count": 360,
   "metadata": {
    "ExecuteTime": {
     "end_time": "2020-03-07T23:46:03.833808Z",
     "start_time": "2020-03-07T23:46:03.754128Z"
    }
   },
   "outputs": [
    {
     "data": {
      "text/plain": [
       "capital       6.866541\n",
       "beijing       7.820086\n",
       "chinese       8.027392\n",
       "taiwan        8.451052\n",
       "government    8.454450\n",
       "dtype: float64"
      ]
     },
     "execution_count": 360,
     "metadata": {},
     "output_type": "execute_result"
    }
   ],
   "source": [
    "find_nearest_with_vector(glove, glove['china']+glove['capital'])"
   ]
  },
  {
   "cell_type": "markdown",
   "metadata": {
    "ExecuteTime": {
     "end_time": "2019-03-29T06:04:08.834136Z",
     "start_time": "2019-03-29T06:04:08.755134Z"
    }
   },
   "source": [
    "What did you see? Can you explore some other interesting relations? Like countries vs cities, etc."
   ]
  },
  {
   "cell_type": "code",
   "execution_count": 501,
   "metadata": {},
   "outputs": [
    {
     "data": {
      "text/plain": [
       "wales        16.594347\n",
       "scotland     16.684914\n",
       "ireland      16.824894\n",
       "australia    17.583587\n",
       "zealand      18.012780\n",
       "dtype: float64"
      ]
     },
     "execution_count": 501,
     "metadata": {},
     "output_type": "execute_result"
    }
   ],
   "source": [
    "find_nearest_with_vector(glove, glove['england']+glove['wales']+glove['scotland']+glove['ireland'])"
   ]
  },
  {
   "cell_type": "markdown",
   "metadata": {},
   "source": [
    "## Word clustering\n",
    "\n",
    "Another feature of the word embedding is that it can cluster similar word in to the same cluster while keep semantic relationship with other clusters. Try the following dimention reduction code:"
   ]
  },
  {
   "cell_type": "code",
   "execution_count": 273,
   "metadata": {
    "ExecuteTime": {
     "end_time": "2020-03-07T23:46:16.857248Z",
     "start_time": "2020-03-07T23:46:16.301587Z"
    }
   },
   "outputs": [],
   "source": [
    "from sklearn.decomposition import PCA\n",
    "\n",
    "def plot_2D(X, labels):\n",
    "    x_min, x_max = np.min(X, 0), np.max(X, 0)\n",
    "    X = 0.1 + 0.8 * (X - x_min) / (x_max - x_min)\n",
    "\n",
    "    plt.figure(figsize=(10, 8))\n",
    "    for x, lab in zip(X, labels):\n",
    "        plt.text(x[0], x[1], str(lab), fontdict={'size': 14})\n",
    "        \n",
    "def plot_words_embedding(embedding, words):\n",
    "    X = PCA(n_components=2).fit_transform(embedding[words].transpose())\n",
    "    plot_2D(X, words)"
   ]
  },
  {
   "cell_type": "code",
   "execution_count": 361,
   "metadata": {
    "ExecuteTime": {
     "end_time": "2020-03-07T23:46:51.609021Z",
     "start_time": "2020-03-07T23:46:50.969477Z"
    }
   },
   "outputs": [
    {
     "data": {
      "image/png": "[encoded data removed]",
      "text/plain": [
       "<Figure size 720x576 with 1 Axes>"
      ]
     },
     "metadata": {
      "needs_background": "light"
     },
     "output_type": "display_data"
    }
   ],
   "source": [
    "words = ['china', 'beijing', 'russia', 'moscow', 'poland', 'warsaw', 'japan', 'tokyo',\n",
    "        'france', 'paris', 'germany', 'berlin', 'italy', 'rome', 'spain', 'madrid']\n",
    "\n",
    "plot_words_embedding(glove, words)"
   ]
  },
  {
   "cell_type": "markdown",
   "metadata": {},
   "source": [
    "Have you spot something interesting? Try with some other words set and see what you can find."
   ]
  },
  {
   "cell_type": "markdown",
   "metadata": {},
   "source": [
    "Clearly the first dimension(xaxis) indicates the geographical location of the country and city, meaning the countries and cities on the left hand side are all in Europe, while the ones on the right hand side in Asia. The second dimension(yaxis) indicates whether the entity is a country or capital city."
   ]
  },
  {
   "cell_type": "markdown",
   "metadata": {},
   "source": [
    "# Skip-gram"
   ]
  },
  {
   "cell_type": "markdown",
   "metadata": {},
   "source": [
    "## Load the training data"
   ]
  },
  {
   "cell_type": "code",
   "execution_count": 97,
   "metadata": {
    "ExecuteTime": {
     "end_time": "2020-03-07T23:50:30.676072Z",
     "start_time": "2020-03-07T23:50:22.675511Z"
    }
   },
   "outputs": [
    {
     "name": "stdout",
     "output_type": "stream",
     "text": [
      "Number of summarys:  42306\n",
      "Number of words: 13065221\n",
      "Vocabulary size: 190786\n"
     ]
    }
   ],
   "source": [
    "text = load_data(\"plot_summaries_tokenized.txt\")\n",
    "\n",
    "print(\"Number of summarys: \", len(text))\n",
    "print(\"Number of words:\", len([w for s in text for w in s]))\n",
    "print(\"Vocabulary size:\", len({w for s in text for w in s}))"
   ]
  },
  {
   "cell_type": "markdown",
   "metadata": {
    "ExecuteTime": {
     "end_time": "2019-03-28T04:00:19.581151Z",
     "start_time": "2019-03-28T04:00:19.515978Z"
    }
   },
   "source": [
    "There are about 200K unique words in this corpus. To make it more computational feasible, let's reduce the size of the vocabulary:"
   ]
  },
  {
   "cell_type": "markdown",
   "metadata": {},
   "source": [
    "## Encode the text"
   ]
  },
  {
   "cell_type": "code",
   "execution_count": 99,
   "metadata": {},
   "outputs": [],
   "source": [
    "from collections import Counter"
   ]
  },
  {
   "cell_type": "code",
   "execution_count": 103,
   "metadata": {
    "ExecuteTime": {
     "end_time": "2020-03-07T23:59:22.225406Z",
     "start_time": "2020-03-07T23:59:22.216506Z"
    }
   },
   "outputs": [],
   "source": [
    "MIN_COUNT = 20\n",
    "def create_encoder(text, min_count=20):\n",
    "    \"\"\"\n",
    "    - Create a encoder which is a dictionary like {word: index}\n",
    "    - To reduce the total number of vocabularies, you can remove \n",
    "    the words that appear for less than min_count times in the entire\n",
    "    corpus\n",
    "    - Enfore {'_unknown_': 0}\n",
    "    \n",
    "    input:\n",
    "        text: list of token list, e.g. [['i', 'am', 'fine'], ['another', 'summary'], ...]\n",
    "    returns:\n",
    "        tokenmap:  encoder dictionary\n",
    "        tokenmap_reverse: reversed tokenmap {index: word} to faciliate inverse lookup\n",
    "    \"\"\"\n",
    "    \n",
    "    \"\"\"\n",
    "    Write your code here\n",
    "    \"\"\"\n",
    "    tokenmap = {'__unknown__': 0}\n",
    "    tokenmap_reverse = {0: '__unknown__'}\n",
    "    c = Counter()\n",
    "    for s in text:\n",
    "        c.update(s)\n",
    "    i = 1\n",
    "    for w, cnt in c.items():\n",
    "        if w not in tokenmap and cnt >= min_count:\n",
    "            tokenmap[w] = i\n",
    "            tokenmap_reverse[i] = w\n",
    "            i += 1\n",
    "    return tokenmap, tokenmap_reverse"
   ]
  },
  {
   "cell_type": "code",
   "execution_count": 104,
   "metadata": {
    "ExecuteTime": {
     "end_time": "2020-03-07T23:51:06.142814Z",
     "start_time": "2020-03-07T23:51:02.367188Z"
    }
   },
   "outputs": [
    {
     "name": "stdout",
     "output_type": "stream",
     "text": [
      "the reduced vocabulary size is: 26344\n"
     ]
    }
   ],
   "source": [
    "tokenmap, tokenmap_reverse = create_encoder(text, MIN_COUNT)\n",
    "VOCAB_SIZE = len(tokenmap)\n",
    "print(\"the reduced vocabulary size is:\", VOCAB_SIZE)"
   ]
  },
  {
   "cell_type": "code",
   "execution_count": 105,
   "metadata": {
    "ExecuteTime": {
     "end_time": "2020-03-07T23:51:11.898244Z",
     "start_time": "2020-03-07T23:51:11.891922Z"
    }
   },
   "outputs": [],
   "source": [
    "# Encoder the text using the encoder you just created\n",
    "def encode(text, tokenmap, default=0):\n",
    "    return [[tokenmap.get(t, default) for t in s] for s in text]"
   ]
  },
  {
   "cell_type": "code",
   "execution_count": 106,
   "metadata": {
    "ExecuteTime": {
     "end_time": "2019-03-30T01:32:45.468046Z",
     "start_time": "2019-03-30T01:32:37.844437Z"
    }
   },
   "outputs": [],
   "source": [
    "text_encoded = encode(text, tokenmap)"
   ]
  },
  {
   "cell_type": "markdown",
   "metadata": {},
   "source": [
    "## Construct training context pairs"
   ]
  },
  {
   "cell_type": "markdown",
   "metadata": {},
   "source": [
    "To generate training data, we need to find word-context pairs from the encoded text, \n",
    "we also want to generate some negative sample, so the input and output may look like:\n",
    "\n",
    "for input corpus: [[2, 3, 1, 2]] \n",
    "\n",
    "returns: [[word, context, label]]\n",
    "\n",
    "[[2, 3, 1], [2, 1, 1], [2, 2, 1], [3, 1, 1], ...., [4, 2, 0], [4, 3, 0], ...]\n",
    "\n",
    "Notice that in practice the sequence should be shuffled."
   ]
  },
  {
   "cell_type": "code",
   "execution_count": 245,
   "metadata": {
    "ExecuteTime": {
     "end_time": "2020-03-07T23:59:37.507750Z",
     "start_time": "2020-03-07T23:59:29.496374Z"
    }
   },
   "outputs": [],
   "source": [
    "from keras.preprocessing.sequence import skipgrams\n",
    "\n",
    "def training_data_generator(text_encoded, window_size=4, negative_samples=1.0, batch_docs=50, vocab_size=VOCAB_SIZE, random_state=0):\n",
    "    \"\"\"\n",
    "    For given encoded text, return 3 np.array:\n",
    "    words, contexts, labels\n",
    "    Do not pair the w and its context cross different documents.\n",
    "    \n",
    "    input: \n",
    "        text_encoded: list of list of int, each list of int is the numerical encoding of the doc\n",
    "        window_size: int, define the context\n",
    "        negative_samples: float, how much negative sampling you need, normally 1.0\n",
    "        batch_docs: int, number of docs for which it generates one return\n",
    "        \n",
    "    return:\n",
    "        words: list of int, the numerical encoding of the central words\n",
    "        contexts: list of int, the numerical encoding of the context words\n",
    "        labels: list of int, 1 or 0\n",
    "        \n",
    "    hint: \n",
    "    1. You can use skipgrams method from keras\n",
    "    2. For training purpose, words and contexts needs to be 2D array, with shape (N, 1), \n",
    "       but labels is 1D array, with shape (N, )\n",
    "    3. The output can be very big, you SHOULD using generator\n",
    "    \"\"\"\n",
    "    \n",
    "    \"\"\"\n",
    "    Write your code here\n",
    "    \"\"\"\n",
    "    for i, _ in enumerate(text_encoded[::batch_docs]):\n",
    "        words = []\n",
    "        contexts = []\n",
    "        labels = []\n",
    "        for text in text_encoded[i*batch_docs:(i+1)*batch_docs]:\n",
    "            res = skipgrams(text, vocabulary_size=vocab_size, negative_samples=negative_samples, seed=random_state)\n",
    "            words.extend([x[0] for x in res[0]])\n",
    "            contexts.extend([x[1] for x in res[0]])\n",
    "            labels.extend(res[1])\n",
    "        yield np.array(words)[:, None], np.array(contexts)[:, None], np.array(labels)"
   ]
  },
  {
   "cell_type": "markdown",
   "metadata": {},
   "source": [
    "## Construct Learning Model"
   ]
  },
  {
   "cell_type": "markdown",
   "metadata": {},
   "source": [
    "Now we need to create a network that looks like this:\n",
    "<img src=\"skip-gram-NN.png\" width=\"480\">"
   ]
  },
  {
   "cell_type": "code",
   "execution_count": 246,
   "metadata": {
    "ExecuteTime": {
     "end_time": "2020-03-07T23:59:39.023522Z",
     "start_time": "2020-03-07T23:59:39.005764Z"
    },
    "scrolled": false
   },
   "outputs": [
    {
     "name": "stdout",
     "output_type": "stream",
     "text": [
      "Model: \"model_3\"\n",
      "__________________________________________________________________________________________________\n",
      "Layer (type)                    Output Shape         Param #     Connected to                     \n",
      "==================================================================================================\n",
      "input_7 (InputLayer)            [(None, 1)]          0                                            \n",
      "__________________________________________________________________________________________________\n",
      "input_8 (InputLayer)            [(None, 1)]          0                                            \n",
      "__________________________________________________________________________________________________\n",
      "embedding_3 (Embedding)         (None, 1, 100)       2634400     input_7[0][0]                    \n",
      "                                                                 input_8[0][0]                    \n",
      "__________________________________________________________________________________________________\n",
      "reshape_6 (Reshape)             (None, 100)          0           embedding_3[0][0]                \n",
      "__________________________________________________________________________________________________\n",
      "reshape_7 (Reshape)             (None, 100)          0           embedding_3[1][0]                \n",
      "__________________________________________________________________________________________________\n",
      "dot_3 (Dot)                     (None, 1)            0           reshape_6[0][0]                  \n",
      "                                                                 reshape_7[0][0]                  \n",
      "__________________________________________________________________________________________________\n",
      "activation_3 (Activation)       (None, 1)            0           dot_3[0][0]                      \n",
      "==================================================================================================\n",
      "Total params: 2,634,400\n",
      "Trainable params: 2,634,400\n",
      "Non-trainable params: 0\n",
      "__________________________________________________________________________________________________\n",
      "None\n"
     ]
    }
   ],
   "source": [
    "\"\"\"\n",
    "Write your code here\n",
    "\"\"\"\n",
    "from keras.layers import Input, Activation, Reshape, dot, Embedding, Permute\n",
    "from tensorflow.keras.models import Model\n",
    "\n",
    "# Define two input layers\n",
    "\n",
    "input_words = Input(shape=(1,))\n",
    "input_contexts = Input(shape=(1,))\n",
    "\n",
    "# Embedding for the text\n",
    "embed = Embedding(VOCAB_SIZE, 100, input_length=1)\n",
    "\n",
    "embed1 = embed(input_words)\n",
    "embed1 = Reshape((100,))(embed1)\n",
    "\n",
    "embed2 = embed(input_contexts)\n",
    "embed2 = Reshape((100,))(embed2)\n",
    "\n",
    "# Concatenate the convolutional features and the vector input\n",
    "dot_product = dot([embed1, embed2], axes=1, normalize=False)\n",
    "output = Activation('sigmoid')(dot_product)\n",
    "\n",
    "# define a model with a list of two inputs\n",
    "model = Model(inputs=[input_words, input_contexts], outputs=output)\n",
    "print(model.summary())"
   ]
  },
  {
   "cell_type": "markdown",
   "metadata": {},
   "source": [
    "## Train your model "
   ]
  },
  {
   "cell_type": "markdown",
   "metadata": {},
   "source": [
    "The following is a simple version of training on batch code. You do not need to use\n",
    "opochs more than 10 since it will soon start shaking around the minimum. If you want \n",
    "to further improve your training, consider gradually increase the batch size or reduce \n",
    "the learning rate, then you can try for more than 10 epochs."
   ]
  },
  {
   "cell_type": "code",
   "execution_count": 247,
   "metadata": {
    "ExecuteTime": {
     "end_time": "2019-03-30T00:50:28.355452Z",
     "start_time": "2019-03-30T00:50:28.251027Z"
    },
    "scrolled": true
   },
   "outputs": [
    {
     "name": "stdout",
     "output_type": "stream",
     "text": [
      "Epoch 0 ======\n",
      "Epoch 1 ======\n",
      "Epoch 2 ======\n",
      "Epoch 3 ======\n",
      "Epoch 4 ======\n",
      "Epoch 5 ======\n",
      "Epoch 6 ======\n",
      "Epoch 7 ======\n",
      "Epoch 8 ======\n",
      "Epoch 9 ======\n"
     ]
    }
   ],
   "source": [
    "model.compile(loss=\"binary_crossentropy\", optimizer=\"rmsprop\")\n",
    "\n",
    "epochs = 10\n",
    "ntot = 0\n",
    "for epoch in range(epochs):\n",
    "    print(\"Epoch %d ======\" % epoch)\n",
    "    for words, contexts, labels in training_data_generator(text_encoded, batch_docs=50):\n",
    "        loss = model.train_on_batch(x=[words, contexts], y=labels)\n",
    "        ntot += len(words)\n",
    "        if ntot % 1e6 == 0:\n",
    "            print(\"Total trained pairs (M): %10.2f ; \\t loss: %.4f\" % (ntot/1e6, loss))"
   ]
  },
  {
   "cell_type": "markdown",
   "metadata": {},
   "source": [
    "## Transform the embedding to a table\n",
    "\n",
    "Ready to translate the model you trained into the embedding DataFrame?"
   ]
  },
  {
   "cell_type": "code",
   "execution_count": 266,
   "metadata": {
    "ExecuteTime": {
     "end_time": "2019-03-30T00:54:01.369150Z",
     "start_time": "2019-03-30T00:54:01.317001Z"
    }
   },
   "outputs": [],
   "source": [
    "def embedding2df(embedding_layer, tokenmap_reverse):\n",
    "    embedding =  pd.DataFrame(embedding_layer.get_weights()[0], tokenmap_reverse.values())\n",
    "    return embedding.drop('__unknown__')\n",
    "\n",
    "skip = embedding2df(model.layers[2], tokenmap_reverse)"
   ]
  },
  {
   "cell_type": "code",
   "execution_count": 331,
   "metadata": {},
   "outputs": [],
   "source": [
    "from copy import copy"
   ]
  },
  {
   "cell_type": "code",
   "execution_count": 332,
   "metadata": {},
   "outputs": [],
   "source": [
    "embedding_layer = copy(model.layers[2])"
   ]
  },
  {
   "cell_type": "markdown",
   "metadata": {},
   "source": [
    "## Test your trained embedding"
   ]
  },
  {
   "cell_type": "markdown",
   "metadata": {
    "ExecuteTime": {
     "end_time": "2019-03-30T01:10:10.760048Z",
     "start_time": "2019-03-30T01:10:08.741980Z"
    }
   },
   "source": [
    "Use the embedding you just trained, repeat the exploration you did for Section 3."
   ]
  },
  {
   "cell_type": "code",
   "execution_count": 503,
   "metadata": {},
   "outputs": [
    {
     "name": "stdout",
     "output_type": "stream",
     "text": [
      "spain     2.015376\n",
      "korea     2.054043\n",
      "region    2.106323\n",
      "south     2.124574\n",
      "asia      2.125982\n",
      "dtype: float32\n",
      "emperor    1.669467\n",
      "roman      1.770087\n",
      "count      1.788845\n",
      "sir        1.821078\n",
      "charles    1.825013\n",
      "dtype: float32\n",
      "russia      0.731792\n",
      "germany     0.797386\n",
      "moscow      0.885632\n",
      "canada      0.900115\n",
      "southern    0.901337\n",
      "dtype: float32\n",
      "9    0.943478\n",
      "7    0.943649\n",
      "6    1.037347\n",
      "5    1.111455\n",
      "4    1.339804\n",
      "dtype: float64\n"
     ]
    },
    {
     "data": {
      "image/png": "[encoded data removed]",
      "text/plain": [
       "<Figure size 720x576 with 1 Axes>"
      ]
     },
     "metadata": {
      "needs_background": "light"
     },
     "output_type": "display_data"
    }
   ],
   "source": [
    "find_nearest_with_vector(skip.T,skip.T['king']-skip.T['male']+skip.T['female'])\n",
    "words = ['china', 'beijing', 'russia', 'moscow', 'poland', 'warsaw', 'japan', 'tokyo',\n",
    "        'france', 'paris', 'germany', 'berlin', 'italy', 'rome', 'spain', 'madrid']\n",
    "\n",
    "plot_words_embedding(skip.T, words)\n",
    "print(find_nearest_with_vector(skip.T, skip.T['china']+skip.T['capital']))\n",
    "print(find_nearest_with_vector(skip.T, skip.T['king']-skip.T['male']+skip.T['female']))\n",
    "print(find_nearest(skip.T, 'china'))\n",
    "print(find_nearest(glove, '8'))"
   ]
  },
  {
   "cell_type": "markdown",
   "metadata": {},
   "source": [
    "# Extra"
   ]
  },
  {
   "cell_type": "markdown",
   "metadata": {},
   "source": [
    "## HW2"
   ]
  },
  {
   "cell_type": "code",
   "execution_count": null,
   "metadata": {
    "ExecuteTime": {
     "end_time": "2020-03-07T20:31:01.815021Z",
     "start_time": "2020-03-07T20:31:01.809481Z"
    }
   },
   "outputs": [],
   "source": [
    "# Try to use embedding to solve the previous 2 homeworks"
   ]
  },
  {
   "cell_type": "code",
   "execution_count": 282,
   "metadata": {},
   "outputs": [],
   "source": [
    "from nltk.stem import WordNetLemmatizer\n",
    "from nltk import word_tokenize\n",
    "from utils.hw2 import load_data, save_prediction, read_vocab\n",
    "from sklearn.model_selection import train_test_split\n",
    "from tensorflow.keras.models import Sequential\n",
    "from tensorflow.keras.layers import Embedding, Conv1D, MaxPooling1D, Dense, GlobalMaxPooling1D"
   ]
  },
  {
   "cell_type": "code",
   "execution_count": 284,
   "metadata": {},
   "outputs": [],
   "source": [
    "data = load_data(\"../HW02-CNN/train.txt\")\n",
    "vocab = read_vocab(\"../HW02-CNN/vocab.txt\")\n",
    "X, y = data.text, data.target\n",
    "X_train, X_dev, y_train, y_dev = train_test_split(X, y, test_size=0.3)"
   ]
  },
  {
   "cell_type": "code",
   "execution_count": 287,
   "metadata": {},
   "outputs": [],
   "source": [
    "# First let's see how you can build a similar CNN model you just had using Keras\n",
    "MAX_LENGTH = 100"
   ]
  },
  {
   "cell_type": "code",
   "execution_count": 388,
   "metadata": {},
   "outputs": [],
   "source": [
    "# Yes! it is a good practice to do data processing outside the ML model\n",
    "wnet = WordNetLemmatizer()\n",
    "# Numerical encode all the words\n",
    "unknown = tokenmap['__unknown__']\n",
    "X_train2 = [[tokenmap.get(wnet.lemmatize(w), unknown) for w in word_tokenize(sent)] for sent in X_train]\n",
    "X_dev2 = [[tokenmap.get(wnet.lemmatize(w), unknown)for w in word_tokenize(sent)] for sent in X_dev]\n",
    "\n",
    "# Tensorflow does not handle variable length input well, let's unify all input to the same length\n",
    "def trim_X(X, max_length=100, default=vocab['.']):\n",
    "    for i in range(len(X)):\n",
    "        if len(X[i]) > max_length:\n",
    "            X[i] = X[i][:max_length]\n",
    "        elif len(X[i]) < max_length:\n",
    "            X[i] = X[i] + [default] * (max_length - len(X[i]))\n",
    "            \n",
    "    return np.array(X)\n",
    "            \n",
    "X_train2 = trim_X(X_train2, MAX_LENGTH)\n",
    "X_dev2 = trim_X(X_dev2, MAX_LENGTH)\n",
    "\n",
    "\n",
    "# Now we have all the input data nicely encoded with numerical label, and each of the input data are trimmed \n",
    "# to have the same length. We would have needed to further apply one-hot encode for each word. However, this \n",
    "# would be very expensive, since each word will be expanded into a len(vocab) (~10000) length vector. Keras does\n",
    "# not support sparse matrix input at this moment. But don't worry, we will use an advanced technique called embedding\n",
    "# layer. This concept will be introduced in the next lesson. At this moment, you don't have to understand why."
   ]
  },
  {
   "cell_type": "markdown",
   "metadata": {},
   "source": [
    "### Use pretrained skipgram embedding"
   ]
  },
  {
   "cell_type": "code",
   "execution_count": 352,
   "metadata": {
    "collapsed": true
   },
   "outputs": [
    {
     "name": "stdout",
     "output_type": "stream",
     "text": [
      "Model: \"sequential_12\"\n",
      "_________________________________________________________________\n",
      "Layer (type)                 Output Shape              Param #   \n",
      "=================================================================\n",
      "pretrained_skipgram (Embeddi (None, 100, 100)          2634400   \n",
      "_________________________________________________________________\n",
      "Conv1D-1 (Conv1D)            (None, 98, 50)            15050     \n",
      "_________________________________________________________________\n",
      "MaxPooling1D-1 (GlobalMaxPoo (None, 50)                0         \n",
      "_________________________________________________________________\n",
      "Dense-1 (Dense)              (None, 1)                 51        \n",
      "=================================================================\n",
      "Total params: 2,649,501\n",
      "Trainable params: 15,101\n",
      "Non-trainable params: 2,634,400\n",
      "_________________________________________________________________\n",
      "None\n"
     ]
    },
    {
     "data": {
      "image/png": "[encoded data removed]",
      "text/plain": [
       "<IPython.core.display.Image object>"
      ]
     },
     "execution_count": 352,
     "metadata": {},
     "output_type": "execute_result"
    }
   ],
   "source": [
    "model = Sequential()\n",
    "model.add(Embedding(input_dim=VOCAB_SIZE, weights=embedding_layer.get_weights(), input_length=100, output_dim=100, name='pretrained_skipgram', trainable=False))\n",
    "model.add(Conv1D(filters=50, kernel_size=3, activation=\"tanh\", name=\"Conv1D-1\"))\n",
    "model.add(GlobalMaxPooling1D(name=\"MaxPooling1D-1\"))\n",
    "model.add(Dense(1, activation=\"sigmoid\", name=\"Dense-1\"))\n",
    "print(model.summary())\n",
    "\n",
    "show_keras_model(model)"
   ]
  },
  {
   "cell_type": "code",
   "execution_count": 353,
   "metadata": {},
   "outputs": [
    {
     "name": "stdout",
     "output_type": "stream",
     "text": [
      "Epoch 1/20\n",
      "219/219 [==============================] - 3s 10ms/step - loss: 0.6791 - accuracy: 0.5651 - val_loss: 0.6707 - val_accuracy: 0.5833\n",
      "Epoch 2/20\n",
      "219/219 [==============================] - 2s 8ms/step - loss: 0.6462 - accuracy: 0.6339 - val_loss: 0.6551 - val_accuracy: 0.6080\n",
      "Epoch 3/20\n",
      "219/219 [==============================] - 2s 9ms/step - loss: 0.6224 - accuracy: 0.6619 - val_loss: 0.6451 - val_accuracy: 0.6230\n",
      "Epoch 4/20\n",
      "219/219 [==============================] - 2s 8ms/step - loss: 0.6022 - accuracy: 0.6879 - val_loss: 0.6405 - val_accuracy: 0.6240\n",
      "Epoch 5/20\n",
      "219/219 [==============================] - 2s 9ms/step - loss: 0.5825 - accuracy: 0.7011 - val_loss: 0.6377 - val_accuracy: 0.6247\n",
      "Epoch 6/20\n",
      "219/219 [==============================] - 2s 11ms/step - loss: 0.5636 - accuracy: 0.7210 - val_loss: 0.6324 - val_accuracy: 0.6323\n",
      "Epoch 7/20\n",
      "219/219 [==============================] - 2s 9ms/step - loss: 0.5444 - accuracy: 0.7451 - val_loss: 0.6293 - val_accuracy: 0.6460\n",
      "Epoch 8/20\n",
      "219/219 [==============================] - 2s 8ms/step - loss: 0.5242 - accuracy: 0.7541 - val_loss: 0.6345 - val_accuracy: 0.6373\n",
      "Epoch 9/20\n",
      "219/219 [==============================] - 2s 9ms/step - loss: 0.5068 - accuracy: 0.7660 - val_loss: 0.6304 - val_accuracy: 0.6390\n",
      "Epoch 10/20\n",
      "219/219 [==============================] - 2s 9ms/step - loss: 0.4872 - accuracy: 0.7771 - val_loss: 0.6343 - val_accuracy: 0.6413\n",
      "Epoch 11/20\n",
      "219/219 [==============================] - 2s 9ms/step - loss: 0.4693 - accuracy: 0.7956 - val_loss: 0.6283 - val_accuracy: 0.6473\n",
      "Epoch 12/20\n",
      "219/219 [==============================] - 2s 8ms/step - loss: 0.4500 - accuracy: 0.8111 - val_loss: 0.6282 - val_accuracy: 0.6443\n",
      "Epoch 13/20\n",
      "219/219 [==============================] - 2s 9ms/step - loss: 0.4310 - accuracy: 0.8260 - val_loss: 0.6413 - val_accuracy: 0.6453\n",
      "Epoch 14/20\n",
      "219/219 [==============================] - 2s 9ms/step - loss: 0.4144 - accuracy: 0.8357 - val_loss: 0.6379 - val_accuracy: 0.6487\n",
      "Epoch 15/20\n",
      "219/219 [==============================] - 2s 8ms/step - loss: 0.3957 - accuracy: 0.8474 - val_loss: 0.6378 - val_accuracy: 0.6563\n",
      "Epoch 16/20\n",
      "219/219 [==============================] - 2s 9ms/step - loss: 0.3789 - accuracy: 0.8603 - val_loss: 0.6360 - val_accuracy: 0.6547\n",
      "Epoch 17/20\n",
      "219/219 [==============================] - 2s 8ms/step - loss: 0.3604 - accuracy: 0.8737 - val_loss: 0.6465 - val_accuracy: 0.6563\n",
      "Epoch 18/20\n",
      "219/219 [==============================] - 2s 8ms/step - loss: 0.3469 - accuracy: 0.8824 - val_loss: 0.6556 - val_accuracy: 0.6530\n",
      "Epoch 19/20\n",
      "219/219 [==============================] - 2s 8ms/step - loss: 0.3279 - accuracy: 0.8919 - val_loss: 0.6628 - val_accuracy: 0.6507\n",
      "Epoch 20/20\n",
      "219/219 [==============================] - 2s 9ms/step - loss: 0.3127 - accuracy: 0.8989 - val_loss: 0.6642 - val_accuracy: 0.6527\n"
     ]
    },
    {
     "data": {
      "text/plain": [
       "<tensorflow.python.keras.callbacks.History at 0x7f91bc54e950>"
      ]
     },
     "execution_count": 353,
     "metadata": {},
     "output_type": "execute_result"
    }
   ],
   "source": [
    "# Train the model\n",
    "model.compile(loss=\"binary_crossentropy\", optimizer='adam', metrics=['accuracy'])\n",
    "model.fit(X_train2, y_train, epochs=20, validation_data=(X_dev2, y_dev))"
   ]
  },
  {
   "cell_type": "markdown",
   "metadata": {},
   "source": [
    "### Use GloVe"
   ]
  },
  {
   "cell_type": "code",
   "execution_count": 438,
   "metadata": {},
   "outputs": [],
   "source": [
    "glovemap = {x: i for i, x in enumerate(glove.columns)}"
   ]
  },
  {
   "cell_type": "code",
   "execution_count": 478,
   "metadata": {},
   "outputs": [],
   "source": [
    "# Yes! it is a good practice to do data processing outside the ML model\n",
    "wnet = WordNetLemmatizer()\n",
    "# Numerical encode all the words, ignore unknown word in GloVe\n",
    "X_train3 = []\n",
    "for sent in X_train:\n",
    "    ind = []\n",
    "    for w in word_tokenize(sent):\n",
    "        wl = wnet.lemmatize(w)\n",
    "        if wl in glovemap:\n",
    "            ind.append(glovemap[wl])\n",
    "    X_train3.append(ind)\n",
    "    \n",
    "X_dev3 = []\n",
    "for sent in X_dev:\n",
    "    ind = []\n",
    "    for w in word_tokenize(sent):\n",
    "        wl = wnet.lemmatize(w)\n",
    "        if wl in glovemap:\n",
    "            ind.append(glovemap[wl])\n",
    "    X_dev3.append(ind)\n",
    "\n",
    "            \n",
    "X_train3 = trim_X(X_train3, MAX_LENGTH)\n",
    "X_dev3 = trim_X(X_dev3, MAX_LENGTH)"
   ]
  },
  {
   "cell_type": "code",
   "execution_count": 481,
   "metadata": {},
   "outputs": [
    {
     "name": "stdout",
     "output_type": "stream",
     "text": [
      "Model: \"sequential_14\"\n",
      "_________________________________________________________________\n",
      "Layer (type)                 Output Shape              Param #   \n",
      "=================================================================\n",
      "GloVe (Embedding)            (None, 100, 100)          10000000  \n",
      "_________________________________________________________________\n",
      "Conv1D-1 (Conv1D)            (None, 97, 100)           40100     \n",
      "_________________________________________________________________\n",
      "MaxPooling1D-1 (GlobalMaxPoo (None, 100)               0         \n",
      "_________________________________________________________________\n",
      "Dense-1 (Dense)              (None, 1)                 101       \n",
      "=================================================================\n",
      "Total params: 10,040,201\n",
      "Trainable params: 40,201\n",
      "Non-trainable params: 10,000,000\n",
      "_________________________________________________________________\n",
      "None\n"
     ]
    },
    {
     "data": {
      "image/png": "[encoded data removed]",
      "text/plain": [
       "<IPython.core.display.Image object>"
      ]
     },
     "execution_count": 481,
     "metadata": {},
     "output_type": "execute_result"
    }
   ],
   "source": [
    "model = Sequential()\n",
    "model.add(Embedding(input_dim=glove.shape[1], weights=[glove.T], input_length=100, output_dim=glove.shape[0], name='GloVe', trainable=False))\n",
    "model.add(Conv1D(filters=100, kernel_size=4, activation=\"tanh\", name=\"Conv1D-1\"))\n",
    "model.add(GlobalMaxPooling1D(name=\"MaxPooling1D-1\"))\n",
    "model.add(Dense(1, activation=\"sigmoid\", name=\"Dense-1\"))\n",
    "print(model.summary())\n",
    "\n",
    "show_keras_model(model)"
   ]
  },
  {
   "cell_type": "code",
   "execution_count": 482,
   "metadata": {},
   "outputs": [
    {
     "name": "stdout",
     "output_type": "stream",
     "text": [
      "Epoch 1/20\n",
      "219/219 [==============================] - 5s 18ms/step - loss: 0.6205 - accuracy: 0.6407 - val_loss: 0.5826 - val_accuracy: 0.6840\n",
      "Epoch 2/20\n",
      "219/219 [==============================] - 3s 13ms/step - loss: 0.5066 - accuracy: 0.7541 - val_loss: 0.5482 - val_accuracy: 0.7073\n",
      "Epoch 3/20\n",
      "219/219 [==============================] - 3s 14ms/step - loss: 0.4445 - accuracy: 0.7977 - val_loss: 0.5536 - val_accuracy: 0.7117\n",
      "Epoch 4/20\n",
      "219/219 [==============================] - 3s 15ms/step - loss: 0.3763 - accuracy: 0.8481 - val_loss: 0.5593 - val_accuracy: 0.7093\n",
      "Epoch 5/20\n",
      "219/219 [==============================] - 3s 14ms/step - loss: 0.3166 - accuracy: 0.8831 - val_loss: 0.5657 - val_accuracy: 0.7173\n",
      "Epoch 6/20\n",
      "219/219 [==============================] - 3s 12ms/step - loss: 0.2525 - accuracy: 0.9221 - val_loss: 0.5608 - val_accuracy: 0.7187\n",
      "Epoch 7/20\n",
      "219/219 [==============================] - 3s 13ms/step - loss: 0.1951 - accuracy: 0.9564 - val_loss: 0.6258 - val_accuracy: 0.7080\n",
      "Epoch 8/20\n",
      "219/219 [==============================] - 3s 12ms/step - loss: 0.1496 - accuracy: 0.9761 - val_loss: 0.5976 - val_accuracy: 0.7157\n",
      "Epoch 9/20\n",
      "219/219 [==============================] - 3s 12ms/step - loss: 0.1063 - accuracy: 0.9917 - val_loss: 0.6104 - val_accuracy: 0.7220\n",
      "Epoch 10/20\n",
      "219/219 [==============================] - 3s 12ms/step - loss: 0.0827 - accuracy: 0.9946 - val_loss: 0.6822 - val_accuracy: 0.7093\n",
      "Epoch 11/20\n",
      "219/219 [==============================] - 3s 13ms/step - loss: 0.0627 - accuracy: 0.9969 - val_loss: 0.6712 - val_accuracy: 0.7157\n",
      "Epoch 12/20\n",
      "219/219 [==============================] - 3s 12ms/step - loss: 0.0474 - accuracy: 0.9991 - val_loss: 0.6755 - val_accuracy: 0.7227\n",
      "Epoch 13/20\n",
      "219/219 [==============================] - 3s 14ms/step - loss: 0.0366 - accuracy: 0.9990 - val_loss: 0.7211 - val_accuracy: 0.7193\n",
      "Epoch 14/20\n",
      "219/219 [==============================] - 3s 15ms/step - loss: 0.0304 - accuracy: 0.9993 - val_loss: 0.7096 - val_accuracy: 0.7180\n",
      "Epoch 15/20\n",
      "219/219 [==============================] - 3s 14ms/step - loss: 0.0239 - accuracy: 0.9994 - val_loss: 0.7452 - val_accuracy: 0.7167\n",
      "Epoch 16/20\n",
      "219/219 [==============================] - 3s 13ms/step - loss: 0.0199 - accuracy: 0.9994 - val_loss: 0.7441 - val_accuracy: 0.7153\n",
      "Epoch 17/20\n",
      "219/219 [==============================] - 3s 14ms/step - loss: 0.0166 - accuracy: 0.9994 - val_loss: 0.7613 - val_accuracy: 0.7170\n",
      "Epoch 18/20\n",
      "219/219 [==============================] - 3s 16ms/step - loss: 0.0134 - accuracy: 0.9997 - val_loss: 0.8599 - val_accuracy: 0.7130\n",
      "Epoch 19/20\n",
      "219/219 [==============================] - 3s 15ms/step - loss: 0.0118 - accuracy: 0.9996 - val_loss: 0.7831 - val_accuracy: 0.7143\n",
      "Epoch 20/20\n",
      "219/219 [==============================] - 3s 14ms/step - loss: 0.0099 - accuracy: 0.9996 - val_loss: 0.8033 - val_accuracy: 0.7203\n"
     ]
    },
    {
     "data": {
      "text/plain": [
       "<tensorflow.python.keras.callbacks.History at 0x7f91ba7f4990>"
      ]
     },
     "execution_count": 482,
     "metadata": {},
     "output_type": "execute_result"
    }
   ],
   "source": [
    "# Train the model\n",
    "model.compile(loss=\"binary_crossentropy\", optimizer='adam', metrics=['accuracy'])\n",
    "model.fit(X_train3, y_train, epochs=20, validation_data=(X_dev3, y_dev))"
   ]
  },
  {
   "cell_type": "code",
   "execution_count": null,
   "metadata": {},
   "outputs": [],
   "source": []
  },
  {
   "cell_type": "code",
   "execution_count": null,
   "metadata": {},
   "outputs": [],
   "source": []
  },
  {
   "cell_type": "markdown",
   "metadata": {},
   "source": [
    "# Final project (Not due this week)\n",
    "\n",
    "**Work with your teammates and start working on your final project proposal, think about these questions:**\n",
    "- The problem you try to solve and the value of this problem\n",
    "- Some current solution to this problem, reference citation if needed\n",
    "- Outline your approach and the goal you want to achieve\n"
   ]
  }
 ],
 "metadata": {
  "kernelspec": {
   "display_name": "Python 3",
   "language": "python",
   "name": "python3"
  },
  "language_info": {
   "codemirror_mode": {
    "name": "ipython",
    "version": 3
   },
   "file_extension": ".py",
   "mimetype": "text/x-python",
   "name": "python",
   "nbconvert_exporter": "python",
   "pygments_lexer": "ipython3",
   "version": "3.7.6"
  },
  "toc": {
   "base_numbering": 1,
   "nav_menu": {},
   "number_sections": true,
   "sideBar": true,
   "skip_h1_title": false,
   "title_cell": "Table of Contents",
   "title_sidebar": "Contents",
   "toc_cell": false,
   "toc_position": {
    "height": "calc(100% - 180px)",
    "left": "10px",
    "top": "150px",
    "width": "170px"
   },
   "toc_section_display": true,
   "toc_window_display": false
  }
 },
 "nbformat": 4,
 "nbformat_minor": 2
}
