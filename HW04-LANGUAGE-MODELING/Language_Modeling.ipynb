{
 "cells": [
  {
   "cell_type": "markdown",
   "metadata": {},
   "source": [
    "<h1><center>HW4 Language Modeling (LM)</center></h1>\n",
    "\n",
    "In this homework, you will first implement a simple bigram language model on a dataset containing news headlines, learn basic concepts of marcov modeling, words sampling, and perplexity. \n",
    "\n",
    "Then things start get very fun and open ended. You will be shown a simple word based RNN LM. Understand how it works, and then apply changes to it as you wish. Things you can try but not limited to:\n",
    "\n",
    "1. Word based RNN model with subword embedding\n",
    "2. Character based RNN model\n",
    "2. Try different model architecture\n",
    "3. Try different training corprus\n",
    "4. Personalized LM\n",
    "\n",
    "**You are given the following files**:\n",
    "- `Language_Modeling.ipynb`: Notebook file with starter code\n",
    "- `headlines.train`: Training set to train your model\n",
    "- `headlines.dev`: Test set to report your model’s performance\n",
    "- `glove_300d.csv`: Glove embedding truncated for the vocab in the training data\n",
    "- `../utils/`: folder containing all utility code for the series of homeworks\n",
    "\n",
    "**Deriverables**:\n",
    "- pdf or html of the notebook\n",
    "- A report of your own model if you have "
   ]
  },
  {
   "cell_type": "markdown",
   "metadata": {
    "ExecuteTime": {
     "end_time": "2020-03-15T19:52:22.037603Z",
     "start_time": "2020-03-15T19:52:21.343054Z"
    }
   },
   "source": [
    "### ======================== Coding starts here ===================="
   ]
  },
  {
   "cell_type": "markdown",
   "metadata": {},
   "source": [
    "# Setup"
   ]
  },
  {
   "cell_type": "markdown",
   "metadata": {},
   "source": [
    "##  Load functions"
   ]
  },
  {
   "cell_type": "code",
   "execution_count": 1,
   "metadata": {
    "ExecuteTime": {
     "end_time": "2020-03-22T20:39:44.068513Z",
     "start_time": "2020-03-22T20:39:33.927889Z"
    }
   },
   "outputs": [],
   "source": [
    "%load_ext autoreload\n",
    "%autoreload 2\n",
    "%matplotlib inline\n",
    "import os, sys, random\n",
    "import pandas as pd\n",
    "import numpy as np\n",
    "from nltk.stem import WordNetLemmatizer\n",
    "from nltk import word_tokenize\n",
    "\n",
    "# add utils folder to path\n",
    "p = os.path.dirname(os.getcwd())\n",
    "if p not in sys.path:\n",
    "    sys.path = [p] + sys.path\n",
    "\n",
    "from utils.hw4 import (load_data, load_data_char, gen_vocab, START, END, UNK, \n",
    "                       load_embedding)\n",
    "from utils.general import sigmoid, tanh, show_keras_model"
   ]
  },
  {
   "cell_type": "markdown",
   "metadata": {},
   "source": [
    "## Load data "
   ]
  },
  {
   "cell_type": "code",
   "execution_count": 110,
   "metadata": {
    "ExecuteTime": {
     "end_time": "2020-03-22T20:39:45.386244Z",
     "start_time": "2020-03-22T20:39:44.072238Z"
    }
   },
   "outputs": [
    {
     "name": "stdout",
     "output_type": "stream",
     "text": [
      "<START>crabb mining tax passed<END>\n",
      "<START>stock market ends week on a high<END>\n",
      "<START>man has one charge overturned after abusive tirade in court<END>\n",
      "<START>australian opposition to cut 45b from foreign aid<END>\n",
      "<START>kumble takes special pride in five wicket haul<END>\n"
     ]
    }
   ],
   "source": [
    "# The input is trucated for fast iteration\n",
    "# Remember to use the full set of data for your final model training\n",
    "# It may take some time\n",
    "headlines_train = load_data(\"headlines.train\")\n",
    "headlines_dev = load_data(\"headlines.dev\")\n",
    "\n",
    "# Before we begin, let's look at what some of the headlines look like. \n",
    "# Run the following code block as many times as you want to get a sense \n",
    "# of what kind of headlines we hope to generate.\n",
    "for headline in random.sample(headlines_train, 5):\n",
    "    print(START + ' '.join(headline) + END)"
   ]
  },
  {
   "cell_type": "code",
   "execution_count": 112,
   "metadata": {
    "ExecuteTime": {
     "end_time": "2020-03-22T20:39:55.040257Z",
     "start_time": "2020-03-22T20:39:45.406419Z"
    },
    "scrolled": true
   },
   "outputs": [
    {
     "name": "stdout",
     "output_type": "stream",
     "text": [
      "Size of vocab:  19366\n",
      "Longest setence length:  15\n"
     ]
    },
    {
     "data": {
      "text/html": [
       "<div>\n",
       "<style scoped>\n",
       "    .dataframe tbody tr th:only-of-type {\n",
       "        vertical-align: middle;\n",
       "    }\n",
       "\n",
       "    .dataframe tbody tr th {\n",
       "        vertical-align: top;\n",
       "    }\n",
       "\n",
       "    .dataframe thead th {\n",
       "        text-align: right;\n",
       "    }\n",
       "</style>\n",
       "<table border=\"1\" class=\"dataframe\">\n",
       "  <thead>\n",
       "    <tr style=\"text-align: right;\">\n",
       "      <th></th>\n",
       "      <th>&lt;UNK&gt;</th>\n",
       "      <th>&lt;START&gt;</th>\n",
       "      <th>&lt;END&gt;</th>\n",
       "      <th>to</th>\n",
       "      <th>in</th>\n",
       "      <th>for</th>\n",
       "      <th>of</th>\n",
       "      <th>on</th>\n",
       "      <th>over</th>\n",
       "      <th>the</th>\n",
       "      <th>...</th>\n",
       "      <th>doctoring</th>\n",
       "      <th>udia</th>\n",
       "      <th>aircon</th>\n",
       "      <th>kent</th>\n",
       "      <th>squalor</th>\n",
       "      <th>pilkadaris</th>\n",
       "      <th>jb</th>\n",
       "      <th>tc</th>\n",
       "      <th>troupe</th>\n",
       "      <th>hotham</th>\n",
       "    </tr>\n",
       "  </thead>\n",
       "  <tbody>\n",
       "    <tr>\n",
       "      <th>0</th>\n",
       "      <td>-0.649098</td>\n",
       "      <td>-0.000395</td>\n",
       "      <td>-0.033003</td>\n",
       "      <td>-0.248370</td>\n",
       "      <td>0.068507</td>\n",
       "      <td>-0.23909</td>\n",
       "      <td>-0.036429</td>\n",
       "      <td>0.000607</td>\n",
       "      <td>-0.089285</td>\n",
       "      <td>-0.208380</td>\n",
       "      <td>...</td>\n",
       "      <td>-0.558944</td>\n",
       "      <td>0.001925</td>\n",
       "      <td>-0.559322</td>\n",
       "      <td>0.426861</td>\n",
       "      <td>-0.736607</td>\n",
       "      <td>-0.533304</td>\n",
       "      <td>-0.447542</td>\n",
       "      <td>0.405803</td>\n",
       "      <td>-0.457188</td>\n",
       "      <td>0.329514</td>\n",
       "    </tr>\n",
       "    <tr>\n",
       "      <th>1</th>\n",
       "      <td>-0.016127</td>\n",
       "      <td>-0.032413</td>\n",
       "      <td>-0.378121</td>\n",
       "      <td>-0.454610</td>\n",
       "      <td>-0.023344</td>\n",
       "      <td>-0.64189</td>\n",
       "      <td>-0.285920</td>\n",
       "      <td>0.048631</td>\n",
       "      <td>-0.077838</td>\n",
       "      <td>-0.149320</td>\n",
       "      <td>...</td>\n",
       "      <td>1.109237</td>\n",
       "      <td>0.122987</td>\n",
       "      <td>0.322051</td>\n",
       "      <td>0.145622</td>\n",
       "      <td>0.049128</td>\n",
       "      <td>0.010615</td>\n",
       "      <td>-0.145819</td>\n",
       "      <td>0.642173</td>\n",
       "      <td>0.681906</td>\n",
       "      <td>-0.013307</td>\n",
       "    </tr>\n",
       "    <tr>\n",
       "      <th>2</th>\n",
       "      <td>0.703486</td>\n",
       "      <td>-0.022681</td>\n",
       "      <td>0.007852</td>\n",
       "      <td>0.039227</td>\n",
       "      <td>0.282710</td>\n",
       "      <td>-0.58322</td>\n",
       "      <td>0.063387</td>\n",
       "      <td>0.489690</td>\n",
       "      <td>-0.295420</td>\n",
       "      <td>-0.017528</td>\n",
       "      <td>...</td>\n",
       "      <td>-0.588844</td>\n",
       "      <td>0.311775</td>\n",
       "      <td>0.325098</td>\n",
       "      <td>0.304793</td>\n",
       "      <td>-0.448032</td>\n",
       "      <td>0.199929</td>\n",
       "      <td>-0.511209</td>\n",
       "      <td>-0.015972</td>\n",
       "      <td>0.314957</td>\n",
       "      <td>0.414882</td>\n",
       "    </tr>\n",
       "    <tr>\n",
       "      <th>3</th>\n",
       "      <td>-0.644558</td>\n",
       "      <td>0.036714</td>\n",
       "      <td>-0.437108</td>\n",
       "      <td>-0.284220</td>\n",
       "      <td>-0.402150</td>\n",
       "      <td>-0.54743</td>\n",
       "      <td>-0.601220</td>\n",
       "      <td>0.427770</td>\n",
       "      <td>-0.335840</td>\n",
       "      <td>-0.028432</td>\n",
       "      <td>...</td>\n",
       "      <td>0.029065</td>\n",
       "      <td>-0.047782</td>\n",
       "      <td>-0.025305</td>\n",
       "      <td>-0.220577</td>\n",
       "      <td>0.017302</td>\n",
       "      <td>0.486943</td>\n",
       "      <td>-0.428101</td>\n",
       "      <td>0.660693</td>\n",
       "      <td>-0.388998</td>\n",
       "      <td>-0.475613</td>\n",
       "    </tr>\n",
       "    <tr>\n",
       "      <th>4</th>\n",
       "      <td>-0.007937</td>\n",
       "      <td>-0.035791</td>\n",
       "      <td>-0.214123</td>\n",
       "      <td>-0.031852</td>\n",
       "      <td>0.077815</td>\n",
       "      <td>0.42386</td>\n",
       "      <td>-0.015309</td>\n",
       "      <td>-0.386100</td>\n",
       "      <td>0.287430</td>\n",
       "      <td>-0.060104</td>\n",
       "      <td>...</td>\n",
       "      <td>0.823223</td>\n",
       "      <td>-0.950272</td>\n",
       "      <td>0.696648</td>\n",
       "      <td>0.015348</td>\n",
       "      <td>-0.037925</td>\n",
       "      <td>-0.667709</td>\n",
       "      <td>-0.474792</td>\n",
       "      <td>0.040147</td>\n",
       "      <td>0.259963</td>\n",
       "      <td>-0.509467</td>\n",
       "    </tr>\n",
       "  </tbody>\n",
       "</table>\n",
       "<p>5 rows × 19366 columns</p>\n",
       "</div>"
      ],
      "text/plain": [
       "      <UNK>   <START>     <END>        to        in      for        of  \\\n",
       "0 -0.649098 -0.000395 -0.033003 -0.248370  0.068507 -0.23909 -0.036429   \n",
       "1 -0.016127 -0.032413 -0.378121 -0.454610 -0.023344 -0.64189 -0.285920   \n",
       "2  0.703486 -0.022681  0.007852  0.039227  0.282710 -0.58322  0.063387   \n",
       "3 -0.644558  0.036714 -0.437108 -0.284220 -0.402150 -0.54743 -0.601220   \n",
       "4 -0.007937 -0.035791 -0.214123 -0.031852  0.077815  0.42386 -0.015309   \n",
       "\n",
       "         on      over       the  ...  doctoring      udia    aircon      kent  \\\n",
       "0  0.000607 -0.089285 -0.208380  ...  -0.558944  0.001925 -0.559322  0.426861   \n",
       "1  0.048631 -0.077838 -0.149320  ...   1.109237  0.122987  0.322051  0.145622   \n",
       "2  0.489690 -0.295420 -0.017528  ...  -0.588844  0.311775  0.325098  0.304793   \n",
       "3  0.427770 -0.335840 -0.028432  ...   0.029065 -0.047782 -0.025305 -0.220577   \n",
       "4 -0.386100  0.287430 -0.060104  ...   0.823223 -0.950272  0.696648  0.015348   \n",
       "\n",
       "    squalor  pilkadaris        jb        tc    troupe    hotham  \n",
       "0 -0.736607   -0.533304 -0.447542  0.405803 -0.457188  0.329514  \n",
       "1  0.049128    0.010615 -0.145819  0.642173  0.681906 -0.013307  \n",
       "2 -0.448032    0.199929 -0.511209 -0.015972  0.314957  0.414882  \n",
       "3  0.017302    0.486943 -0.428101  0.660693 -0.388998 -0.475613  \n",
       "4 -0.037925   -0.667709 -0.474792  0.040147  0.259963 -0.509467  \n",
       "\n",
       "[5 rows x 19366 columns]"
      ]
     },
     "execution_count": 112,
     "metadata": {},
     "output_type": "execute_result"
    }
   ],
   "source": [
    "# Calculate the vocab list and the embedding \n",
    "# It (might) be helpful to remove low frequency words, so the model learns how to\n",
    "# treat unseen vocabulary\n",
    "vocab, re_vocab = gen_vocab(headlines_train, 4)\n",
    "sent_len = max([len(s) for s in headlines_train]) + 1\n",
    "\n",
    "print(\"Size of vocab: \", len(vocab))\n",
    "print(\"Longest setence length: \", sent_len)\n",
    "\n",
    "# Load the embedding, trick is played to fill the missing vocab\n",
    "# you can look into the source file to see what it actually does\n",
    "# This embedding file is truncated for vocab used in this dataset\n",
    "# If you are to train your own model with your own data, remember to download\n",
    "# the original embedding here: https://nlp.stanford.edu/projects/glove/\n",
    "glove = load_embedding('glove_300d.csv', vocab=vocab)\n",
    "\n",
    "glove.T.head()"
   ]
  },
  {
   "cell_type": "code",
   "execution_count": 113,
   "metadata": {
    "ExecuteTime": {
     "end_time": "2020-03-22T20:39:55.155696Z",
     "start_time": "2020-03-22T20:39:55.044811Z"
    }
   },
   "outputs": [],
   "source": [
    "# Transform the DF to np array\n",
    "glove = glove.values"
   ]
  },
  {
   "cell_type": "code",
   "execution_count": 114,
   "metadata": {},
   "outputs": [
    {
     "data": {
      "text/plain": [
       "(19366, 300)"
      ]
     },
     "execution_count": 114,
     "metadata": {},
     "output_type": "execute_result"
    }
   ],
   "source": [
    "glove.shape"
   ]
  },
  {
   "cell_type": "markdown",
   "metadata": {},
   "source": [
    "## Util function"
   ]
  },
  {
   "cell_type": "code",
   "execution_count": 8,
   "metadata": {
    "ExecuteTime": {
     "end_time": "2020-03-22T20:39:55.273785Z",
     "start_time": "2020-03-22T20:39:55.159796Z"
    }
   },
   "outputs": [],
   "source": [
    "def to_label(token):\n",
    "    \"\"\"\n",
    "    Simply transfer a token to its numerical label, if the token is not int\n",
    "    the vocab, return the label of UNK\n",
    "    input: \n",
    "        token: str\n",
    "        \n",
    "    output:\n",
    "        int\n",
    "    \"\"\"\n",
    "    return re_vocab.get(token, re_vocab[UNK])\n",
    "\n",
    "def to_embedding(X):\n",
    "    \"\"\"\n",
    "    For the 2 dimensional input X filled with the vocabulary label, \n",
    "    return an np.array of their embedding\n",
    "    \n",
    "    input:\n",
    "        X: np.array(n_sample, sent_len)\n",
    "        \n",
    "    return:\n",
    "        embdding\n",
    "    \"\"\"\n",
    "    embedding = np.zeros((len(X), len(X[0]), glove.shape[1]))\n",
    "    \n",
    "    for i in range(len(X)):\n",
    "        for j in range(len(X[0])):\n",
    "            embedding[i,j,:] = glove[X[i][j]] \n",
    "    \n",
    "    return embedding\n",
    "\n",
    "def sample_with_weight(prob, avoid_UNK=True):\n",
    "    \"\"\"\n",
    "    For a given probability distribution, return a random int sampled by the\n",
    "    probability distribution. \n",
    "    \n",
    "    input:\n",
    "        prob: list of float probability\n",
    "        avoid_UNK: boolean, if UNK should be excluded\n",
    "    \"\"\"\n",
    "    unk_idx = re_vocab[UNK]\n",
    "    \n",
    "    if avoid_UNK: \n",
    "        prob[unk_idx] = 0 # Make sure we do not use UNK in the generated text\n",
    "    \n",
    "    # If the distribution is 0, use uniform distribution\n",
    "    if prob.sum() <= 0:\n",
    "        prob[1:] = 1.0\n",
    "        \n",
    "    return np.random.choice(range(len(prob)), p=prob/prob.sum())"
   ]
  },
  {
   "cell_type": "markdown",
   "metadata": {},
   "source": [
    "# Tri-gram (second order) Markov Model"
   ]
  },
  {
   "cell_type": "markdown",
   "metadata": {},
   "source": [
    "## Build FNN  Bi-Gram model"
   ]
  },
  {
   "cell_type": "code",
   "execution_count": 115,
   "metadata": {
    "ExecuteTime": {
     "end_time": "2020-03-22T20:39:56.259783Z",
     "start_time": "2020-03-22T20:39:55.280568Z"
    },
    "scrolled": false
   },
   "outputs": [
    {
     "name": "stdout",
     "output_type": "stream",
     "text": [
      "Model: \"sequential_3\"\n",
      "_________________________________________________________________\n",
      "Layer (type)                 Output Shape              Param #   \n",
      "=================================================================\n",
      "reshape_1 (Reshape)          (None, 600)               0         \n",
      "_________________________________________________________________\n",
      "Dense-1 (Dense)              (None, 100)               60100     \n",
      "_________________________________________________________________\n",
      "Dense-2 (Dense)              (None, 19366)             1955966   \n",
      "=================================================================\n",
      "Total params: 2,016,066\n",
      "Trainable params: 2,016,066\n",
      "Non-trainable params: 0\n",
      "_________________________________________________________________\n"
     ]
    },
    {
     "data": {
      "image/png": "[encoded data removed]",
      "text/plain": [
       "<IPython.core.display.Image object>"
      ]
     },
     "execution_count": 115,
     "metadata": {},
     "output_type": "execute_result"
    }
   ],
   "source": [
    "from tensorflow.keras.models import Sequential\n",
    "from tensorflow.keras.layers import Dense, Reshape\n",
    "\n",
    "n_gram = 2\n",
    "\n",
    "# For simplicity, we use the embedding of words to feed the model, therefore\n",
    "# no need to add a Embedding layer in the begining. But for a possibly better performance\n",
    "# you can add a embedding layer, even better if you use the glove embedding matrix as the\n",
    "# initial value for the embedding layer\n",
    "# This is useful also because we have filled the embedding with random values for those missing\n",
    "# vocabularies, allowing the embedding matrix to relax during training will improve the performance \n",
    "# for these words as well. But be prepared that this would slow down the training\n",
    "FNN_model = Sequential()\n",
    "FNN_model.add(Reshape(target_shape=(n_gram * glove.shape[1],), \n",
    "                      input_shape=(n_gram, glove.shape[1],)))\n",
    "FNN_model.add(Dense(100, activation=\"relu\", name=\"Dense-1\"))\n",
    "FNN_model.add(Dense(len(vocab), activation=\"softmax\", name=\"Dense-2\"))\n",
    "\n",
    "FNN_model.summary()\n",
    "show_keras_model(FNN_model)"
   ]
  },
  {
   "cell_type": "markdown",
   "metadata": {},
   "source": [
    "## Training data generator"
   ]
  },
  {
   "cell_type": "code",
   "execution_count": 116,
   "metadata": {
    "ExecuteTime": {
     "end_time": "2020-03-22T20:39:56.387115Z",
     "start_time": "2020-03-22T20:39:56.263841Z"
    }
   },
   "outputs": [],
   "source": [
    "from tensorflow.keras.utils import to_categorical\n",
    "import random\n",
    "\n",
    "def gen_sample_FNN(data, batch_size=1000, one_hot=True):\n",
    "    \"\"\"\n",
    "    For training the model, we need to shift the data by -1 to produce\n",
    "    label, i.g.\n",
    "    [\"word1\", \"word2\", \"word3\", \"word4\"] --> \n",
    "    X: [[START, STSRT],\n",
    "        [START, 1],\n",
    "        [1, 2],\n",
    "        [2, 3],\n",
    "        [3, 4]]\n",
    "    Y: [1, 2, 3, 4, ...] if one_hot is False, the label is translated to \n",
    "        one-hot if ont_hot is True\n",
    "    \n",
    "    inputs:\n",
    "        data: list of list of strings\n",
    "        batch_size: int\n",
    "        one_hot: boolean\n",
    "        \n",
    "    outputs:\n",
    "        X: np.array(batch_size, n_gram, embedding_dim)\n",
    "        Y: np.array(batch_size, ) or np.array(batch_size, vocab_size)\n",
    "        \n",
    "    batch size is used to control the size for each data batch\n",
    "    set batch_size = -1 if you don't want to generate by batch\n",
    "    \"\"\"\n",
    "    if batch_size == -1:\n",
    "        batch_size = sum([len(s) + 1 for s in data])\n",
    "        \n",
    "    while True:\n",
    "        # Use shuffle so the order in each epoch is different\n",
    "        random.shuffle(data)\n",
    "\n",
    "        X, Y = [], []\n",
    "        for d in data:\n",
    "            encodes = [re_vocab[START], re_vocab[START]] +\\\n",
    "                      [to_label(t) for t in d] +\\\n",
    "                      [re_vocab[END]]\n",
    "            for i in range(len(encodes) - 2):\n",
    "                X.append([encodes[i], encodes[i+1]])\n",
    "                Y.append(encodes[i+2])\n",
    "\n",
    "                if len(X) >= batch_size:\n",
    "                    X = to_embedding(X)\n",
    "                    Y = np.array(Y)\n",
    "                    \n",
    "                    if one_hot:\n",
    "                        Y = to_categorical(Y, num_classes=len(re_vocab))\n",
    "                        \n",
    "                    yield X, Y\n",
    "                    X, Y = [], []"
   ]
  },
  {
   "cell_type": "markdown",
   "metadata": {},
   "source": [
    "## Generate text"
   ]
  },
  {
   "cell_type": "code",
   "execution_count": 26,
   "metadata": {
    "ExecuteTime": {
     "end_time": "2020-03-22T20:39:56.504701Z",
     "start_time": "2020-03-22T20:39:56.393718Z"
    }
   },
   "outputs": [],
   "source": [
    "def generate_text_FNN(model, max_len=sent_len-1, seed=None):\n",
    "    \"\"\"\n",
    "    For a given FNN model, generate text. If seed is not provided,\n",
    "    use START as initial seed.\n",
    "    \n",
    "    inputs:\n",
    "        model: FNN model\n",
    "        max_len: int, maximum length of the setence\n",
    "        seed: str, the seed word used to generate the text\n",
    "    \"\"\"\n",
    "    \n",
    "    result = []\n",
    "    \n",
    "    \"\"\"\n",
    "    Add your code here\n",
    "    \n",
    "    hints:\n",
    "    1. It's a trigram model, what your intial seed look like?\n",
    "    2. The prediction of each state should return a list of probability, use the \n",
    "       `sample_with_weight` function to help you sample the next word.\n",
    "    3. When the word END is sampled, you need to stop the setence. Also use the max_len\n",
    "       to force ending the setence to avoid the program running forever.\n",
    "    \"\"\"\n",
    "#     pdb.set_trace()\n",
    "    prev = START\n",
    "    if seed is None:\n",
    "        seed = START\n",
    "    next_word = None\n",
    "    result.append(seed)\n",
    "    while next_word != END and len(result) < max_len:\n",
    "        x = [[to_label(prev), to_label(seed)]]\n",
    "        x = to_embedding(x)\n",
    "        prob = model.predict(x).flatten()\n",
    "        next_word = vocab[sample_with_weight(prob)]\n",
    "        result.append(next_word)\n",
    "        prev, seed = seed, next_word\n",
    "        \n",
    "    return ' '.join(result)"
   ]
  },
  {
   "cell_type": "code",
   "execution_count": 117,
   "metadata": {
    "ExecuteTime": {
     "end_time": "2020-03-22T20:39:56.697802Z",
     "start_time": "2020-03-22T20:39:56.510836Z"
    }
   },
   "outputs": [
    {
     "data": {
      "text/plain": [
       "'china elizabeth sweetener approaching medals coins firefighters bushwalk fijians half dries donnybrook crabs cape'"
      ]
     },
     "execution_count": 117,
     "metadata": {},
     "output_type": "execute_result"
    }
   ],
   "source": [
    "# Before we train the model, let first check if the text generation function\n",
    "# works as expected. Don't worry if the sentence doesn't make any sense.\n",
    "# We haven't trained the model yet!\n",
    "generate_text_FNN(FNN_model, seed=\"china\")"
   ]
  },
  {
   "cell_type": "markdown",
   "metadata": {},
   "source": [
    "## Calculate Perplexity"
   ]
  },
  {
   "cell_type": "code",
   "execution_count": 38,
   "metadata": {
    "ExecuteTime": {
     "end_time": "2020-03-22T20:39:56.801374Z",
     "start_time": "2020-03-22T20:39:56.700970Z"
    }
   },
   "outputs": [],
   "source": [
    "def calculate_perplexity_FNN(model, X, y):\n",
    "    \"\"\"\n",
    "    For a given FNN model, and test data, calcualte the perplexity.\n",
    "    The definition of perplexity is:\n",
    "    \n",
    "    perplexity = exp(- \\sum_i log(P_i) / N)\n",
    "    \n",
    "    inputs:\n",
    "        model: FNN model\n",
    "        X: np.array(n_sample, n_gram, embedding_dim)\n",
    "        y: np.array(n_sample), int label of the next word    \n",
    "    \"\"\"\n",
    "    \n",
    "    \"\"\"\n",
    "    Add your code here\n",
    "    \n",
    "    hits:\n",
    "        1. First make the prod prediction using the model\n",
    "        2. The probability at the position of y is what you look for\n",
    "    \n",
    "    When you have too much UNK word, you will find the perplexity to be lower, but it doesn't \n",
    "    really mean your model is better, can you think why?\n",
    "    \"\"\"\n",
    "    prob = model.predict(X)\n",
    "    perplexity = prob[np.arange(len(prob)), y]\n",
    "    perplexity = np.exp(-np.log(perplexity).sum() / len(y))\n",
    "    \n",
    "    return perplexity"
   ]
  },
  {
   "cell_type": "code",
   "execution_count": 118,
   "metadata": {
    "ExecuteTime": {
     "end_time": "2020-03-22T20:39:56.989407Z",
     "start_time": "2020-03-22T20:39:56.804347Z"
    }
   },
   "outputs": [
    {
     "data": {
      "text/plain": [
       "19335.40788832948"
      ]
     },
     "execution_count": 118,
     "metadata": {},
     "output_type": "execute_result"
    }
   ],
   "source": [
    "# Let check the perplexity for the untrained model\n",
    "# Is your value close to the number of vocabulary? \n",
    "# Is this a coincidence?\n",
    "X_dev_FNN, y_dev_FNN = next(gen_sample_FNN(headlines_dev, batch_size=-1, one_hot=False))\n",
    "\n",
    "calculate_perplexity_FNN(FNN_model, X_dev_FNN, y_dev_FNN)"
   ]
  },
  {
   "cell_type": "markdown",
   "metadata": {},
   "source": [
    "$$\n",
    "perplexity = \\exp{-\\frac{1}{N}\\sum_i^N\\log{P(t_i)}} \\approx \\exp{-\\frac{N\\log{1/V}}{N}} = V\n",
    "$$\n",
    "as $P(t_i) \\approx \\frac{1}{V}$, where $V=len(vocab)$"
   ]
  },
  {
   "cell_type": "markdown",
   "metadata": {
    "ExecuteTime": {
     "end_time": "2020-03-15T23:12:21.429617Z",
     "start_time": "2020-03-15T23:12:21.302324Z"
    }
   },
   "source": [
    "## Training the model"
   ]
  },
  {
   "cell_type": "code",
   "execution_count": 42,
   "metadata": {
    "ExecuteTime": {
     "end_time": "2020-03-22T20:39:57.098613Z",
     "start_time": "2020-03-22T20:39:56.992714Z"
    }
   },
   "outputs": [],
   "source": [
    "\"\"\"\n",
    "Let's use the function defined above to report the model performance\n",
    "after each epoch\n",
    "\"\"\"\n",
    "def on_epoch_end_FNN(epoch, logs):\n",
    "    print('----- Generating text after Epoch: %d' % epoch)\n",
    "    for i in range(3):\n",
    "        print(generate_text_FNN(FNN_model))\n",
    "    print('Current perplexity on dev data: ', \n",
    "          calculate_perplexity_FNN(FNN_model, X_dev_FNN, y_dev_FNN), '\\n')"
   ]
  },
  {
   "cell_type": "code",
   "execution_count": 119,
   "metadata": {
    "ExecuteTime": {
     "end_time": "2020-03-22T20:41:22.859257Z",
     "start_time": "2020-03-22T20:39:57.101814Z"
    }
   },
   "outputs": [
    {
     "name": "stderr",
     "output_type": "stream",
     "text": [
      "/Users/apple/opt/anaconda3/lib/python3.7/site-packages/tensorflow/python/keras/engine/training.py:1940: UserWarning: `Model.fit_generator` is deprecated and will be removed in a future version. Please use `Model.fit`, which supports generators.\n",
      "  warnings.warn('`Model.fit_generator` is deprecated and '\n"
     ]
    },
    {
     "name": "stdout",
     "output_type": "stream",
     "text": [
      "Epoch 1/10\n",
      "2892/2892 [==============================] - 575s 198ms/step - loss: 6.6148 - accuracy: 0.1635 - top_k_categorical_accuracy: 0.2736\n",
      "----- Generating text after Epoch: 0\n",
      "<START> given gary accused of everyone foot <END>\n",
      "<START> dry dogs support benefits loom <END>\n",
      "<START> fined over fatal crash at drowning ban impact <END>\n",
      "Current perplexity on dev data:  512.0653507351935 \n",
      "\n",
      "Epoch 2/10\n",
      "2892/2892 [==============================] - 612s 212ms/step - loss: 5.9972 - accuracy: 0.1854 - top_k_categorical_accuracy: 0.3125\n",
      "----- Generating text after Epoch: 1\n",
      "<START> picket company charges laid fatal nearly travel card slams hostel shooting <END>\n",
      "<START> bendigo residents fear relief kept on a punch trump <END>\n",
      "<START> search to go after slow incidents in north korea tops sustainability experience tests\n",
      "Current perplexity on dev data:  445.68307072256766 \n",
      "\n",
      "Epoch 3/10\n",
      "2892/2892 [==============================] - 560s 194ms/step - loss: 5.7851 - accuracy: 0.1926 - top_k_categorical_accuracy: 0.3247\n",
      "----- Generating text after Epoch: 2\n",
      "<START> big and sell faster with info for rural town <END>\n",
      "<START> wage rise <END>\n",
      "<START> missing mh370 <END>\n",
      "Current perplexity on dev data:  442.9315482541987 \n",
      "\n",
      "Epoch 4/10\n",
      "2892/2892 [==============================] - 460s 159ms/step - loss: 5.6667 - accuracy: 0.1957 - top_k_categorical_accuracy: 0.3310\n",
      "----- Generating text after Epoch: 3\n",
      "<START> tallis takes at agm bid to re steroids smuggling charges continue concerns over\n",
      "<START> charlie hebdo acknowledges to sell blast <END>\n",
      "<START> thousand goal <END>\n",
      "Current perplexity on dev data:  460.4944318964298 \n",
      "\n",
      "Epoch 5/10\n",
      "2892/2892 [==============================] - 462s 160ms/step - loss: 5.5889 - accuracy: 0.1978 - top_k_categorical_accuracy: 0.3351\n",
      "----- Generating text after Epoch: 4\n",
      "<START> queensland expected to bend sight from malaysia elects light on flood leave respite\n",
      "<START> vic cafe thief ord cruises towers full super trawler <END>\n",
      "<START> police visit execution <END>\n",
      "Current perplexity on dev data:  481.43059472014926 \n",
      "\n",
      "Epoch 6/10\n",
      "2892/2892 [==============================] - 466s 161ms/step - loss: 5.5346 - accuracy: 0.1996 - top_k_categorical_accuracy: 0.3381\n",
      "----- Generating text after Epoch: 5\n",
      "<START> govt to buy up to more mining investment <END>\n",
      "<START> howard to launch museum art gallery <END>\n",
      "<START> baby dry conditions <END>\n",
      "Current perplexity on dev data:  506.9822359862503 \n",
      "\n",
      "Epoch 7/10\n",
      "2892/2892 [==============================] - 450s 156ms/step - loss: 5.4936 - accuracy: 0.2005 - top_k_categorical_accuracy: 0.3413\n",
      "----- Generating text after Epoch: 6\n",
      "<START> excess queensland mp questions more uni campus into remote schools from christmas period\n",
      "<START> schoolies centre plan <END>\n",
      "<START> treasure trove <END>\n",
      "Current perplexity on dev data:  531.5267527664513 \n",
      "\n",
      "Epoch 8/10\n",
      "2892/2892 [==============================] - 448s 155ms/step - loss: 5.4619 - accuracy: 0.2017 - top_k_categorical_accuracy: 0.3438\n",
      "----- Generating text after Epoch: 7\n",
      "<START> hundreds of christmas road map for carbon stand <END>\n",
      "<START> foodbank to seek legal action <END>\n",
      "<START> telstra plea laws <END>\n",
      "Current perplexity on dev data:  554.5127836000257 \n",
      "\n",
      "Epoch 9/10\n",
      "2892/2892 [==============================] - 454s 157ms/step - loss: 5.4360 - accuracy: 0.2028 - top_k_categorical_accuracy: 0.3461\n",
      "----- Generating text after Epoch: 8\n",
      "<START> jury begins deliberations <END>\n",
      "<START> workers use in gay at us open in samoa <END>\n",
      "<START> australia urged to meet tech league <END>\n",
      "Current perplexity on dev data:  575.856022903689 \n",
      "\n",
      "Epoch 10/10\n",
      "2892/2892 [==============================] - 450s 155ms/step - loss: 5.4157 - accuracy: 0.2039 - top_k_categorical_accuracy: 0.3479\n",
      "----- Generating text after Epoch: 9\n",
      "<START> nitrate war kills in afghanistan <END>\n",
      "<START> two italians chen <END>\n",
      "<START> alex doolan to senate <END>\n",
      "Current perplexity on dev data:  598.2977851754071 \n",
      "\n"
     ]
    },
    {
     "data": {
      "text/plain": [
       "<tensorflow.python.keras.callbacks.History at 0x7ff48f841410>"
      ]
     },
     "execution_count": 119,
     "metadata": {},
     "output_type": "execute_result"
    }
   ],
   "source": [
    "from tensorflow.keras.callbacks import LambdaCallback\n",
    "\n",
    "\"\"\"\n",
    "Notice how the metrics / generated text evolve after each epoch\n",
    "\"\"\"\n",
    "FNN_model.compile(loss='categorical_crossentropy', \n",
    "              optimizer='adam', \n",
    "              metrics=['accuracy', 'top_k_categorical_accuracy'])\n",
    "\n",
    "batch_size = 512\n",
    "steps_per_epoch = sum([len(s) + 1 for s in headlines_train]) // batch_size + 1\n",
    "FNN_model.fit_generator(gen_sample_FNN(headlines_train, batch_size=batch_size), \n",
    "                        epochs = 10, steps_per_epoch=steps_per_epoch,\n",
    "                        callbacks=[LambdaCallback(on_epoch_end=on_epoch_end_FNN)])"
   ]
  },
  {
   "cell_type": "markdown",
   "metadata": {},
   "source": [
    "# Word-based RNN Language Model"
   ]
  },
  {
   "cell_type": "markdown",
   "metadata": {},
   "source": [
    "## Build LSTM model"
   ]
  },
  {
   "cell_type": "code",
   "execution_count": 45,
   "metadata": {},
   "outputs": [
    {
     "data": {
      "text/plain": [
       "(3152, 300)"
      ]
     },
     "execution_count": 45,
     "metadata": {},
     "output_type": "execute_result"
    }
   ],
   "source": [
    "glove.shape"
   ]
  },
  {
   "cell_type": "code",
   "execution_count": 120,
   "metadata": {
    "ExecuteTime": {
     "end_time": "2020-03-22T20:41:24.046904Z",
     "start_time": "2020-03-22T20:41:22.861780Z"
    }
   },
   "outputs": [
    {
     "name": "stdout",
     "output_type": "stream",
     "text": [
      "Model: \"sequential_4\"\n",
      "_________________________________________________________________\n",
      "Layer (type)                 Output Shape              Param #   \n",
      "=================================================================\n",
      "lstm_2 (LSTM)                (None, 15, 128)           219648    \n",
      "_________________________________________________________________\n",
      "time_distributed_2 (TimeDist (None, 15, 19366)         2498214   \n",
      "=================================================================\n",
      "Total params: 2,717,862\n",
      "Trainable params: 2,717,862\n",
      "Non-trainable params: 0\n",
      "_________________________________________________________________\n"
     ]
    },
    {
     "data": {
      "image/png": "[encoded data removed]",
      "text/plain": [
       "<IPython.core.display.Image object>"
      ]
     },
     "execution_count": 120,
     "metadata": {},
     "output_type": "execute_result"
    }
   ],
   "source": [
    "from keras.layers import Dense, LSTM, Activation, TimeDistributed\n",
    "\n",
    "# For simplicity, we use the embedding of words to feed the model, therefore\n",
    "# no need to add a Embedding layer in the begining. But for a possibly better performance\n",
    "# you can add a embedding layer, even better if you use the glove embedding matrix as the\n",
    "# initial value for the embedding layer\n",
    "# This is useful also because we have filled the embedding with random values for those missing\n",
    "# vocabularies, allowing the embedding matrix to relax during training will improve the performance \n",
    "# for these words as well. But be prepared that this would slow down the training\n",
    "\n",
    "# Unfortunately Keras does not have an easy way to support dynamic length of input for RNN model.\n",
    "# So we use the sent_len to truncate all the sentences.\n",
    "batch_size = 10\n",
    "RNN_train_model = Sequential()\n",
    "RNN_train_model.add(\n",
    "    LSTM(128, input_shape=(sent_len, glove.shape[1]), return_sequences=True)\n",
    "    )\n",
    "RNN_train_model.add(TimeDistributed(Dense(len(vocab), activation='softmax')))\n",
    "RNN_train_model.summary()\n",
    "show_keras_model(RNN_train_model)"
   ]
  },
  {
   "cell_type": "code",
   "execution_count": 121,
   "metadata": {
    "ExecuteTime": {
     "end_time": "2020-03-22T20:41:25.068865Z",
     "start_time": "2020-03-22T20:41:24.051334Z"
    }
   },
   "outputs": [
    {
     "name": "stdout",
     "output_type": "stream",
     "text": [
      "Model: \"sequential_5\"\n",
      "_________________________________________________________________\n",
      "Layer (type)                 Output Shape              Param #   \n",
      "=================================================================\n",
      "lstm_3 (LSTM)                (1, 1, 128)               219648    \n",
      "_________________________________________________________________\n",
      "time_distributed_3 (TimeDist (1, 1, 19366)             2498214   \n",
      "=================================================================\n",
      "Total params: 2,717,862\n",
      "Trainable params: 2,717,862\n",
      "Non-trainable params: 0\n",
      "_________________________________________________________________\n"
     ]
    },
    {
     "data": {
      "image/png": "[encoded data removed]",
      "text/plain": [
       "<IPython.core.display.Image object>"
      ]
     },
     "execution_count": 121,
     "metadata": {},
     "output_type": "execute_result"
    }
   ],
   "source": [
    "from keras.layers import Dense, LSTM, Activation, TimeDistributed\n",
    "\n",
    "\"\"\"\n",
    "# It's tricky to explain why we need the RNN_pred_model. \n",
    "# The RNN_train_model.predict requires a fix length of input (sent_len in our case).\n",
    "# This is not convenient for us because we need to generate the next text one by one.\n",
    "# The trick we play here is to create a shadow model having only 1 time step. We will\n",
    "# copy the parameter of the RNN_train_model to this model once it's trained.\n",
    "# Check generate_text_RNN function to understand details, and there is some discussion \n",
    "# here: \"https://github.com/keras-team/keras/issues/8771\"\n",
    "\"\"\"\n",
    "\n",
    "RNN_pred_model = Sequential()\n",
    "RNN_pred_model.add(\n",
    "    LSTM(128, batch_input_shape=(1, 1, glove.shape[1]), return_sequences=True, stateful=True)\n",
    "    )\n",
    "RNN_pred_model.add(TimeDistributed(Dense(len(vocab), activation='softmax')))\n",
    "RNN_pred_model.summary()\n",
    "show_keras_model(RNN_pred_model)"
   ]
  },
  {
   "cell_type": "markdown",
   "metadata": {},
   "source": [
    "## Training data generator"
   ]
  },
  {
   "cell_type": "code",
   "execution_count": 48,
   "metadata": {
    "ExecuteTime": {
     "end_time": "2020-03-22T20:41:25.246426Z",
     "start_time": "2020-03-22T20:41:25.074446Z"
    }
   },
   "outputs": [],
   "source": [
    "from keras.preprocessing.sequence import pad_sequences\n",
    "\n",
    "def gen_sample_RNN(data, batch_size=100, one_hot=True):\n",
    "    \"\"\"\n",
    "    The input is the same to the FNN model, but the output training data is different.\n",
    "    \n",
    "    inputs:\n",
    "        data: list of list of string\n",
    "        batch_size: int\n",
    "        one_hot: boolean\n",
    "        \n",
    "    output:\n",
    "        X: np.array(batch_size, sent_len, embedding_dim)\n",
    "        Y: np.array(batch_size, sent_len, ) or np.array(batch_size, sent_len, vocab_size)\n",
    "    \"\"\"\n",
    "    if batch_size == -1:\n",
    "        batch_size = len(data)\n",
    "        \n",
    "    while True:\n",
    "        # Shuffle the data so data order is different for different epochs\n",
    "        random.shuffle(data)\n",
    "\n",
    "        X, Y = [], []\n",
    "        for s in data:\n",
    "            X.append([to_label(START)] + [to_label(t) for t in s])\n",
    "            Y.append([to_label(t) for t in s] + [to_label(END)])\n",
    "            \n",
    "            if len(X) >= batch_size:   \n",
    "                X = pad_sequences(sequences=X, maxlen=sent_len, padding='post', value=to_label(END))\n",
    "                Y = pad_sequences(sequences=Y, maxlen=sent_len, padding='post', value=to_label(END))\n",
    "          \n",
    "                if one_hot: Y = to_categorical(Y, num_classes=len(re_vocab))\n",
    "                \n",
    "                yield to_embedding(X), Y\n",
    "                \n",
    "                X, Y = [], []"
   ]
  },
  {
   "cell_type": "markdown",
   "metadata": {},
   "source": [
    "## Generate text"
   ]
  },
  {
   "cell_type": "code",
   "execution_count": 49,
   "metadata": {
    "ExecuteTime": {
     "end_time": "2020-03-22T20:41:25.397070Z",
     "start_time": "2020-03-22T20:41:25.257325Z"
    }
   },
   "outputs": [],
   "source": [
    "def generate_text_RNN(model, max_len=sent_len-1, seed=None):\n",
    "    \"\"\"\n",
    "    Use the RNN_pred_model to generate text. Notice how we use the stateful model to generate\n",
    "    the next word one by one. Make sure you fully understand each line of this code. \n",
    "    \"\"\"\n",
    "    if seed is None:\n",
    "        seed = START\n",
    "        result = []\n",
    "    else:\n",
    "        result = [seed]\n",
    "    \n",
    "    model.reset_states()\n",
    "    \n",
    "    for i in range(max_len):\n",
    "        X = to_embedding([[to_label(seed)]])\n",
    "        idx = sample_with_weight(model.predict(X)[0][0])\n",
    "        \n",
    "        if vocab[idx] == END: break\n",
    "            \n",
    "        seed = vocab[idx]\n",
    "        result.append(seed)\n",
    "        \n",
    "    return ' '.join(result)"
   ]
  },
  {
   "cell_type": "code",
   "execution_count": 122,
   "metadata": {
    "ExecuteTime": {
     "end_time": "2020-03-22T20:41:25.670440Z",
     "start_time": "2020-03-22T20:41:25.400064Z"
    }
   },
   "outputs": [
    {
     "data": {
      "text/plain": [
       "'china 18s hep embarrass ultimate canes schwab batting oysters potter chester evans wastage darren covered'"
      ]
     },
     "execution_count": 122,
     "metadata": {},
     "output_type": "execute_result"
    }
   ],
   "source": [
    "generate_text_RNN(RNN_pred_model, seed=\"china\")"
   ]
  },
  {
   "cell_type": "markdown",
   "metadata": {
    "ExecuteTime": {
     "end_time": "2020-03-22T00:48:16.334866Z",
     "start_time": "2020-03-22T00:48:16.220610Z"
    }
   },
   "source": [
    "## Calculate Perplexity"
   ]
  },
  {
   "cell_type": "code",
   "execution_count": 104,
   "metadata": {
    "ExecuteTime": {
     "end_time": "2020-03-22T20:41:25.835637Z",
     "start_time": "2020-03-22T20:41:25.676315Z"
    }
   },
   "outputs": [],
   "source": [
    "def calculate_perplexity_RNN(model, X, y):\n",
    "    \"\"\"\n",
    "    For a given FNN model, and test data, calcualte the perplexity.\n",
    "    The definition of perplexity is:\n",
    "    \n",
    "    perplexity = exp(- \\sum_i log(P_i) / N)\n",
    "    \n",
    "    inputs:\n",
    "        model: FNN model\n",
    "        X: np.array(n_sample, sent_len, embedding_dim)\n",
    "        y: np.array(n_sample, sent_len), int labels\n",
    "    \"\"\"\n",
    "    \n",
    "    \"\"\"\n",
    "    Add your code here\n",
    "    \n",
    "    hits:\n",
    "        1. First make the prod prediction using the RNN_train_model\n",
    "        2. The probability at the position of y is what you look for\n",
    "        3. All sentences have fixed length, meaning a sentence can have multiple padding END at the end\n",
    "           of a sentence. Consider stop counting the perplexity once you hit the first END, otherwise\n",
    "           your perplexity will seem too good.\n",
    "    \n",
    "    When you have too much UNK word, you will find the perplexity to be lower, but it doesn't \n",
    "    really mean your model is better, can you think why?\n",
    "    \"\"\"\n",
    "    perplexity = 0\n",
    "    sent_len = 0\n",
    "    prob = model.predict(X)\n",
    "    for x, target in zip(prob, y):\n",
    "        p = x[target!=2, target[target!=2]]\n",
    "        sent_len += len(p)\n",
    "#         print(perplexity)\n",
    "        perplexity += np.log(p).sum()\n",
    "    perplexity = np.exp(-perplexity/sent_len)\n",
    "#     print(perplexity, sent_len)\n",
    "    return perplexity"
   ]
  },
  {
   "cell_type": "code",
   "execution_count": 123,
   "metadata": {
    "ExecuteTime": {
     "end_time": "2020-03-22T20:41:26.330668Z",
     "start_time": "2020-03-22T20:41:25.849151Z"
    }
   },
   "outputs": [
    {
     "data": {
      "text/plain": [
       "19373.70989014302"
      ]
     },
     "execution_count": 123,
     "metadata": {},
     "output_type": "execute_result"
    }
   ],
   "source": [
    "# Let check the perplexity for the untrained model\n",
    "# Is your value close to the number of vocabulary? \n",
    "# Is this a coincidence?\n",
    "X_dev_RNN, y_dev_RNN = next(gen_sample_RNN(headlines_dev, batch_size=-1, one_hot=False))\n",
    "\n",
    "calculate_perplexity_RNN(RNN_train_model, X_dev_RNN, y_dev_RNN)"
   ]
  },
  {
   "cell_type": "markdown",
   "metadata": {},
   "source": [
    "## Train model"
   ]
  },
  {
   "cell_type": "code",
   "execution_count": 124,
   "metadata": {
    "ExecuteTime": {
     "end_time": "2020-03-22T20:41:26.481542Z",
     "start_time": "2020-03-22T20:41:26.334649Z"
    }
   },
   "outputs": [],
   "source": [
    "\"\"\"\n",
    "Let's use the function defined above to report the model performance\n",
    "after each epoch\n",
    "\"\"\"\n",
    "def on_epoch_end_RNN(epoch, logs):\n",
    "    RNN_pred_model.set_weights(RNN_train_model.get_weights())\n",
    "    print('----- Generating text after Epoch: %d' % epoch)\n",
    "    for i in range(3):\n",
    "        print(generate_text_RNN(RNN_pred_model))\n",
    "    print('Current perplexity on dev data: ', \n",
    "          calculate_perplexity_RNN(RNN_train_model, X_dev_RNN, y_dev_RNN), '\\n')"
   ]
  },
  {
   "cell_type": "code",
   "execution_count": 125,
   "metadata": {
    "ExecuteTime": {
     "end_time": "2020-03-22T20:43:25.495611Z",
     "start_time": "2020-03-22T20:42:34.521146Z"
    }
   },
   "outputs": [
    {
     "name": "stderr",
     "output_type": "stream",
     "text": [
      "/Users/apple/opt/anaconda3/lib/python3.7/site-packages/tensorflow/python/keras/engine/training.py:1940: UserWarning: `Model.fit_generator` is deprecated and will be removed in a future version. Please use `Model.fit`, which supports generators.\n",
      "  warnings.warn('`Model.fit_generator` is deprecated and '\n"
     ]
    },
    {
     "name": "stdout",
     "output_type": "stream",
     "text": [
      "Epoch 1/3\n",
      "20000/20000 [==============================] - 1882s 94ms/step - loss: 3.1181\n",
      "----- Generating text after Epoch: 0\n",
      "rural communities react on voting on bad farms\n",
      "new storm retail grain prices property bass bowler 70\n",
      "younis sets wright\n",
      "Current perplexity on dev data:  835.4387401390444 \n",
      "\n",
      "Epoch 2/3\n",
      "20000/20000 [==============================] - 1838s 92ms/step - loss: 2.8322\n",
      "----- Generating text after Epoch: 1\n",
      "atsic asset drives council omission\n",
      "obama warns off bush gas exports cheetahs breakthrough\n",
      "chris gardner reprimanded over ipswich leave pressure over shellfish trafficking\n",
      "Current perplexity on dev data:  732.894809312604 \n",
      "\n",
      "Epoch 3/3\n",
      "20000/20000 [==============================] - 1835s 92ms/step - loss: 2.7479\n",
      "----- Generating text after Epoch: 2\n",
      "china ombudsman retires a month year report\n",
      "premier denies on day waca win\n",
      "breakers pirsa with nz one ball win\n",
      "Current perplexity on dev data:  712.791635634523 \n",
      "\n"
     ]
    },
    {
     "data": {
      "text/plain": [
       "<tensorflow.python.keras.callbacks.History at 0x7ff06a870f50>"
      ]
     },
     "execution_count": 125,
     "metadata": {},
     "output_type": "execute_result"
    }
   ],
   "source": [
    "\"\"\"\n",
    "Notice how the metrics / generated text evolve after each epoch\n",
    "\"\"\"\n",
    "batch_size = 10\n",
    "num_batches = len(headlines_train) // batch_size \n",
    "RNN_train_model.compile(loss='categorical_crossentropy', optimizer='adam')\n",
    "RNN_train_model.fit_generator(gen_sample_RNN(headlines_train, batch_size), num_batches, 3,\n",
    "          callbacks=[LambdaCallback(on_epoch_end=on_epoch_end_RNN)])"
   ]
  },
  {
   "cell_type": "code",
   "execution_count": 109,
   "metadata": {},
   "outputs": [
    {
     "data": {
      "text/plain": [
       "10000"
      ]
     },
     "execution_count": 109,
     "metadata": {},
     "output_type": "execute_result"
    }
   ],
   "source": [
    "len(headlines_train)"
   ]
  }
 ],
 "metadata": {
  "kernelspec": {
   "display_name": "Python 3",
   "language": "python",
   "name": "python3"
  },
  "language_info": {
   "codemirror_mode": {
    "name": "ipython",
    "version": 3
   },
   "file_extension": ".py",
   "mimetype": "text/x-python",
   "name": "python",
   "nbconvert_exporter": "python",
   "pygments_lexer": "ipython3",
   "version": "3.7.6"
  },
  "toc": {
   "base_numbering": 1,
   "nav_menu": {},
   "number_sections": false,
   "sideBar": true,
   "skip_h1_title": false,
   "title_cell": "Table of Contents",
   "title_sidebar": "Contents",
   "toc_cell": false,
   "toc_position": {
    "height": "calc(100% - 180px)",
    "left": "10px",
    "top": "150px",
    "width": "288px"
   },
   "toc_section_display": true,
   "toc_window_display": false
  }
 },
 "nbformat": 4,
 "nbformat_minor": 2
}
